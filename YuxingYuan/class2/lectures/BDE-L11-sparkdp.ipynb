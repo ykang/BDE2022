{
 "cells": [
  {
   "cell_type": "markdown",
   "metadata": {
    "slideshow": {
     "slide_type": "slide"
    }
   },
   "source": [
    "# Big Data Essentials\n",
    "#### L11:  Data Processing with Spark\n",
    "\n",
    "\n",
    "<br>\n",
    "<br>\n",
    "<br>\n",
    "<br>\n",
    "Yanfei Kang <br>\n",
    "yanfeikang@buaa.edu.cn <br>\n",
    "School of Economics and Management <br>\n",
    "Beihang University <br>\n",
    "http://yanfei.site <br>"
   ]
  },
  {
   "cell_type": "markdown",
   "metadata": {
    "slideshow": {
     "slide_type": "slide"
    }
   },
   "source": [
    "# Two interfaces of Spark\n",
    "\n",
    "- RDD (before Spark 2.0)\n",
    "\n",
    "- Dataset, which is strongly-typed like an RDD, but with richer optimizations under the hood. "
   ]
  },
  {
   "cell_type": "markdown",
   "metadata": {
    "slideshow": {
     "slide_type": "slide"
    }
   },
   "source": [
    "# Spark SQL, DataFrames and Datasets \n",
    "\n",
    "- Spark SQL is a Spark module for *structured data processing*. \n",
    "\n",
    "- Unlike RDD, Spark SQL provides Spark with more information about the structure of both the data and the computation being performed. \n",
    "\n",
    "- There are several ways to interact with Spark SQL including SQL and the Dataset API. "
   ]
  },
  {
   "cell_type": "markdown",
   "metadata": {
    "slideshow": {
     "slide_type": "slide"
    }
   },
   "source": [
    "## Spark SQL\n",
    "\n",
    "\n",
    "- One use of Spark SQL is to execute SQL queries.\n",
    "\n",
    "- Spark SQL can also be used to read data from an existing Hive installation.\n",
    "\n",
    "- When running SQL from within another programming language the results will be returned as a Dataset/DataFrame."
   ]
  },
  {
   "cell_type": "markdown",
   "metadata": {
    "slideshow": {
     "slide_type": "slide"
    }
   },
   "source": [
    "## Spark Datasets\n",
    "\n",
    "- A Dataset is a distributed collection of data.\n",
    "\n",
    "- Dataset can be constructed from JVM objects and then manipulated using functional transformations (`map, flatMap, filter`, etc.). \n",
    "\n",
    "- The Dataset API is available in **Scala** and **Java**. \n",
    "\n",
    "- Python **does not have the support for the Dataset API**. But due to Python’s dynamic nature, many of the benefits of the Dataset API are already available (i.e. you can access the field of a row by name naturally row.columnName)."
   ]
  },
  {
   "cell_type": "markdown",
   "metadata": {
    "slideshow": {
     "slide_type": "slide"
    }
   },
   "source": [
    "## Spark DataFrame\n",
    "\n",
    "- A DataFrame is a Dataset organized into named columns. \n",
    "\n",
    "- It is conceptually equivalent to a table in a relational database or a data frame in R/Python, but with richer optimizations under the hood. \n",
    "\n",
    "- DataFrames can be constructed from a wide array of sources such as: \n",
    "\n",
    "    - structured data files, \n",
    "    - tables in Hive, \n",
    "    - external databases, or \n",
    "    - existing RDDs. \n",
    "    \n",
    "- The DataFrame API is available in Scala, Java, Python, and R. "
   ]
  },
  {
   "cell_type": "markdown",
   "metadata": {
    "slideshow": {
     "slide_type": "slide"
    }
   },
   "source": [
    "## Spark session and spark context\n",
    "\n",
    "### What is SparkContext\n",
    "Spark SparkContext is an entry point to Spark and defined in org.apache.spark package since 1.x and used to programmatically create Spark RDD, accumulators and broadcast variables on the cluster. Since Spark 2.0 most of the functionalities (methods) available in SparkContext are also available in SparkSession. Its object sc is default available in spark-shell and it can be programmatically created using SparkContext class.\n",
    "\n",
    "### What is SparkSession\n",
    "SparkSession introduced in version 2.0 and and is an entry point to underlying Spark functionality in order to programmatically create Spark RDD, DataFrame and DataSet. It’s object spark is default available in spark-shell and it can be created programmatically using SparkSession builder pattern."
   ]
  },
  {
   "cell_type": "markdown",
   "metadata": {
    "slideshow": {
     "slide_type": "slide"
    }
   },
   "source": [
    "## Start a Spark session\n"
   ]
  },
  {
   "cell_type": "code",
   "execution_count": 4,
   "metadata": {
    "slideshow": {
     "slide_type": "slide"
    }
   },
   "outputs": [
    {
     "name": "stderr",
     "output_type": "stream",
     "text": [
      "ERROR:py4j.java_gateway:An error occurred while trying to connect to the Java server (127.0.0.1:40395)\n",
      "Traceback (most recent call last):\n",
      "  File \"/usr/lib/spark-current/python/lib/py4j-0.10.9-src.zip/py4j/java_gateway.py\", line 977, in _get_connection\n",
      "    connection = self.deque.pop()\n",
      "IndexError: pop from an empty deque\n",
      "\n",
      "During handling of the above exception, another exception occurred:\n",
      "\n",
      "Traceback (most recent call last):\n",
      "  File \"/usr/lib/spark-current/python/lib/py4j-0.10.9-src.zip/py4j/java_gateway.py\", line 1115, in start\n",
      "    self.socket.connect((self.address, self.port))\n",
      "ConnectionRefusedError: [Errno 111] Connection refused\n"
     ]
    },
    {
     "ename": "Py4JNetworkError",
     "evalue": "An error occurred while trying to connect to the Java server (127.0.0.1:40395)",
     "output_type": "error",
     "traceback": [
      "\u001b[0;31m---------------------------------------------------------------------------\u001b[0m",
      "\u001b[0;31mIndexError\u001b[0m                                Traceback (most recent call last)",
      "\u001b[0;32m/usr/lib/spark-current/python/lib/py4j-0.10.9-src.zip/py4j/java_gateway.py\u001b[0m in \u001b[0;36m_get_connection\u001b[0;34m(self)\u001b[0m\n\u001b[1;32m    976\u001b[0m         \u001b[0;32mtry\u001b[0m\u001b[0;34m:\u001b[0m\u001b[0;34m\u001b[0m\u001b[0;34m\u001b[0m\u001b[0m\n\u001b[0;32m--> 977\u001b[0;31m             \u001b[0mconnection\u001b[0m \u001b[0;34m=\u001b[0m \u001b[0mself\u001b[0m\u001b[0;34m.\u001b[0m\u001b[0mdeque\u001b[0m\u001b[0;34m.\u001b[0m\u001b[0mpop\u001b[0m\u001b[0;34m(\u001b[0m\u001b[0;34m)\u001b[0m\u001b[0;34m\u001b[0m\u001b[0;34m\u001b[0m\u001b[0m\n\u001b[0m\u001b[1;32m    978\u001b[0m         \u001b[0;32mexcept\u001b[0m \u001b[0mIndexError\u001b[0m\u001b[0;34m:\u001b[0m\u001b[0;34m\u001b[0m\u001b[0;34m\u001b[0m\u001b[0m\n",
      "\u001b[0;31mIndexError\u001b[0m: pop from an empty deque",
      "\nDuring handling of the above exception, another exception occurred:\n",
      "\u001b[0;31mConnectionRefusedError\u001b[0m                    Traceback (most recent call last)",
      "\u001b[0;32m/usr/lib/spark-current/python/lib/py4j-0.10.9-src.zip/py4j/java_gateway.py\u001b[0m in \u001b[0;36mstart\u001b[0;34m(self)\u001b[0m\n\u001b[1;32m   1114\u001b[0m         \u001b[0;32mtry\u001b[0m\u001b[0;34m:\u001b[0m\u001b[0;34m\u001b[0m\u001b[0;34m\u001b[0m\u001b[0m\n\u001b[0;32m-> 1115\u001b[0;31m             \u001b[0mself\u001b[0m\u001b[0;34m.\u001b[0m\u001b[0msocket\u001b[0m\u001b[0;34m.\u001b[0m\u001b[0mconnect\u001b[0m\u001b[0;34m(\u001b[0m\u001b[0;34m(\u001b[0m\u001b[0mself\u001b[0m\u001b[0;34m.\u001b[0m\u001b[0maddress\u001b[0m\u001b[0;34m,\u001b[0m \u001b[0mself\u001b[0m\u001b[0;34m.\u001b[0m\u001b[0mport\u001b[0m\u001b[0;34m)\u001b[0m\u001b[0;34m)\u001b[0m\u001b[0;34m\u001b[0m\u001b[0;34m\u001b[0m\u001b[0m\n\u001b[0m\u001b[1;32m   1116\u001b[0m             \u001b[0mself\u001b[0m\u001b[0;34m.\u001b[0m\u001b[0mstream\u001b[0m \u001b[0;34m=\u001b[0m \u001b[0mself\u001b[0m\u001b[0;34m.\u001b[0m\u001b[0msocket\u001b[0m\u001b[0;34m.\u001b[0m\u001b[0mmakefile\u001b[0m\u001b[0;34m(\u001b[0m\u001b[0;34m\"rb\"\u001b[0m\u001b[0;34m)\u001b[0m\u001b[0;34m\u001b[0m\u001b[0;34m\u001b[0m\u001b[0m\n",
      "\u001b[0;31mConnectionRefusedError\u001b[0m: [Errno 111] Connection refused",
      "\nDuring handling of the above exception, another exception occurred:\n",
      "\u001b[0;31mPy4JNetworkError\u001b[0m                          Traceback (most recent call last)",
      "\u001b[0;32m/tmp/ipykernel_26019/3350855129.py\u001b[0m in \u001b[0;36m<module>\u001b[0;34m\u001b[0m\n\u001b[1;32m      3\u001b[0m \u001b[0;32mimport\u001b[0m \u001b[0mpyspark\u001b[0m\u001b[0;34m\u001b[0m\u001b[0;34m\u001b[0m\u001b[0m\n\u001b[1;32m      4\u001b[0m \u001b[0;32mfrom\u001b[0m \u001b[0mpyspark\u001b[0m\u001b[0;34m.\u001b[0m\u001b[0msql\u001b[0m \u001b[0;32mimport\u001b[0m \u001b[0mSparkSession\u001b[0m\u001b[0;34m\u001b[0m\u001b[0;34m\u001b[0m\u001b[0m\n\u001b[0;32m----> 5\u001b[0;31m \u001b[0mspark\u001b[0m \u001b[0;34m=\u001b[0m \u001b[0mSparkSession\u001b[0m\u001b[0;34m.\u001b[0m\u001b[0mbuilder\u001b[0m\u001b[0;34m.\u001b[0m\u001b[0mappName\u001b[0m\u001b[0;34m(\u001b[0m\u001b[0;34m\"Python Spark\"\u001b[0m\u001b[0;34m)\u001b[0m\u001b[0;34m.\u001b[0m\u001b[0mgetOrCreate\u001b[0m\u001b[0;34m(\u001b[0m\u001b[0;34m)\u001b[0m\u001b[0;34m\u001b[0m\u001b[0;34m\u001b[0m\u001b[0m\n\u001b[0m",
      "\u001b[0;32m/usr/lib/spark-current/python/pyspark/sql/session.py\u001b[0m in \u001b[0;36mgetOrCreate\u001b[0;34m(self)\u001b[0m\n\u001b[1;32m    222\u001b[0m                         \u001b[0msc\u001b[0m \u001b[0;34m=\u001b[0m \u001b[0mself\u001b[0m\u001b[0;34m.\u001b[0m\u001b[0m_sc\u001b[0m\u001b[0;34m\u001b[0m\u001b[0;34m\u001b[0m\u001b[0m\n\u001b[1;32m    223\u001b[0m                     \u001b[0;32melse\u001b[0m\u001b[0;34m:\u001b[0m\u001b[0;34m\u001b[0m\u001b[0;34m\u001b[0m\u001b[0m\n\u001b[0;32m--> 224\u001b[0;31m                         \u001b[0msparkConf\u001b[0m \u001b[0;34m=\u001b[0m \u001b[0mSparkConf\u001b[0m\u001b[0;34m(\u001b[0m\u001b[0;34m)\u001b[0m\u001b[0;34m\u001b[0m\u001b[0;34m\u001b[0m\u001b[0m\n\u001b[0m\u001b[1;32m    225\u001b[0m                         \u001b[0;32mfor\u001b[0m \u001b[0mkey\u001b[0m\u001b[0;34m,\u001b[0m \u001b[0mvalue\u001b[0m \u001b[0;32min\u001b[0m \u001b[0mself\u001b[0m\u001b[0;34m.\u001b[0m\u001b[0m_options\u001b[0m\u001b[0;34m.\u001b[0m\u001b[0mitems\u001b[0m\u001b[0;34m(\u001b[0m\u001b[0;34m)\u001b[0m\u001b[0;34m:\u001b[0m\u001b[0;34m\u001b[0m\u001b[0;34m\u001b[0m\u001b[0m\n\u001b[1;32m    226\u001b[0m                             \u001b[0msparkConf\u001b[0m\u001b[0;34m.\u001b[0m\u001b[0mset\u001b[0m\u001b[0;34m(\u001b[0m\u001b[0mkey\u001b[0m\u001b[0;34m,\u001b[0m \u001b[0mvalue\u001b[0m\u001b[0;34m)\u001b[0m\u001b[0;34m\u001b[0m\u001b[0;34m\u001b[0m\u001b[0m\n",
      "\u001b[0;32m/usr/lib/spark-current/python/pyspark/conf.py\u001b[0m in \u001b[0;36m__init__\u001b[0;34m(self, loadDefaults, _jvm, _jconf)\u001b[0m\n\u001b[1;32m    118\u001b[0m             \u001b[0;32mif\u001b[0m \u001b[0m_jvm\u001b[0m \u001b[0;32mis\u001b[0m \u001b[0;32mnot\u001b[0m \u001b[0;32mNone\u001b[0m\u001b[0;34m:\u001b[0m\u001b[0;34m\u001b[0m\u001b[0;34m\u001b[0m\u001b[0m\n\u001b[1;32m    119\u001b[0m                 \u001b[0;31m# JVM is created, so create self._jconf directly through JVM\u001b[0m\u001b[0;34m\u001b[0m\u001b[0;34m\u001b[0m\u001b[0m\n\u001b[0;32m--> 120\u001b[0;31m                 \u001b[0mself\u001b[0m\u001b[0;34m.\u001b[0m\u001b[0m_jconf\u001b[0m \u001b[0;34m=\u001b[0m \u001b[0m_jvm\u001b[0m\u001b[0;34m.\u001b[0m\u001b[0mSparkConf\u001b[0m\u001b[0;34m(\u001b[0m\u001b[0mloadDefaults\u001b[0m\u001b[0;34m)\u001b[0m\u001b[0;34m\u001b[0m\u001b[0;34m\u001b[0m\u001b[0m\n\u001b[0m\u001b[1;32m    121\u001b[0m                 \u001b[0mself\u001b[0m\u001b[0;34m.\u001b[0m\u001b[0m_conf\u001b[0m \u001b[0;34m=\u001b[0m \u001b[0;32mNone\u001b[0m\u001b[0;34m\u001b[0m\u001b[0;34m\u001b[0m\u001b[0m\n\u001b[1;32m    122\u001b[0m             \u001b[0;32melse\u001b[0m\u001b[0;34m:\u001b[0m\u001b[0;34m\u001b[0m\u001b[0;34m\u001b[0m\u001b[0m\n",
      "\u001b[0;32m/usr/lib/spark-current/python/lib/py4j-0.10.9-src.zip/py4j/java_gateway.py\u001b[0m in \u001b[0;36m__getattr__\u001b[0;34m(self, name)\u001b[0m\n\u001b[1;32m   1690\u001b[0m             \u001b[0;32mreturn\u001b[0m \u001b[0mUserHelpAutoCompletion\u001b[0m\u001b[0;34m(\u001b[0m\u001b[0;34m)\u001b[0m\u001b[0;34m\u001b[0m\u001b[0;34m\u001b[0m\u001b[0m\n\u001b[1;32m   1691\u001b[0m \u001b[0;34m\u001b[0m\u001b[0m\n\u001b[0;32m-> 1692\u001b[0;31m         answer = self._gateway_client.send_command(\n\u001b[0m\u001b[1;32m   1693\u001b[0m             \u001b[0mproto\u001b[0m\u001b[0;34m.\u001b[0m\u001b[0mREFLECTION_COMMAND_NAME\u001b[0m \u001b[0;34m+\u001b[0m\u001b[0;34m\u001b[0m\u001b[0;34m\u001b[0m\u001b[0m\n\u001b[1;32m   1694\u001b[0m             \u001b[0mproto\u001b[0m\u001b[0;34m.\u001b[0m\u001b[0mREFL_GET_UNKNOWN_SUB_COMMAND_NAME\u001b[0m \u001b[0;34m+\u001b[0m \u001b[0mname\u001b[0m \u001b[0;34m+\u001b[0m \u001b[0;34m\"\\n\"\u001b[0m \u001b[0;34m+\u001b[0m \u001b[0mself\u001b[0m\u001b[0;34m.\u001b[0m\u001b[0m_id\u001b[0m \u001b[0;34m+\u001b[0m\u001b[0;34m\u001b[0m\u001b[0;34m\u001b[0m\u001b[0m\n",
      "\u001b[0;32m/usr/lib/spark-current/python/lib/py4j-0.10.9-src.zip/py4j/java_gateway.py\u001b[0m in \u001b[0;36msend_command\u001b[0;34m(self, command, retry, binary)\u001b[0m\n\u001b[1;32m   1029\u001b[0m          \u001b[0;32mif\u001b[0m\u001b[0;31m \u001b[0m\u001b[0;31m`\u001b[0m\u001b[0mbinary\u001b[0m\u001b[0;31m`\u001b[0m \u001b[0;32mis\u001b[0m\u001b[0;31m \u001b[0m\u001b[0;31m`\u001b[0m\u001b[0;32mTrue\u001b[0m\u001b[0;31m`\u001b[0m\u001b[0;34m.\u001b[0m\u001b[0;34m\u001b[0m\u001b[0;34m\u001b[0m\u001b[0m\n\u001b[1;32m   1030\u001b[0m         \"\"\"\n\u001b[0;32m-> 1031\u001b[0;31m         \u001b[0mconnection\u001b[0m \u001b[0;34m=\u001b[0m \u001b[0mself\u001b[0m\u001b[0;34m.\u001b[0m\u001b[0m_get_connection\u001b[0m\u001b[0;34m(\u001b[0m\u001b[0;34m)\u001b[0m\u001b[0;34m\u001b[0m\u001b[0;34m\u001b[0m\u001b[0m\n\u001b[0m\u001b[1;32m   1032\u001b[0m         \u001b[0;32mtry\u001b[0m\u001b[0;34m:\u001b[0m\u001b[0;34m\u001b[0m\u001b[0;34m\u001b[0m\u001b[0m\n\u001b[1;32m   1033\u001b[0m             \u001b[0mresponse\u001b[0m \u001b[0;34m=\u001b[0m \u001b[0mconnection\u001b[0m\u001b[0;34m.\u001b[0m\u001b[0msend_command\u001b[0m\u001b[0;34m(\u001b[0m\u001b[0mcommand\u001b[0m\u001b[0;34m)\u001b[0m\u001b[0;34m\u001b[0m\u001b[0;34m\u001b[0m\u001b[0m\n",
      "\u001b[0;32m/usr/lib/spark-current/python/lib/py4j-0.10.9-src.zip/py4j/java_gateway.py\u001b[0m in \u001b[0;36m_get_connection\u001b[0;34m(self)\u001b[0m\n\u001b[1;32m    977\u001b[0m             \u001b[0mconnection\u001b[0m \u001b[0;34m=\u001b[0m \u001b[0mself\u001b[0m\u001b[0;34m.\u001b[0m\u001b[0mdeque\u001b[0m\u001b[0;34m.\u001b[0m\u001b[0mpop\u001b[0m\u001b[0;34m(\u001b[0m\u001b[0;34m)\u001b[0m\u001b[0;34m\u001b[0m\u001b[0;34m\u001b[0m\u001b[0m\n\u001b[1;32m    978\u001b[0m         \u001b[0;32mexcept\u001b[0m \u001b[0mIndexError\u001b[0m\u001b[0;34m:\u001b[0m\u001b[0;34m\u001b[0m\u001b[0;34m\u001b[0m\u001b[0m\n\u001b[0;32m--> 979\u001b[0;31m             \u001b[0mconnection\u001b[0m \u001b[0;34m=\u001b[0m \u001b[0mself\u001b[0m\u001b[0;34m.\u001b[0m\u001b[0m_create_connection\u001b[0m\u001b[0;34m(\u001b[0m\u001b[0;34m)\u001b[0m\u001b[0;34m\u001b[0m\u001b[0;34m\u001b[0m\u001b[0m\n\u001b[0m\u001b[1;32m    980\u001b[0m         \u001b[0;32mreturn\u001b[0m \u001b[0mconnection\u001b[0m\u001b[0;34m\u001b[0m\u001b[0;34m\u001b[0m\u001b[0m\n\u001b[1;32m    981\u001b[0m \u001b[0;34m\u001b[0m\u001b[0m\n",
      "\u001b[0;32m/usr/lib/spark-current/python/lib/py4j-0.10.9-src.zip/py4j/java_gateway.py\u001b[0m in \u001b[0;36m_create_connection\u001b[0;34m(self)\u001b[0m\n\u001b[1;32m    983\u001b[0m         connection = GatewayConnection(\n\u001b[1;32m    984\u001b[0m             self.gateway_parameters, self.gateway_property)\n\u001b[0;32m--> 985\u001b[0;31m         \u001b[0mconnection\u001b[0m\u001b[0;34m.\u001b[0m\u001b[0mstart\u001b[0m\u001b[0;34m(\u001b[0m\u001b[0;34m)\u001b[0m\u001b[0;34m\u001b[0m\u001b[0;34m\u001b[0m\u001b[0m\n\u001b[0m\u001b[1;32m    986\u001b[0m         \u001b[0;32mreturn\u001b[0m \u001b[0mconnection\u001b[0m\u001b[0;34m\u001b[0m\u001b[0;34m\u001b[0m\u001b[0m\n\u001b[1;32m    987\u001b[0m \u001b[0;34m\u001b[0m\u001b[0m\n",
      "\u001b[0;32m/usr/lib/spark-current/python/lib/py4j-0.10.9-src.zip/py4j/java_gateway.py\u001b[0m in \u001b[0;36mstart\u001b[0;34m(self)\u001b[0m\n\u001b[1;32m   1125\u001b[0m                 \u001b[0;34m\"server ({0}:{1})\"\u001b[0m\u001b[0;34m.\u001b[0m\u001b[0mformat\u001b[0m\u001b[0;34m(\u001b[0m\u001b[0mself\u001b[0m\u001b[0;34m.\u001b[0m\u001b[0maddress\u001b[0m\u001b[0;34m,\u001b[0m \u001b[0mself\u001b[0m\u001b[0;34m.\u001b[0m\u001b[0mport\u001b[0m\u001b[0;34m)\u001b[0m\u001b[0;34m\u001b[0m\u001b[0;34m\u001b[0m\u001b[0m\n\u001b[1;32m   1126\u001b[0m             \u001b[0mlogger\u001b[0m\u001b[0;34m.\u001b[0m\u001b[0mexception\u001b[0m\u001b[0;34m(\u001b[0m\u001b[0mmsg\u001b[0m\u001b[0;34m)\u001b[0m\u001b[0;34m\u001b[0m\u001b[0;34m\u001b[0m\u001b[0m\n\u001b[0;32m-> 1127\u001b[0;31m             \u001b[0;32mraise\u001b[0m \u001b[0mPy4JNetworkError\u001b[0m\u001b[0;34m(\u001b[0m\u001b[0mmsg\u001b[0m\u001b[0;34m,\u001b[0m \u001b[0me\u001b[0m\u001b[0;34m)\u001b[0m\u001b[0;34m\u001b[0m\u001b[0;34m\u001b[0m\u001b[0m\n\u001b[0m\u001b[1;32m   1128\u001b[0m \u001b[0;34m\u001b[0m\u001b[0m\n\u001b[1;32m   1129\u001b[0m     \u001b[0;32mdef\u001b[0m \u001b[0m_authenticate_connection\u001b[0m\u001b[0;34m(\u001b[0m\u001b[0mself\u001b[0m\u001b[0;34m)\u001b[0m\u001b[0;34m:\u001b[0m\u001b[0;34m\u001b[0m\u001b[0;34m\u001b[0m\u001b[0m\n",
      "\u001b[0;31mPy4JNetworkError\u001b[0m: An error occurred while trying to connect to the Java server (127.0.0.1:40395)"
     ]
    }
   ],
   "source": [
    "import findspark\n",
    "findspark.init('/usr/lib/spark-current/')\n",
    "import pyspark\n",
    "from pyspark.sql import SparkSession\n",
    "spark = SparkSession.builder.appName(\"Python Spark\").getOrCreate()"
   ]
  },
  {
   "cell_type": "markdown",
   "metadata": {
    "slideshow": {
     "slide_type": "slide"
    }
   },
   "source": [
    "## Creating DataFrames\n"
   ]
  },
  {
   "cell_type": "markdown",
   "metadata": {
    "slideshow": {
     "slide_type": "slide"
    }
   },
   "source": [
    "### Convert an RDD to a DataFrame"
   ]
  },
  {
   "cell_type": "code",
   "execution_count": 3,
   "metadata": {
    "slideshow": {
     "slide_type": "fragment"
    }
   },
   "outputs": [],
   "source": [
    "# sc.stop()\n",
    "sc = spark.sparkContext # make a spark context for RDD"
   ]
  },
  {
   "cell_type": "code",
   "execution_count": 4,
   "metadata": {
    "slideshow": {
     "slide_type": "slide"
    }
   },
   "outputs": [
    {
     "data": {
      "text/plain": [
       "PythonRDD[2] at RDD at PythonRDD.scala:53"
      ]
     },
     "execution_count": 4,
     "metadata": {},
     "output_type": "execute_result"
    }
   ],
   "source": [
    "# Load a text file and convert each line to a Row.\n",
    "from pyspark.sql import Row\n",
    "lines = sc.textFile(\"/opt/apps/ecm/service/spark/3.1.2-hadoop3.2-1.0.0/package/spark-3.1.2-hadoop3.2-1.0.0/examples/src/main/resources/people.txt\")\n",
    "parts = lines.map(lambda l: l.split(\",\"))\n",
    "people = parts.map(lambda p: Row(name=p[0], age=int(p[1])))\n",
    "people\n"
   ]
  },
  {
   "cell_type": "code",
   "execution_count": 5,
   "metadata": {
    "slideshow": {
     "slide_type": "slide"
    }
   },
   "outputs": [
    {
     "name": "stderr",
     "output_type": "stream",
     "text": [
      "                                                                                \r"
     ]
    },
    {
     "name": "stdout",
     "output_type": "stream",
     "text": [
      "+-------+---+\n",
      "|   name|age|\n",
      "+-------+---+\n",
      "|Michael| 29|\n",
      "|   Andy| 30|\n",
      "| Justin| 19|\n",
      "+-------+---+\n",
      "\n"
     ]
    }
   ],
   "source": [
    "# Infer the schema, and register the DataFrame as a table.\n",
    "schemaPeople = spark.createDataFrame(people)\n",
    "schemaPeople.show()"
   ]
  },
  {
   "cell_type": "code",
   "execution_count": 6,
   "metadata": {
    "slideshow": {
     "slide_type": "slide"
    }
   },
   "outputs": [
    {
     "name": "stdout",
     "output_type": "stream",
     "text": [
      "+------+---+\n",
      "|  name|age|\n",
      "+------+---+\n",
      "|Justin| 19|\n",
      "+------+---+\n",
      "\n"
     ]
    }
   ],
   "source": [
    "# SQL can be run over DataFrames that have been registered as a table.\n",
    "schemaPeople.createOrReplaceTempView(\"people\")\n",
    "teenagers = spark.sql(\"SELECT name, age FROM people WHERE age >= 13 AND age <= 19\")\n",
    "teenagers.show()"
   ]
  },
  {
   "cell_type": "code",
   "execution_count": 7,
   "metadata": {
    "slideshow": {
     "slide_type": "fragment"
    }
   },
   "outputs": [
    {
     "data": {
      "text/html": [
       "<div>\n",
       "<style scoped>\n",
       "    .dataframe tbody tr th:only-of-type {\n",
       "        vertical-align: middle;\n",
       "    }\n",
       "\n",
       "    .dataframe tbody tr th {\n",
       "        vertical-align: top;\n",
       "    }\n",
       "\n",
       "    .dataframe thead th {\n",
       "        text-align: right;\n",
       "    }\n",
       "</style>\n",
       "<table border=\"1\" class=\"dataframe\">\n",
       "  <thead>\n",
       "    <tr style=\"text-align: right;\">\n",
       "      <th></th>\n",
       "      <th>name</th>\n",
       "      <th>age</th>\n",
       "    </tr>\n",
       "  </thead>\n",
       "  <tbody>\n",
       "    <tr>\n",
       "      <th>0</th>\n",
       "      <td>Justin</td>\n",
       "      <td>19</td>\n",
       "    </tr>\n",
       "  </tbody>\n",
       "</table>\n",
       "</div>"
      ],
      "text/plain": [
       "     name  age\n",
       "0  Justin   19"
      ]
     },
     "execution_count": 7,
     "metadata": {},
     "output_type": "execute_result"
    }
   ],
   "source": [
    "teenagers.toPandas() # We could export the Spark DataFrame to a usual Pandas DataFrame"
   ]
  },
  {
   "cell_type": "markdown",
   "metadata": {
    "slideshow": {
     "slide_type": "slide"
    }
   },
   "source": [
    "### Create Spark DataFrame directly from a file"
   ]
  },
  {
   "cell_type": "code",
   "execution_count": 8,
   "metadata": {
    "slideshow": {
     "slide_type": "fragment"
    }
   },
   "outputs": [
    {
     "name": "stdout",
     "output_type": "stream",
     "text": [
      "+------------------+\n",
      "|               _c0|\n",
      "+------------------+\n",
      "|      name;age;job|\n",
      "|Jorge;30;Developer|\n",
      "|  Bob;32;Developer|\n",
      "+------------------+\n",
      "\n"
     ]
    }
   ],
   "source": [
    "sdf = spark.read.csv(\"/opt/apps/ecm/service/spark/3.1.2-hadoop3.2-1.0.0/package/spark-3.1.2-hadoop3.2-1.0.0/examples/src/main/resources/people.csv\")\n",
    "sdf.show() # Displays the content of the DataFrame to stdout"
   ]
  },
  {
   "cell_type": "code",
   "execution_count": 27,
   "metadata": {
    "slideshow": {
     "slide_type": "slide"
    }
   },
   "outputs": [
    {
     "name": "stdout",
     "output_type": "stream",
     "text": [
      "+----+-------+\n",
      "| age|   name|\n",
      "+----+-------+\n",
      "|null|Michael|\n",
      "|  30|   Andy|\n",
      "|  19| Justin|\n",
      "+----+-------+\n",
      "\n"
     ]
    }
   ],
   "source": [
    "sdf2 = spark.read.json(\"/opt/apps/ecm/service/spark/3.1.2-hadoop3.2-1.0.0/package/spark-3.1.2-hadoop3.2-1.0.0/examples/src/main/resources/people.json\")\n",
    "# Displays the content of the DataFrame to stdout\n",
    "sdf2.show()"
   ]
  },
  {
   "cell_type": "markdown",
   "metadata": {
    "slideshow": {
     "slide_type": "slide"
    }
   },
   "source": [
    "The CSV file dose not have a header of the data, but we could create a description (**schema** in Spark) for it ."
   ]
  },
  {
   "cell_type": "code",
   "execution_count": 10,
   "metadata": {
    "slideshow": {
     "slide_type": "fragment"
    }
   },
   "outputs": [
    {
     "data": {
      "text/plain": [
       "StructType(List(StructField(name,StringType,true),StructField(age,StringType,true)))"
      ]
     },
     "execution_count": 10,
     "metadata": {},
     "output_type": "execute_result"
    }
   ],
   "source": [
    "# Import data types\n",
    "from pyspark.sql.types import *\n",
    "# The schema is encoded in a string.\n",
    "\n",
    "# Create a schema\n",
    "schemaString = [\"name\", \"age\"]\n",
    "fields = [StructField(field_name, StringType(), True) for field_name in schemaString]\n",
    "schema = StructType(fields)\n",
    "schema"
   ]
  },
  {
   "cell_type": "code",
   "execution_count": 11,
   "metadata": {
    "slideshow": {
     "slide_type": "fragment"
    }
   },
   "outputs": [
    {
     "name": "stdout",
     "output_type": "stream",
     "text": [
      "+-------+---+\n",
      "|   name|age|\n",
      "+-------+---+\n",
      "|Michael| 29|\n",
      "|   Andy| 30|\n",
      "| Justin| 19|\n",
      "+-------+---+\n",
      "\n"
     ]
    }
   ],
   "source": [
    "sdf_withschema = spark.createDataFrame(people, schema)\n",
    "sdf_withschema.show()"
   ]
  },
  {
   "cell_type": "markdown",
   "metadata": {
    "slideshow": {
     "slide_type": "slide"
    }
   },
   "source": [
    "### Export DataFrame to a local disk"
   ]
  },
  {
   "cell_type": "code",
   "execution_count": 12,
   "metadata": {
    "slideshow": {
     "slide_type": "fragment"
    }
   },
   "outputs": [
    {
     "data": {
      "text/plain": [
       "['.part-00000-81087960-1ac9-4f0f-a1de-934aff5b88ac-c000.csv.crc',\n",
       " 'part-00000-81087960-1ac9-4f0f-a1de-934aff5b88ac-c000.csv',\n",
       " '._SUCCESS.crc',\n",
       " '_SUCCESS']"
      ]
     },
     "execution_count": 12,
     "metadata": {},
     "output_type": "execute_result"
    }
   ],
   "source": [
    "sdf.write.mode('overwrite').csv(\"myspark/\")\n",
    "import os \n",
    "os.listdir(\"myspark\")"
   ]
  },
  {
   "cell_type": "markdown",
   "metadata": {
    "slideshow": {
     "slide_type": "slide"
    }
   },
   "source": [
    "### Read file and infer the schema from the header"
   ]
  },
  {
   "cell_type": "code",
   "execution_count": 2,
   "metadata": {
    "slideshow": {
     "slide_type": "fragment"
    }
   },
   "outputs": [
    {
     "ename": "NameError",
     "evalue": "name 'spark' is not defined",
     "output_type": "error",
     "traceback": [
      "\u001b[0;31m---------------------------------------------------------------------------\u001b[0m",
      "\u001b[0;31mNameError\u001b[0m                                 Traceback (most recent call last)",
      "\u001b[0;32m/tmp/ipykernel_26019/3060687901.py\u001b[0m in \u001b[0;36m<module>\u001b[0;34m\u001b[0m\n\u001b[1;32m      1\u001b[0m \u001b[0;31m## Load a local file\u001b[0m\u001b[0;34m\u001b[0m\u001b[0;34m\u001b[0m\u001b[0m\n\u001b[0;32m----> 2\u001b[0;31m \u001b[0mair0\u001b[0m \u001b[0;34m=\u001b[0m \u001b[0mspark\u001b[0m\u001b[0;34m.\u001b[0m\u001b[0mread\u001b[0m\u001b[0;34m.\u001b[0m\u001b[0moptions\u001b[0m\u001b[0;34m(\u001b[0m\u001b[0mheader\u001b[0m\u001b[0;34m=\u001b[0m\u001b[0;34m'true'\u001b[0m\u001b[0;34m,\u001b[0m \u001b[0minferSchema\u001b[0m\u001b[0;34m=\u001b[0m\u001b[0;34m'true'\u001b[0m\u001b[0;34m)\u001b[0m\u001b[0;34m.\u001b[0m\u001b[0mcsv\u001b[0m\u001b[0;34m(\u001b[0m\u001b[0;34m\"/home/yanfei/lectures/data/airdelay_small.csv\"\u001b[0m\u001b[0;34m)\u001b[0m\u001b[0;34m\u001b[0m\u001b[0;34m\u001b[0m\u001b[0m\n\u001b[0m\u001b[1;32m      3\u001b[0m \u001b[0mair0\u001b[0m\u001b[0;34m\u001b[0m\u001b[0;34m\u001b[0m\u001b[0m\n",
      "\u001b[0;31mNameError\u001b[0m: name 'spark' is not defined"
     ]
    }
   ],
   "source": [
    "## Load a local file \n",
    "air0 = spark.read.options(header='true', inferSchema='true').csv(\"/home/yanfei/lectures/data/airdelay_small.csv\") \n",
    "air0"
   ]
  },
  {
   "cell_type": "code",
   "execution_count": 14,
   "metadata": {
    "slideshow": {
     "slide_type": "slide"
    }
   },
   "outputs": [
    {
     "data": {
      "text/plain": [
       "DataFrame[Year: int, Month: int, DayofMonth: int, DayOfWeek: int, DepTime: double, CRSDepTime: double, ArrTime: double, CRSArrTime: double, UniqueCarrier: string, FlightNum: string, TailNum: string, ActualElapsedTime: double, CRSElapsedTime: double, AirTime: double, ArrDelay: double, DepDelay: double, Origin: string, Dest: string, Distance: double, TaxiIn: double, TaxiOut: double, Cancelled: int, CancellationCode: string, Diverted: int, CarrierDelay: double, WeatherDelay: double, NASDelay: double, SecurityDelay: double, LateAircraftDelay: double]"
      ]
     },
     "execution_count": 14,
     "metadata": {},
     "output_type": "execute_result"
    }
   ],
   "source": [
    "# We specify the correct schema by hand\n",
    "from pyspark.sql.types import *\n",
    "schema_sdf = StructType([\n",
    "        StructField('Year', IntegerType(), True),\n",
    "        StructField('Month', IntegerType(), True),\n",
    "        StructField('DayofMonth', IntegerType(), True),\n",
    "        StructField('DayOfWeek', IntegerType(), True),\n",
    "        StructField('DepTime', DoubleType(), True),\n",
    "        StructField('CRSDepTime', DoubleType(), True),\n",
    "        StructField('ArrTime', DoubleType(), True),\n",
    "        StructField('CRSArrTime', DoubleType(), True),\n",
    "        StructField('UniqueCarrier', StringType(), True),\n",
    "        StructField('FlightNum', StringType(), True),\n",
    "        StructField('TailNum', StringType(), True),\n",
    "        StructField('ActualElapsedTime', DoubleType(), True),\n",
    "        StructField('CRSElapsedTime',  DoubleType(), True),\n",
    "        StructField('AirTime',  DoubleType(), True),\n",
    "        StructField('ArrDelay',  DoubleType(), True),\n",
    "        StructField('DepDelay',  DoubleType(), True),\n",
    "        StructField('Origin', StringType(), True),\n",
    "        StructField('Dest',  StringType(), True),\n",
    "        StructField('Distance',  DoubleType(), True),\n",
    "        StructField('TaxiIn',  DoubleType(), True),\n",
    "        StructField('TaxiOut',  DoubleType(), True),\n",
    "        StructField('Cancelled',  IntegerType(), True),\n",
    "        StructField('CancellationCode',  StringType(), True),\n",
    "        StructField('Diverted',  IntegerType(), True),\n",
    "        StructField('CarrierDelay', DoubleType(), True),\n",
    "        StructField('WeatherDelay',  DoubleType(), True),\n",
    "        StructField('NASDelay',  DoubleType(), True),\n",
    "        StructField('SecurityDelay',  DoubleType(), True),\n",
    "        StructField('LateAircraftDelay',  DoubleType(), True)\n",
    "    ])\n",
    "\n",
    "air = spark.read.options(header='true').schema(schema_sdf).csv(\"/home/yanfei/lectures/data/airdelay_small.csv\")\n",
    "air"
   ]
  },
  {
   "cell_type": "markdown",
   "metadata": {
    "slideshow": {
     "slide_type": "slide"
    }
   },
   "source": [
    "## Descriptive  Statistics"
   ]
  },
  {
   "cell_type": "code",
   "execution_count": 15,
   "metadata": {
    "slideshow": {
     "slide_type": "slide"
    }
   },
   "outputs": [
    {
     "name": "stderr",
     "output_type": "stream",
     "text": [
      "[Stage 15:==============================>                        (18 + 14) / 32]\r"
     ]
    },
    {
     "name": "stdout",
     "output_type": "stream",
     "text": [
      "144199 [Thread-4] WARN  org.apache.spark.sql.catalyst.util.package  - Truncated the string representation of a plan since it was too large. This behavior can be adjusted by setting 'spark.sql.debug.maxToStringFields'.\n",
      "+-------+------------------+------------------+-----------------+------------------+------------------+------------------+------------------+------------------+-------------+------------------+------------------+-----------------+------------------+------------------+------------------+-----------------+-------+-------+-----------------+------------------+------------------+--------------------+----------------+--------------------+------------------+------------------+------------------+-------------------+------------------+\n",
      "|summary|              Year|             Month|       DayofMonth|         DayOfWeek|           DepTime|        CRSDepTime|           ArrTime|        CRSArrTime|UniqueCarrier|         FlightNum|           TailNum|ActualElapsedTime|    CRSElapsedTime|           AirTime|          ArrDelay|         DepDelay| Origin|   Dest|         Distance|            TaxiIn|           TaxiOut|           Cancelled|CancellationCode|            Diverted|      CarrierDelay|      WeatherDelay|          NASDelay|      SecurityDelay| LateAircraftDelay|\n",
      "+-------+------------------+------------------+-----------------+------------------+------------------+------------------+------------------+------------------+-------------+------------------+------------------+-----------------+------------------+------------------+------------------+-----------------+-------+-------+-----------------+------------------+------------------+--------------------+----------------+--------------------+------------------+------------------+------------------+-------------------+------------------+\n",
      "|  count|           5548754|           5548754|          5548754|           5548754|           5445648|           5548754|           5432958|           5548754|      5548754|           5548754|           5546028|          5432958|           5547553|           3685725|           5432958|          5445648|5548754|5548754|          5539053|           3774512|           3774512|             5548754|         4021064|             5548754|           1556218|           1556218|           1556218|            1556218|           1556218|\n",
      "|   mean|1998.0596386143627|6.5676323008733135|15.72343214350465|3.9417689088397143|1350.1788104923419|1335.7331833417015|1494.2596278123262|1491.2232378656543|         null|1315.7048634702494|1.7399929153382927|119.6707237567454|120.55155939925224|102.68243425648957|  6.97897995898367|8.057528690800433|   null|   null|700.1569530026162|  6.46404329884234|15.093697410420209|0.018581829362051373|            null|0.002286999928272185| 3.126644853098987|0.6756154985998105|3.4831913009616904|0.02487633480656309| 4.016733516769501|\n",
      "| stddev|5.9596545744660645|3.4459933060072956|8.785812012351041|1.9901372979154814| 476.9970146645371|476.86810393583954| 498.5110921082048| 493.9483009456321|         null|1348.4296762173055|13.851402104592436|68.46377112245708| 67.92463006419644| 71.58020398372078|30.191156753519472|28.00795237386765|   null|   null|550.4983362833549|24.091042357111654| 11.12469559806943|  0.1350427645829771|            null| 0.04776787592956501|18.231825726443464| 8.620073018389634|15.134125044035848| 1.1289874696449156|18.521650519203114|\n",
      "|    min|              1987|                 1|                1|                 1|               1.0|               0.0|               1.0|               0.0|           9E|                 1|            '144DA|           -681.0|             -96.0|           -1461.0|           -1238.0|          -1197.0|    ABE|    ABE|             11.0|               0.0|               0.0|                   0|               A|                   0|               0.0|               0.0|             -13.0|                0.0|               0.0|\n",
      "|    max|              2007|                12|               31|                 7|            2644.0|            2400.0|            2742.0|            2400.0|           YV|               999|            n816ca|           1766.0|            1487.0|            1936.0|            1779.0|           1752.0|    YUM|    YUM|           4983.0|            1470.0|            1439.0|                   1|              NA|                   1|            1665.0|             910.0|            1010.0|              382.0|            1060.0|\n",
      "+-------+------------------+------------------+-----------------+------------------+------------------+------------------+------------------+------------------+-------------+------------------+------------------+-----------------+------------------+------------------+------------------+-----------------+-------+-------+-----------------+------------------+------------------+--------------------+----------------+--------------------+------------------+------------------+------------------+-------------------+------------------+\n",
      "\n"
     ]
    },
    {
     "name": "stderr",
     "output_type": "stream",
     "text": [
      "\r",
      "                                                                                \r"
     ]
    }
   ],
   "source": [
    "air.describe().show()"
   ]
  },
  {
   "cell_type": "code",
   "execution_count": 16,
   "metadata": {
    "slideshow": {
     "slide_type": "slide"
    }
   },
   "outputs": [
    {
     "name": "stderr",
     "output_type": "stream",
     "text": [
      "\r",
      "[Stage 17:>                                                       (0 + 32) / 32]\r",
      "\r",
      "[Stage 17:================================>                      (19 + 13) / 32]\r"
     ]
    },
    {
     "name": "stdout",
     "output_type": "stream",
     "text": [
      "+-------+------------------+\n",
      "|summary|          ArrDelay|\n",
      "+-------+------------------+\n",
      "|  count|           5432958|\n",
      "|   mean|  6.97897995898367|\n",
      "| stddev|30.191156753519472|\n",
      "|    min|           -1238.0|\n",
      "|    max|            1779.0|\n",
      "+-------+------------------+\n",
      "\n"
     ]
    },
    {
     "name": "stderr",
     "output_type": "stream",
     "text": [
      "\r",
      "                                                                                \r"
     ]
    }
   ],
   "source": [
    "air.describe(['ArrDelay']).show()"
   ]
  },
  {
   "cell_type": "markdown",
   "metadata": {
    "slideshow": {
     "slide_type": "slide"
    }
   },
   "source": [
    "### Print the schema in a tree format"
   ]
  },
  {
   "cell_type": "code",
   "execution_count": 17,
   "metadata": {
    "slideshow": {
     "slide_type": "fragment"
    }
   },
   "outputs": [
    {
     "name": "stdout",
     "output_type": "stream",
     "text": [
      "root\n",
      " |-- Year: integer (nullable = true)\n",
      " |-- Month: integer (nullable = true)\n",
      " |-- DayofMonth: integer (nullable = true)\n",
      " |-- DayOfWeek: integer (nullable = true)\n",
      " |-- DepTime: double (nullable = true)\n",
      " |-- CRSDepTime: double (nullable = true)\n",
      " |-- ArrTime: double (nullable = true)\n",
      " |-- CRSArrTime: double (nullable = true)\n",
      " |-- UniqueCarrier: string (nullable = true)\n",
      " |-- FlightNum: string (nullable = true)\n",
      " |-- TailNum: string (nullable = true)\n",
      " |-- ActualElapsedTime: double (nullable = true)\n",
      " |-- CRSElapsedTime: double (nullable = true)\n",
      " |-- AirTime: double (nullable = true)\n",
      " |-- ArrDelay: double (nullable = true)\n",
      " |-- DepDelay: double (nullable = true)\n",
      " |-- Origin: string (nullable = true)\n",
      " |-- Dest: string (nullable = true)\n",
      " |-- Distance: double (nullable = true)\n",
      " |-- TaxiIn: double (nullable = true)\n",
      " |-- TaxiOut: double (nullable = true)\n",
      " |-- Cancelled: integer (nullable = true)\n",
      " |-- CancellationCode: string (nullable = true)\n",
      " |-- Diverted: integer (nullable = true)\n",
      " |-- CarrierDelay: double (nullable = true)\n",
      " |-- WeatherDelay: double (nullable = true)\n",
      " |-- NASDelay: double (nullable = true)\n",
      " |-- SecurityDelay: double (nullable = true)\n",
      " |-- LateAircraftDelay: double (nullable = true)\n",
      "\n"
     ]
    }
   ],
   "source": [
    "air.printSchema()"
   ]
  },
  {
   "cell_type": "markdown",
   "metadata": {
    "slideshow": {
     "slide_type": "slide"
    }
   },
   "source": [
    "### Select columns"
   ]
  },
  {
   "cell_type": "code",
   "execution_count": 18,
   "metadata": {
    "slideshow": {
     "slide_type": "fragment"
    }
   },
   "outputs": [
    {
     "name": "stdout",
     "output_type": "stream",
     "text": [
      "+--------+-------+--------+\n",
      "|ArrDelay|AirTime|Distance|\n",
      "+--------+-------+--------+\n",
      "|     2.0|   25.0|   127.0|\n",
      "|    29.0|  248.0|  1623.0|\n",
      "|     8.0|   null|   622.0|\n",
      "|    -2.0|   70.0|   451.0|\n",
      "|    11.0|  133.0|  1009.0|\n",
      "|    13.0|  177.0|  1562.0|\n",
      "|   -12.0|  181.0|  1589.0|\n",
      "|    11.0|  364.0|  2611.0|\n",
      "|    13.0|   53.0|   304.0|\n",
      "|     9.0|   null|   888.0|\n",
      "|    -8.0|  293.0|  2537.0|\n",
      "|    15.0|   null|  1723.0|\n",
      "|   -14.0|   null|  1736.0|\n",
      "|    55.0|  285.0|  1927.0|\n",
      "|    23.0|  149.0|   991.0|\n",
      "|    64.0|   35.0|   193.0|\n",
      "|    29.0|   25.0|    77.0|\n",
      "|    -8.0|   null|   447.0|\n",
      "|    -6.0|   91.0|   678.0|\n",
      "|    35.0|  127.0|   998.0|\n",
      "+--------+-------+--------+\n",
      "only showing top 20 rows\n",
      "\n"
     ]
    }
   ],
   "source": [
    "air.select([\"ArrDelay\",\"AirTime\",\"Distance\"]).show()"
   ]
  },
  {
   "cell_type": "code",
   "execution_count": 19,
   "metadata": {
    "slideshow": {
     "slide_type": "fragment"
    }
   },
   "outputs": [
    {
     "name": "stdout",
     "output_type": "stream",
     "text": [
      "+-------------+--------------+\n",
      "|UniqueCarrier|(ArrDelay > 0)|\n",
      "+-------------+--------------+\n",
      "|           XE|          true|\n",
      "|           CO|          true|\n",
      "|           AA|          true|\n",
      "|           WN|         false|\n",
      "|           CO|          true|\n",
      "|           AA|          true|\n",
      "|           DL|         false|\n",
      "|           AA|          true|\n",
      "|           US|          true|\n",
      "|           AA|          true|\n",
      "|           AS|         false|\n",
      "|           UA|          true|\n",
      "|           TW|         false|\n",
      "|           NW|          true|\n",
      "|           NW|          true|\n",
      "|           AA|          true|\n",
      "|           DH|          true|\n",
      "|           WN|         false|\n",
      "|           AA|         false|\n",
      "|           CO|          true|\n",
      "+-------------+--------------+\n",
      "only showing top 20 rows\n",
      "\n"
     ]
    }
   ],
   "source": [
    "air.select(air['UniqueCarrier'], air['ArrDelay']>0).show()"
   ]
  },
  {
   "cell_type": "code",
   "execution_count": 20,
   "metadata": {
    "slideshow": {
     "slide_type": "fragment"
    }
   },
   "outputs": [
    {
     "name": "stderr",
     "output_type": "stream",
     "text": [
      "                                                                                \r"
     ]
    },
    {
     "name": "stdout",
     "output_type": "stream",
     "text": [
      "+-------------+---------+------+\n",
      "|UniqueCarrier|DayOfWeek| count|\n",
      "+-------------+---------+------+\n",
      "|           PS|        6|   406|\n",
      "|           CO|        4| 55764|\n",
      "|       ML (1)|        7|   442|\n",
      "|           XE|        4| 14896|\n",
      "|           TZ|        4|  1455|\n",
      "|           OO|        3| 17310|\n",
      "|           EA|        7|  6197|\n",
      "|           OO|        4| 17666|\n",
      "|           F9|        2|  1679|\n",
      "|           EA|        5|  6295|\n",
      "|           HA|        5|  1519|\n",
      "|           UA|        4| 89272|\n",
      "|           EV|        4|  9729|\n",
      "|           DL|        6|106031|\n",
      "|           FL|        5|  6962|\n",
      "|           YV|        3|  4165|\n",
      "|           AQ|        2|  1035|\n",
      "|       ML (1)|        2|   502|\n",
      "|           DL|        3|110827|\n",
      "|           YV|        6|  3828|\n",
      "+-------------+---------+------+\n",
      "only showing top 20 rows\n",
      "\n"
     ]
    }
   ],
   "source": [
    "# group data with respect to some columns \n",
    "air.groupBy([\"UniqueCarrier\",\"DayOfWeek\"]).count().show() "
   ]
  },
  {
   "cell_type": "code",
   "execution_count": 21,
   "metadata": {
    "slideshow": {
     "slide_type": "fragment"
    }
   },
   "outputs": [
    {
     "name": "stderr",
     "output_type": "stream",
     "text": [
      "[Stage 27:====================================>                  (21 + 11) / 32]\r"
     ]
    },
    {
     "name": "stdout",
     "output_type": "stream",
     "text": [
      "+-------------+------+\n",
      "|UniqueCarrier| count|\n",
      "+-------------+------+\n",
      "|           DL|765388|\n",
      "|           WN|703368|\n",
      "|           AA|684522|\n",
      "|           US|649056|\n",
      "|           UA|611957|\n",
      "|           NW|473820|\n",
      "|           CO|373858|\n",
      "|           TW|179081|\n",
      "|           HP|173509|\n",
      "|           MQ|164790|\n",
      "|           AS|129863|\n",
      "|           OO|120223|\n",
      "|           XE| 94311|\n",
      "|           EV| 67148|\n",
      "|           OH| 60630|\n",
      "|           FL| 47540|\n",
      "|           EA| 43723|\n",
      "|           PI| 41489|\n",
      "|           DH| 32900|\n",
      "|           B6| 29111|\n",
      "+-------------+------+\n",
      "only showing top 20 rows\n",
      "\n"
     ]
    },
    {
     "name": "stderr",
     "output_type": "stream",
     "text": [
      "\r",
      "                                                                                \r"
     ]
    }
   ],
   "source": [
    "## Group and sort\n",
    "aircount=air.groupBy(\"UniqueCarrier\").count()\n",
    "aircount.sort(\"count\",ascending=False).show()"
   ]
  },
  {
   "cell_type": "markdown",
   "metadata": {
    "slideshow": {
     "slide_type": "slide"
    }
   },
   "source": [
    "### Data cleaning"
   ]
  },
  {
   "cell_type": "code",
   "execution_count": 22,
   "metadata": {
    "slideshow": {
     "slide_type": "fragment"
    }
   },
   "outputs": [
    {
     "name": "stderr",
     "output_type": "stream",
     "text": [
      "[Stage 32:========>                                                 (1 + 6) / 7]\r"
     ]
    },
    {
     "name": "stdout",
     "output_type": "stream",
     "text": [
      "+----+-----+----------+---------+-------+----------+-------+----------+-------------+---------+-------+-----------------+--------------+-------+--------+--------+------+----+--------+------+-------+---------+----------------+--------+------------+------------+--------+-------------+-----------------+\n",
      "|Year|Month|DayofMonth|DayOfWeek|DepTime|CRSDepTime|ArrTime|CRSArrTime|UniqueCarrier|FlightNum|TailNum|ActualElapsedTime|CRSElapsedTime|AirTime|ArrDelay|DepDelay|Origin|Dest|Distance|TaxiIn|TaxiOut|Cancelled|CancellationCode|Diverted|CarrierDelay|WeatherDelay|NASDelay|SecurityDelay|LateAircraftDelay|\n",
      "+----+-----+----------+---------+-------+----------+-------+----------+-------------+---------+-------+-----------------+--------------+-------+--------+--------+------+----+--------+------+-------+---------+----------------+--------+------------+------------+--------+-------------+-----------------+\n",
      "+----+-----+----------+---------+-------+----------+-------+----------+-------------+---------+-------+-----------------+--------------+-------+--------+--------+------+----+--------+------+-------+---------+----------------+--------+------------+------------+--------+-------------+-----------------+\n",
      "\n"
     ]
    },
    {
     "name": "stderr",
     "output_type": "stream",
     "text": [
      "\r",
      "[Stage 32:================>                                         (2 + 5) / 7]\r",
      "\r",
      "                                                                                \r"
     ]
    }
   ],
   "source": [
    "## Returns a new DataFrame omitting rows with null values\n",
    "air_without_na = air.na.drop()\n",
    "air_without_na.show()"
   ]
  },
  {
   "cell_type": "code",
   "execution_count": 23,
   "metadata": {
    "slideshow": {
     "slide_type": "fragment"
    }
   },
   "outputs": [
    {
     "name": "stderr",
     "output_type": "stream",
     "text": [
      "                                                                                \r"
     ]
    },
    {
     "data": {
      "text/plain": [
       "0"
      ]
     },
     "execution_count": 23,
     "metadata": {},
     "output_type": "execute_result"
    }
   ],
   "source": [
    "air_without_na.count()"
   ]
  },
  {
   "cell_type": "code",
   "execution_count": 24,
   "metadata": {
    "slideshow": {
     "slide_type": "slide"
    }
   },
   "outputs": [
    {
     "data": {
      "text/plain": [
       "5548754"
      ]
     },
     "execution_count": 24,
     "metadata": {},
     "output_type": "execute_result"
    }
   ],
   "source": [
    "air.count() # original file size"
   ]
  },
  {
   "cell_type": "code",
   "execution_count": 1,
   "metadata": {},
   "outputs": [
    {
     "ename": "NameError",
     "evalue": "name 'air' is not defined",
     "output_type": "error",
     "traceback": [
      "\u001b[0;31m---------------------------------------------------------------------------\u001b[0m",
      "\u001b[0;31mNameError\u001b[0m                                 Traceback (most recent call last)",
      "\u001b[0;32m/tmp/ipykernel_26019/3217820596.py\u001b[0m in \u001b[0;36m<module>\u001b[0;34m\u001b[0m\n\u001b[0;32m----> 1\u001b[0;31m \u001b[0mair\u001b[0m\u001b[0;34m.\u001b[0m\u001b[0mshow\u001b[0m\u001b[0;34m(\u001b[0m\u001b[0;34m)\u001b[0m\u001b[0;34m\u001b[0m\u001b[0;34m\u001b[0m\u001b[0m\n\u001b[0m",
      "\u001b[0;31mNameError\u001b[0m: name 'air' is not defined"
     ]
    }
   ],
   "source": [
    "air.show()"
   ]
  },
  {
   "cell_type": "code",
   "execution_count": null,
   "metadata": {},
   "outputs": [],
   "source": []
  },
  {
   "cell_type": "code",
   "execution_count": 25,
   "metadata": {
    "slideshow": {
     "slide_type": "fragment"
    }
   },
   "outputs": [
    {
     "name": "stdout",
     "output_type": "stream",
     "text": [
      "+----+-----+----------+---------+-------+----------+-------+----------+-------------+---------+-------+-----------------+--------------+-------+--------+--------+------+----+--------+------+-------+---------+----------------+--------+------------+------------+--------+-------------+-----------------+\n",
      "|Year|Month|DayofMonth|DayOfWeek|DepTime|CRSDepTime|ArrTime|CRSArrTime|UniqueCarrier|FlightNum|TailNum|ActualElapsedTime|CRSElapsedTime|AirTime|ArrDelay|DepDelay|Origin|Dest|Distance|TaxiIn|TaxiOut|Cancelled|CancellationCode|Diverted|CarrierDelay|WeatherDelay|NASDelay|SecurityDelay|LateAircraftDelay|\n",
      "+----+-----+----------+---------+-------+----------+-------+----------+-------------+---------+-------+-----------------+--------------+-------+--------+--------+------+----+--------+------+-------+---------+----------------+--------+------------+------------+--------+-------------+-----------------+\n",
      "|2006|    7|         6|        4| 2055.0|    2055.0| 2150.0|    2148.0|           XE|     2619| N11526|             55.0|          53.0|   25.0|     2.0|     0.0|   IAH| LCH|   127.0|   8.0|   22.0|        0|         unknown|       0|         0.0|         0.0|     0.0|          0.0|              0.0|\n",
      "|1997|    3|         2|        7| 2019.0|    2015.0| 2314.0|    2245.0|           CO|      143| N59302|            295.0|         270.0|  248.0|    29.0|     4.0|   EWR| COS|  1623.0|   6.0|   41.0|        0|              NA|       0|        null|        null|    null|         null|             null|\n",
      "|1994|    5|         2|        1|  700.0|     700.0|  804.0|     756.0|           AA|     1629|     NA|            124.0|         116.0|   null|     8.0|     0.0|   BWI| ORD|   622.0|  null|   null|        0|              NA|       0|        null|        null|    null|         null|             null|\n",
      "|1997|    2|        14|        5|  700.0|     700.0|  728.0|     730.0|           WN|     1783|   N332|             88.0|          90.0|   70.0|    -2.0|     0.0|   TUS| LAX|   451.0|   8.0|   10.0|        0|              NA|       0|        null|        null|    null|         null|             null|\n",
      "|2000|    6|        11|        7| 2052.0|    2034.0| 2132.0|    2121.0|           CO|     1753| N16893|            160.0|         167.0|  133.0|    11.0|    18.0|   IAH| PHX|  1009.0|   5.0|   22.0|        0|              NA|       0|        null|        null|    null|         null|             null|\n",
      "|1997|   11|        16|        7| 1503.0|    1414.0| 1912.0|    1859.0|           AA|      414| N205AA|            189.0|         225.0|  177.0|    13.0|    49.0|   DFW| BOS|  1562.0|   4.0|    8.0|        0|              NA|       0|        null|        null|    null|         null|             null|\n",
      "|1999|    5|        31|        1|  839.0|     845.0| 1409.0|    1421.0|           DL|      152| N177DZ|            210.0|         216.0|  181.0|   -12.0|    -6.0|   SLC| ATL|  1589.0|  11.0|   18.0|        0|              NA|       0|        null|        null|    null|         null|             null|\n",
      "|1997|    4|        30|        3|  828.0|     830.0| 1206.0|    1155.0|           AA|       11| N5DAAA|            398.0|         385.0|  364.0|    11.0|    -2.0|   BOS| LAX|  2611.0|   5.0|   29.0|        0|              NA|       0|        null|        null|    null|         null|             null|\n",
      "|1995|    7|        21|        5| 1018.0|    1000.0| 1126.0|    1113.0|           US|      272| N274US|             68.0|          73.0|   53.0|    13.0|    18.0|   GSO| PIT|   304.0|   4.0|   11.0|        0|              NA|       0|        null|        null|    null|         null|             null|\n",
      "|1989|    9|        28|        4| 1501.0|    1450.0| 1639.0|    1630.0|           AA|      905|     NA|            158.0|         160.0|   null|     9.0|    11.0|   ORD| DEN|   888.0|  null|   null|        0|              NA|       0|        null|        null|    null|         null|             null|\n",
      "|2007|   10|        26|        5|  654.0|     700.0| 1507.0|    1515.0|           AS|      802| N648AS|            313.0|         315.0|  293.0|    -8.0|    -6.0|   PDX| BOS|  2537.0|   9.0|   11.0|        0|         unknown|       0|         0.0|         0.0|     0.0|          0.0|              0.0|\n",
      "|1993|    6|        28|        1| 1540.0|    1541.0| 2146.0|    2131.0|           UA|     1746|     NA|            246.0|         230.0|   null|    15.0|    -1.0|   SAN| ORD|  1723.0|  null|   null|        0|              NA|       0|        null|        null|    null|         null|             null|\n",
      "|1994|    3|        31|        4| 1909.0|    1900.0| 2116.0|    2130.0|           TW|      819|     NA|            247.0|         270.0|   null|   -14.0|     9.0|   STL| SFO|  1736.0|  null|   null|        0|              NA|       0|        null|        null|    null|         null|             null|\n",
      "|2000|    5|        23|        2|  958.0|     910.0| 1205.0|    1110.0|           NW|      281| N523US|            307.0|         300.0|  285.0|    55.0|    48.0|   DTW| SEA|  1927.0|   8.0|   14.0|        0|              NA|       0|        null|        null|    null|         null|             null|\n",
      "|2004|   10|        18|        1|  939.0|     940.0| 1151.0|    1128.0|           NW|      679| N317NB|            192.0|         168.0|  149.0|    23.0|    -1.0|   MSP| SLC|   991.0|  10.0|   33.0|        0|         unknown|       0|         0.0|         0.0|    23.0|          0.0|              0.0|\n",
      "|2007|    5|        17|        4| 1944.0|    1830.0| 2034.0|    1930.0|           AA|     1011| N3BDAA|             50.0|          60.0|   35.0|    64.0|    74.0|   MIA| MCO|   193.0|   4.0|   11.0|        0|         unknown|       0|        64.0|         0.0|     0.0|          0.0|              0.0|\n",
      "|2003|    7|        31|        4| 1738.0|    1710.0| 1819.0|    1750.0|           DH|     7981| N309UE|             41.0|          40.0|   25.0|    29.0|    28.0|   IAD| CHO|    77.0|   3.0|   12.0|        0|         unknown|       0|        29.0|         0.0|     0.0|          0.0|              0.0|\n",
      "|1993|    3|        17|        3|  630.0|     630.0|  747.0|     755.0|           WN|     1968|     NA|             77.0|          85.0|   null|    -8.0|     0.0|   SFO| SAN|   447.0|  null|   null|        0|              NA|       0|        null|        null|    null|         null|             null|\n",
      "|2002|    8|        25|        7| 1255.0|    1250.0| 1552.0|    1558.0|           AA|      768| N464AA|            117.0|         128.0|   91.0|    -6.0|     5.0|   ORD| PHL|   678.0|   7.0|   19.0|        0|              NA|       0|        null|        null|    null|         null|             null|\n",
      "|1995|    7|        30|        7| 2018.0|    1955.0| 2318.0|    2243.0|           CO|      765| N578PE|            180.0|         168.0|  127.0|    35.0|    23.0|   EWR| TPA|   998.0|   3.0|   50.0|        0|              NA|       0|        null|        null|    null|         null|             null|\n",
      "+----+-----+----------+---------+-------+----------+-------+----------+-------------+---------+-------+-----------------+--------------+-------+--------+--------+------+----+--------+------+-------+---------+----------------+--------+------------+------------+--------+-------------+-----------------+\n",
      "only showing top 20 rows\n",
      "\n"
     ]
    }
   ],
   "source": [
    "## Replace null values\n",
    "air.na.fill(\"unknown\").show()"
   ]
  },
  {
   "cell_type": "code",
   "execution_count": 26,
   "metadata": {
    "slideshow": {
     "slide_type": "fragment"
    }
   },
   "outputs": [
    {
     "name": "stdout",
     "output_type": "stream",
     "text": [
      "+----+-----+----------+---------+-------+----------+-------+----------+-------------+---------+-------+-----------------+--------------+-------+--------+--------+------+----+--------+------+-------+---------+----------------+--------+------------+------------+--------+-------------+-----------------+\n",
      "|Year|Month|DayofMonth|DayOfWeek|DepTime|CRSDepTime|ArrTime|CRSArrTime|UniqueCarrier|FlightNum|TailNum|ActualElapsedTime|CRSElapsedTime|AirTime|ArrDelay|DepDelay|Origin|Dest|Distance|TaxiIn|TaxiOut|Cancelled|CancellationCode|Diverted|CarrierDelay|WeatherDelay|NASDelay|SecurityDelay|LateAircraftDelay|\n",
      "+----+-----+----------+---------+-------+----------+-------+----------+-------------+---------+-------+-----------------+--------------+-------+--------+--------+------+----+--------+------+-------+---------+----------------+--------+------------+------------+--------+-------------+-----------------+\n",
      "|2006|    7|         6|        4| 2055.0|    2055.0| 2150.0|    2148.0|           XE|     2619| N11526|             55.0|          53.0|   25.0|     2.0|     0.0|   IAH| LCH|   127.0|   8.0|   22.0|        0|            null|       0|         0.0|         0.0|     0.0|          0.0|              0.0|\n",
      "|1997|    3|         2|        7| 2019.0|    2015.0| 2314.0|    2245.0|           CO|      143| N59302|            295.0|         270.0|  248.0|    29.0|     4.0|   EWR| COS|  1623.0|   6.0|   41.0|        0|         unknown|       0|        null|        null|    null|         null|             null|\n",
      "|1994|    5|         2|        1|  700.0|     700.0|  804.0|     756.0|           AA|     1629|unknown|            124.0|         116.0|   null|     8.0|     0.0|   BWI| ORD|   622.0|  null|   null|        0|         unknown|       0|        null|        null|    null|         null|             null|\n",
      "|1997|    2|        14|        5|  700.0|     700.0|  728.0|     730.0|           WN|     1783|   N332|             88.0|          90.0|   70.0|    -2.0|     0.0|   TUS| LAX|   451.0|   8.0|   10.0|        0|         unknown|       0|        null|        null|    null|         null|             null|\n",
      "|2000|    6|        11|        7| 2052.0|    2034.0| 2132.0|    2121.0|           CO|     1753| N16893|            160.0|         167.0|  133.0|    11.0|    18.0|   IAH| PHX|  1009.0|   5.0|   22.0|        0|         unknown|       0|        null|        null|    null|         null|             null|\n",
      "|1997|   11|        16|        7| 1503.0|    1414.0| 1912.0|    1859.0|           AA|      414| N205AA|            189.0|         225.0|  177.0|    13.0|    49.0|   DFW| BOS|  1562.0|   4.0|    8.0|        0|         unknown|       0|        null|        null|    null|         null|             null|\n",
      "|1999|    5|        31|        1|  839.0|     845.0| 1409.0|    1421.0|           DL|      152| N177DZ|            210.0|         216.0|  181.0|   -12.0|    -6.0|   SLC| ATL|  1589.0|  11.0|   18.0|        0|         unknown|       0|        null|        null|    null|         null|             null|\n",
      "|1997|    4|        30|        3|  828.0|     830.0| 1206.0|    1155.0|           AA|       11| N5DAAA|            398.0|         385.0|  364.0|    11.0|    -2.0|   BOS| LAX|  2611.0|   5.0|   29.0|        0|         unknown|       0|        null|        null|    null|         null|             null|\n",
      "|1995|    7|        21|        5| 1018.0|    1000.0| 1126.0|    1113.0|           US|      272| N274US|             68.0|          73.0|   53.0|    13.0|    18.0|   GSO| PIT|   304.0|   4.0|   11.0|        0|         unknown|       0|        null|        null|    null|         null|             null|\n",
      "|1989|    9|        28|        4| 1501.0|    1450.0| 1639.0|    1630.0|           AA|      905|unknown|            158.0|         160.0|   null|     9.0|    11.0|   ORD| DEN|   888.0|  null|   null|        0|         unknown|       0|        null|        null|    null|         null|             null|\n",
      "|2007|   10|        26|        5|  654.0|     700.0| 1507.0|    1515.0|           AS|      802| N648AS|            313.0|         315.0|  293.0|    -8.0|    -6.0|   PDX| BOS|  2537.0|   9.0|   11.0|        0|            null|       0|         0.0|         0.0|     0.0|          0.0|              0.0|\n",
      "|1993|    6|        28|        1| 1540.0|    1541.0| 2146.0|    2131.0|           UA|     1746|unknown|            246.0|         230.0|   null|    15.0|    -1.0|   SAN| ORD|  1723.0|  null|   null|        0|         unknown|       0|        null|        null|    null|         null|             null|\n",
      "|1994|    3|        31|        4| 1909.0|    1900.0| 2116.0|    2130.0|           TW|      819|unknown|            247.0|         270.0|   null|   -14.0|     9.0|   STL| SFO|  1736.0|  null|   null|        0|         unknown|       0|        null|        null|    null|         null|             null|\n",
      "|2000|    5|        23|        2|  958.0|     910.0| 1205.0|    1110.0|           NW|      281| N523US|            307.0|         300.0|  285.0|    55.0|    48.0|   DTW| SEA|  1927.0|   8.0|   14.0|        0|         unknown|       0|        null|        null|    null|         null|             null|\n",
      "|2004|   10|        18|        1|  939.0|     940.0| 1151.0|    1128.0|           NW|      679| N317NB|            192.0|         168.0|  149.0|    23.0|    -1.0|   MSP| SLC|   991.0|  10.0|   33.0|        0|            null|       0|         0.0|         0.0|    23.0|          0.0|              0.0|\n",
      "|2007|    5|        17|        4| 1944.0|    1830.0| 2034.0|    1930.0|           AA|     1011| N3BDAA|             50.0|          60.0|   35.0|    64.0|    74.0|   MIA| MCO|   193.0|   4.0|   11.0|        0|            null|       0|        64.0|         0.0|     0.0|          0.0|              0.0|\n",
      "|2003|    7|        31|        4| 1738.0|    1710.0| 1819.0|    1750.0|           DH|     7981| N309UE|             41.0|          40.0|   25.0|    29.0|    28.0|   IAD| CHO|    77.0|   3.0|   12.0|        0|            null|       0|        29.0|         0.0|     0.0|          0.0|              0.0|\n",
      "|1993|    3|        17|        3|  630.0|     630.0|  747.0|     755.0|           WN|     1968|unknown|             77.0|          85.0|   null|    -8.0|     0.0|   SFO| SAN|   447.0|  null|   null|        0|         unknown|       0|        null|        null|    null|         null|             null|\n",
      "|2002|    8|        25|        7| 1255.0|    1250.0| 1552.0|    1558.0|           AA|      768| N464AA|            117.0|         128.0|   91.0|    -6.0|     5.0|   ORD| PHL|   678.0|   7.0|   19.0|        0|         unknown|       0|        null|        null|    null|         null|             null|\n",
      "|1995|    7|        30|        7| 2018.0|    1955.0| 2318.0|    2243.0|           CO|      765| N578PE|            180.0|         168.0|  127.0|    35.0|    23.0|   EWR| TPA|   998.0|   3.0|   50.0|        0|         unknown|       0|        null|        null|    null|         null|             null|\n",
      "+----+-----+----------+---------+-------+----------+-------+----------+-------------+---------+-------+-----------------+--------------+-------+--------+--------+------+----+--------+------+-------+---------+----------------+--------+------------+------------+--------+-------------+-----------------+\n",
      "only showing top 20 rows\n",
      "\n"
     ]
    }
   ],
   "source": [
    "air.na.replace('NA', \"unknown\").show()"
   ]
  },
  {
   "cell_type": "markdown",
   "metadata": {
    "slideshow": {
     "slide_type": "slide"
    }
   },
   "source": [
    "## Statistics"
   ]
  },
  {
   "cell_type": "code",
   "execution_count": 52,
   "metadata": {
    "slideshow": {
     "slide_type": "slide"
    }
   },
   "outputs": [
    {
     "data": {
      "text/plain": [
       "0.008481756987561132"
      ]
     },
     "execution_count": 52,
     "metadata": {},
     "output_type": "execute_result"
    }
   ],
   "source": [
    "air.corr(\"Distance\",\"ArrDelay\")"
   ]
  },
  {
   "cell_type": "code",
   "execution_count": 53,
   "metadata": {
    "slideshow": {
     "slide_type": "slide"
    }
   },
   "outputs": [
    {
     "data": {
      "text/plain": [
       "140.57953260215643"
      ]
     },
     "execution_count": 53,
     "metadata": {},
     "output_type": "execute_result"
    }
   ],
   "source": [
    "air.cov(\"Distance\",\"ArrDelay\")"
   ]
  },
  {
   "cell_type": "code",
   "execution_count": 54,
   "metadata": {
    "slideshow": {
     "slide_type": "slide"
    }
   },
   "outputs": [
    {
     "name": "stdout",
     "output_type": "stream",
     "text": [
      "+----+-----+----------+---------+-------+----------+-------+----------+-------------+---------+-------+-----------------+--------------+-------+--------+--------+------+----+--------+------+-------+---------+----------------+--------+------------+------------+--------+-------------+-----------------+\n",
      "|Year|Month|DayofMonth|DayOfWeek|DepTime|CRSDepTime|ArrTime|CRSArrTime|UniqueCarrier|FlightNum|TailNum|ActualElapsedTime|CRSElapsedTime|AirTime|ArrDelay|DepDelay|Origin|Dest|Distance|TaxiIn|TaxiOut|Cancelled|CancellationCode|Diverted|CarrierDelay|WeatherDelay|NASDelay|SecurityDelay|LateAircraftDelay|\n",
      "+----+-----+----------+---------+-------+----------+-------+----------+-------------+---------+-------+-----------------+--------------+-------+--------+--------+------+----+--------+------+-------+---------+----------------+--------+------------+------------+--------+-------------+-----------------+\n",
      "|2007|    5|        17|        4| 1944.0|    1830.0| 2034.0|    1930.0|           AA|     1011| N3BDAA|             50.0|          60.0|   35.0|    64.0|    74.0|   MIA| MCO|   193.0|   4.0|   11.0|        0|            null|       0|        64.0|         0.0|     0.0|          0.0|              0.0|\n",
      "|2004|    4|        16|        5| 1550.0|    1525.0| 1750.0|    1638.0|           XE|     2602| N15948|            120.0|          73.0|   35.0|    72.0|    25.0|   EWR| BWI|   169.0|   5.0|   80.0|        0|            null|       0|         0.0|         0.0|    51.0|          0.0|             21.0|\n",
      "|2005|    7|         1|        5| 1931.0|    1723.0| 2235.0|    2017.0|           FL|      831| N978AT|            124.0|         114.0|   86.0|   138.0|   128.0|   MDW| ATL|   590.0|   9.0|   29.0|        0|            null|       0|         0.0|         0.0|    10.0|          0.0|            128.0|\n",
      "|2005|   11|        22|        2| 1849.0|    1705.0| 2034.0|    1815.0|           B6|       55| N585JB|            105.0|          70.0|   56.0|   139.0|   104.0|   BTV| JFK|   267.0|   4.0|   45.0|        0|            null|       0|         0.0|         0.0|    35.0|          0.0|            104.0|\n",
      "|2007|   10|        21|        7| 1725.0|    1625.0| 1837.0|    1730.0|           WN|      143| N389SW|             72.0|          65.0|   42.0|    67.0|    60.0|   LAS| LAX|   236.0|  12.0|   18.0|        0|            null|       0|         0.0|         0.0|     7.0|          0.0|             60.0|\n",
      "|2005|    4|        15|        5| 1519.0|    1310.0| 1751.0|    1545.0|           AS|      631| N947AS|            152.0|         155.0|  136.0|   126.0|   129.0|   LAS| SEA|   866.0|   5.0|   11.0|        0|            null|       0|         4.0|         0.0|     0.0|          0.0|            122.0|\n",
      "|2006|    1|        24|        2| 1230.0|    1115.0| 1343.0|    1228.0|           OH|     5050| N784CA|             73.0|          73.0|   50.0|    75.0|    75.0|   JFK| BOS|   187.0|   5.0|   18.0|        0|            null|       0|        75.0|         0.0|     0.0|          0.0|              0.0|\n",
      "|2007|    6|        16|        6| 1525.0|    1155.0| 1636.0|    1255.0|           XE|     2317| N14933|             71.0|          60.0|   44.0|   221.0|   210.0|   LFT| IAH|   201.0|  10.0|   17.0|        0|            null|       0|         0.0|         0.0|   104.0|          0.0|            117.0|\n",
      "|2006|   12|         1|        5| 1016.0|     720.0| 1226.0|     925.0|           MQ|     3484| N902BC|            190.0|         185.0|  167.0|   181.0|   176.0|   CHS| DFW|   987.0|  11.0|   12.0|        0|            null|       0|       176.0|         0.0|     5.0|          0.0|              0.0|\n",
      "|2007|    8|        25|        6| 1544.0|    1430.0| 2123.0|    2015.0|           AA|     2073| N612AA|            279.0|         285.0|  256.0|    68.0|    74.0|   ORD| SJU|  2072.0|   4.0|   19.0|        0|            null|       0|        68.0|         0.0|     0.0|          0.0|              0.0|\n",
      "|2006|    7|        20|        4| 1102.0|     834.0| 1445.0|    1225.0|           AA|     1652| N441AA|            163.0|         171.0|  144.0|   140.0|   148.0|   ORD| RSW|  1120.0|   2.0|   17.0|        0|            null|       0|         0.0|       140.0|     0.0|          0.0|              0.0|\n",
      "|2006|    7|        23|        7| 2110.0|    1920.0| 2228.0|    2035.0|           WN|     2347|   N433|             78.0|          75.0|   57.0|   113.0|   110.0|   SNA| OAK|   371.0|   6.0|   15.0|        0|            null|       0|         0.0|         0.0|     3.0|          4.0|            106.0|\n",
      "|2007|    1|        14|        7| 1110.0|     850.0| 1216.0|    1010.0|           9E|     5968| 85889E|             66.0|          80.0|   44.0|   126.0|   140.0|   MEM| STL|   256.0|   5.0|   17.0|        0|            null|       0|       126.0|         0.0|     0.0|          0.0|              0.0|\n",
      "|2004|    1|        11|        7| 1530.0|    1255.0| 1815.0|    1545.0|           WN|     1405|   N630|            105.0|         110.0|   94.0|   150.0|   155.0|   OAK| PHX|   646.0|   3.0|    8.0|        0|            null|       0|       150.0|         0.0|     0.0|          0.0|              0.0|\n",
      "|2007|   10|        26|        5| 1603.0|    1448.0| 1900.0|    1752.0|           UA|      270| N535UA|            117.0|         124.0|  105.0|    68.0|    75.0|   SNA| DEN|   846.0|   5.0|    7.0|        0|            null|       0|         0.0|         0.0|     0.0|          0.0|             68.0|\n",
      "|2005|   10|        31|        1|  854.0|     858.0| 1136.0|    1000.0|           MQ|     3384| N852AE|            162.0|          62.0|   41.0|    96.0|    -4.0|   SJT| DFW|   228.0| 109.0|   12.0|        0|            null|       0|         0.0|         0.0|    96.0|          0.0|              0.0|\n",
      "|2006|    1|         6|        5| 2200.0|    2030.0| 2320.0|    2214.0|           OH|     5830| N408CA|            140.0|         164.0|  119.0|    66.0|    90.0|   LGA| BHM|   866.0|   5.0|   16.0|        0|            null|       0|         0.0|         0.0|     0.0|          0.0|             66.0|\n",
      "|2005|    6|         1|        3| 1729.0|    1610.0| 1847.0|    1740.0|           AA|     1966| N4UAAA|             78.0|          90.0|   62.0|    67.0|    79.0|   DFW| MCI|   460.0|   3.0|   13.0|        0|            null|       0|        67.0|         0.0|     0.0|          0.0|              0.0|\n",
      "|2007|    7|        13|        5| 1840.0|    1745.0| 2007.0|    1905.0|           EV|     4263| N879AS|            147.0|         140.0|  125.0|    62.0|    55.0|   DCA| JAN|   860.0|   6.0|   16.0|        0|            null|       0|        55.0|         0.0|     7.0|          0.0|              0.0|\n",
      "|2006|    2|        26|        7| 1953.0|    1745.0| 2145.0|    1940.0|           OO|     6765| N750SK|            112.0|         115.0|   92.0|   125.0|   128.0|   DEN| TUS|   639.0|   6.0|   14.0|        0|            null|       0|       125.0|         0.0|     0.0|          0.0|              0.0|\n",
      "+----+-----+----------+---------+-------+----------+-------+----------+-------------+---------+-------+-----------------+--------------+-------+--------+--------+------+----+--------+------+-------+---------+----------------+--------+------------+------------+--------+-------------+-----------------+\n",
      "only showing top 20 rows\n",
      "\n"
     ]
    }
   ],
   "source": [
    "air.filter(air.ArrDelay > 60).show() # filter with certain conditions "
   ]
  },
  {
   "cell_type": "markdown",
   "metadata": {
    "slideshow": {
     "slide_type": "slide"
    }
   },
   "source": [
    "### User-defined functions"
   ]
  },
  {
   "cell_type": "code",
   "execution_count": 55,
   "metadata": {
    "slideshow": {
     "slide_type": "fragment"
    }
   },
   "outputs": [
    {
     "data": {
      "text/html": [
       "<div>\n",
       "<style scoped>\n",
       "    .dataframe tbody tr th:only-of-type {\n",
       "        vertical-align: middle;\n",
       "    }\n",
       "\n",
       "    .dataframe tbody tr th {\n",
       "        vertical-align: top;\n",
       "    }\n",
       "\n",
       "    .dataframe thead th {\n",
       "        text-align: right;\n",
       "    }\n",
       "</style>\n",
       "<table border=\"1\" class=\"dataframe\">\n",
       "  <thead>\n",
       "    <tr style=\"text-align: right;\">\n",
       "      <th></th>\n",
       "      <th>DayOfWeek</th>\n",
       "      <th>ArrDelay</th>\n",
       "      <th>AirTime</th>\n",
       "      <th>Distance</th>\n",
       "    </tr>\n",
       "  </thead>\n",
       "  <tbody>\n",
       "    <tr>\n",
       "      <th>0</th>\n",
       "      <td>4.0</td>\n",
       "      <td>2.0</td>\n",
       "      <td>25.0</td>\n",
       "      <td>127.0</td>\n",
       "    </tr>\n",
       "    <tr>\n",
       "      <th>1</th>\n",
       "      <td>7.0</td>\n",
       "      <td>29.0</td>\n",
       "      <td>248.0</td>\n",
       "      <td>1623.0</td>\n",
       "    </tr>\n",
       "    <tr>\n",
       "      <th>2</th>\n",
       "      <td>NaN</td>\n",
       "      <td>NaN</td>\n",
       "      <td>NaN</td>\n",
       "      <td>NaN</td>\n",
       "    </tr>\n",
       "    <tr>\n",
       "      <th>3</th>\n",
       "      <td>5.0</td>\n",
       "      <td>-2.0</td>\n",
       "      <td>70.0</td>\n",
       "      <td>451.0</td>\n",
       "    </tr>\n",
       "    <tr>\n",
       "      <th>4</th>\n",
       "      <td>7.0</td>\n",
       "      <td>11.0</td>\n",
       "      <td>133.0</td>\n",
       "      <td>1009.0</td>\n",
       "    </tr>\n",
       "    <tr>\n",
       "      <th>...</th>\n",
       "      <td>...</td>\n",
       "      <td>...</td>\n",
       "      <td>...</td>\n",
       "      <td>...</td>\n",
       "    </tr>\n",
       "    <tr>\n",
       "      <th>5548749</th>\n",
       "      <td>3.0</td>\n",
       "      <td>13.0</td>\n",
       "      <td>59.0</td>\n",
       "      <td>318.0</td>\n",
       "    </tr>\n",
       "    <tr>\n",
       "      <th>5548750</th>\n",
       "      <td>1.0</td>\n",
       "      <td>22.0</td>\n",
       "      <td>34.0</td>\n",
       "      <td>181.0</td>\n",
       "    </tr>\n",
       "    <tr>\n",
       "      <th>5548751</th>\n",
       "      <td>1.0</td>\n",
       "      <td>11.0</td>\n",
       "      <td>71.0</td>\n",
       "      <td>551.0</td>\n",
       "    </tr>\n",
       "    <tr>\n",
       "      <th>5548752</th>\n",
       "      <td>NaN</td>\n",
       "      <td>NaN</td>\n",
       "      <td>NaN</td>\n",
       "      <td>NaN</td>\n",
       "    </tr>\n",
       "    <tr>\n",
       "      <th>5548753</th>\n",
       "      <td>2.0</td>\n",
       "      <td>-14.0</td>\n",
       "      <td>107.0</td>\n",
       "      <td>888.0</td>\n",
       "    </tr>\n",
       "  </tbody>\n",
       "</table>\n",
       "<p>5548754 rows × 4 columns</p>\n",
       "</div>"
      ],
      "text/plain": [
       "         DayOfWeek  ArrDelay  AirTime  Distance\n",
       "0              4.0       2.0     25.0     127.0\n",
       "1              7.0      29.0    248.0    1623.0\n",
       "2              NaN       NaN      NaN       NaN\n",
       "3              5.0      -2.0     70.0     451.0\n",
       "4              7.0      11.0    133.0    1009.0\n",
       "...            ...       ...      ...       ...\n",
       "5548749        3.0      13.0     59.0     318.0\n",
       "5548750        1.0      22.0     34.0     181.0\n",
       "5548751        1.0      11.0     71.0     551.0\n",
       "5548752        NaN       NaN      NaN       NaN\n",
       "5548753        2.0     -14.0    107.0     888.0\n",
       "\n",
       "[5548754 rows x 4 columns]"
      ]
     },
     "execution_count": 55,
     "metadata": {},
     "output_type": "execute_result"
    }
   ],
   "source": [
    "## air2 = air.select([\"DayOfWeek\",\"ArrDelay\",\"AirTime\",\"Distance\"])\n",
    "air2_pdf = air.select([\"DayOfWeek\", \"ArrDelay\",\"AirTime\",\"Distance\"]).toPandas()\n",
    "air2_pdf"
   ]
  },
  {
   "cell_type": "code",
   "execution_count": 57,
   "metadata": {
    "slideshow": {
     "slide_type": "slide"
    }
   },
   "outputs": [
    {
     "data": {
      "text/html": [
       "<div>\n",
       "<style scoped>\n",
       "    .dataframe tbody tr th:only-of-type {\n",
       "        vertical-align: middle;\n",
       "    }\n",
       "\n",
       "    .dataframe tbody tr th {\n",
       "        vertical-align: top;\n",
       "    }\n",
       "\n",
       "    .dataframe thead th {\n",
       "        text-align: right;\n",
       "    }\n",
       "</style>\n",
       "<table border=\"1\" class=\"dataframe\">\n",
       "  <thead>\n",
       "    <tr style=\"text-align: right;\">\n",
       "      <th></th>\n",
       "      <th>ArrDelay</th>\n",
       "      <th>AirTime</th>\n",
       "      <th>Distance</th>\n",
       "    </tr>\n",
       "  </thead>\n",
       "  <tbody>\n",
       "    <tr>\n",
       "      <th>0</th>\n",
       "      <td>7.350591</td>\n",
       "      <td>102.688519</td>\n",
       "      <td>729.997977</td>\n",
       "    </tr>\n",
       "  </tbody>\n",
       "</table>\n",
       "</div>"
      ],
      "text/plain": [
       "   ArrDelay     AirTime    Distance\n",
       "0  7.350591  102.688519  729.997977"
      ]
     },
     "execution_count": 57,
     "metadata": {},
     "output_type": "execute_result"
    }
   ],
   "source": [
    "import pandas as pd\n",
    "def myfun(pdf):\n",
    "    out = dict() \n",
    "    out[\"ArrDelay\"] = pdf.ArrDelay.mean()\n",
    "    out[\"AirTime\"]  = pdf.AirTime.mean()\n",
    "    out[\"Distance\"] = pdf.Distance.mean()\n",
    "    \n",
    "    return pd.DataFrame(out, index=[0])\n",
    "\n",
    "myfun(air2_pdf)"
   ]
  }
 ],
 "metadata": {
  "celltoolbar": "Slideshow",
  "kernelspec": {
   "display_name": "Python 3 (ipykernel)",
   "language": "python",
   "name": "python3"
  },
  "language_info": {
   "codemirror_mode": {
    "name": "ipython",
    "version": 3
   },
   "file_extension": ".py",
   "mimetype": "text/x-python",
   "name": "python",
   "nbconvert_exporter": "python",
   "pygments_lexer": "ipython3",
   "version": "3.9.9"
  },
  "rise": {
   "autolaunch": true,
   "footer": "<h3>Big Data Essential, 2020 Autumn</h3>",
   "scroll": true,
   "theme": "solarized",
   "transition": "fade"
  }
 },
 "nbformat": 4,
 "nbformat_minor": 4
}
