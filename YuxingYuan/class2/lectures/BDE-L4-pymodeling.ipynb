{
 "cells": [
  {
   "cell_type": "markdown",
   "metadata": {
    "slideshow": {
     "slide_type": "slide"
    }
   },
   "source": [
    "# Big Data Essentials\n",
    "#### L4: Statistical Modeling with Python\n",
    "\n",
    "\n",
    "<br>\n",
    "<br>\n",
    "<br>\n",
    "<br>\n",
    "Yanfei Kang <br>\n",
    "yanfeikang@buaa.edu.cn <br>\n",
    "School of Economics and Management <br>\n",
    "Beihang University <br>\n",
    "http://yanfei.site <br>\n"
   ]
  },
  {
   "cell_type": "markdown",
   "metadata": {
    "slideshow": {
     "slide_type": "slide"
    }
   },
   "source": [
    "<br>\n",
    "<br>\n",
    "\n",
    "# Basic python modules for Statistics \n"
   ]
  },
  {
   "cell_type": "markdown",
   "metadata": {
    "slideshow": {
     "slide_type": "slide"
    }
   },
   "source": [
    "# `NumPy`\n",
    "\n",
    "`NumPy` is short for Numerical Python, is the foundational package for scientific computing in Python. It contains among other things:\n",
    "\n",
    "- a powerful N-dimensional array object\n",
    "- sophisticated (broadcasting) functions\n",
    "- tools for integrating C/C++ and Fortran code\n",
    "- useful linear algebra, Fourier transform, and random number capabilities\n",
    "\n",
    "\n",
    "\n",
    "### Readings\n",
    "- [NumPy Reference](http://docs.scipy.org/doc/numpy/reference/)\n",
    "- [NumPy User Guide](http://docs.scipy.org/doc/numpy/user/index.html)"
   ]
  },
  {
   "cell_type": "markdown",
   "metadata": {
    "slideshow": {
     "slide_type": "slide"
    }
   },
   "source": [
    "# `SciPy `\n",
    "\n",
    "`SciPy` is a collection of packages addressing a number of different standard problem domains in scientific computing. Here is a sampling of the packages included:\n",
    "\n",
    "- `scipy.integrate` : numerical integration routines and differential equation solvers.\n",
    "- `scipy.linalg` : linear algebra routines and matrix decompositions extending beyond those provided in `numpy.linalg`.\n",
    "- `scipy.optimize` : function optimizers (minimizers) and root finding algorithms.\n",
    "- `scipy.signal` : signal processing tools.\n",
    "- `scipy.stats` : standard continuous and discrete probability distributions (density functions, samplers, continuous distribution functions), various statistical tests, and more descriptive statistics.\n",
    "- `scipy.cluster` :\tClustering algorithms\n",
    "- `scipy.interpolate` : Interpolation and smoothing splines\n",
    "- `scipy.ndimage` : N-dimensional image processing\n",
    "\n",
    "### Readings\n",
    "[SciPy Reference Guide](http://docs.scipy.org/doc/scipy/reference/)"
   ]
  },
  {
   "cell_type": "markdown",
   "metadata": {
    "slideshow": {
     "slide_type": "slide"
    }
   },
   "source": [
    "# `pandas`\n",
    "\n",
    "`pandas` provides rich data structures and functions designed to make working with structured data fast, easy, and expressive. `pandas` rounds up the capabilities of `Numpy`, `Scipy` and `Matplotlib`.\n",
    "\n",
    "- Primary data structures: `Series` and `DataFrame`.\n",
    "- Index objects enabling both simple axis indexing and multi-level / hierarchical axis indexing.\n",
    "- An integrated group by engine for aggregating and transforming data sets.\n",
    "- Date range generation (date_range) and custom date offsets enabling the implementation of customized frequencies\n",
    "- Input/Output tools: loading tabular data from flat files (CSV, delimited, Excel 2003), and saving and loading pandas objects from the fast and efficient PyTables/HDF5 format.\n",
    "- Memory-efficient “sparse” versions of the standard data structures for storing data that is mostly missing or mostly constant (some fixed value).\n",
    "- Moving window statistics (rolling mean, rolling standard deviation, etc.)\n",
    "- Static and moving window linear and panel regression.\n",
    "\n",
    "### Readings\n",
    "[pandas Documentation](https://pandas.pydata.org/docs/pandas.pdf)"
   ]
  },
  {
   "cell_type": "markdown",
   "metadata": {
    "slideshow": {
     "slide_type": "slide"
    }
   },
   "source": [
    "# Visualization\n",
    "\n",
    "- `matplotlib` is the most popular Python library for producing plots and other 2D data visualizations. \n",
    "- `seaborn` is a Python data visualization library based on matplotlib. It provides a high-level interface for drawing attractive and informative statistical graphics.\n",
    "\n",
    "### Readings\n",
    "- [matplotlib](https://matplotlib.org/)\n",
    "- [seaborn](https://seaborn.pydata.org/)"
   ]
  },
  {
   "cell_type": "markdown",
   "metadata": {
    "slideshow": {
     "slide_type": "slide"
    }
   },
   "source": [
    "<br>\n",
    "<br>\n",
    "\n",
    "#  Working with Data \n"
   ]
  },
  {
   "cell_type": "markdown",
   "metadata": {
    "slideshow": {
     "slide_type": "slide"
    }
   },
   "source": [
    "# Read and write data in Python with `stdin` and `stdout` "
   ]
  },
  {
   "cell_type": "code",
   "execution_count": 12,
   "metadata": {
    "scrolled": true,
    "slideshow": {
     "slide_type": "fragment"
    }
   },
   "outputs": [
    {
     "name": "stdout",
     "output_type": "stream",
     "text": [
      "#! /usr/bin/env python3\r\n",
      "\r\n",
      "import sys\r\n",
      "count = 0\r\n",
      "data = []\r\n",
      "for line in sys.stdin:\r\n",
      "    count += 1\r\n",
      "    data.append(line)\r\n",
      "\r\n",
      "print(\"Total \",count, \"lines read.\") # print goes to sys.stdout\r\n",
      "#print(data)\r\n"
     ]
    }
   ],
   "source": [
    "cat ./code/L3/line_count.py"
   ]
  },
  {
   "cell_type": "markdown",
   "metadata": {
    "slideshow": {
     "slide_type": "slide"
    }
   },
   "source": [
    "Then launch a terminal and first make your Python script executable. Then send your file to your Python script\n",
    "\n",
    "```\n",
    "chmod +x line_count.py\n",
    "```"
   ]
  },
  {
   "cell_type": "code",
   "execution_count": 13,
   "metadata": {
    "slideshow": {
     "slide_type": "fragment"
    }
   },
   "outputs": [
    {
     "name": "stdout",
     "output_type": "stream",
     "text": [
      "Total  340 lines read.\r\n"
     ]
    }
   ],
   "source": [
    "cat BDE-L3-git.ipynb | ./code/L3/line_count.py"
   ]
  },
  {
   "cell_type": "markdown",
   "metadata": {
    "slideshow": {
     "slide_type": "slide"
    }
   },
   "source": [
    "# Read from and write to files directly \n",
    "\n",
    "You can also explicitly read from and write to files directly in your code. Python makes working with files pretty simple.\n",
    "\n",
    "- The first step to working with a text file is to obtain a file object using `open()`\n",
    "\n",
    "    'r' means read-only\n",
    "       \n",
    "        file_for_reading = open('reading_file.txt', 'r')\n",
    "       \n",
    "    'w' is write -- will destroy the file if it already exists!\n",
    "           \n",
    "        file_for_writing = open('writing_file.txt', 'w')\n",
    "           \n",
    "    'a' is append -- for adding to the end of the file\n",
    "\n",
    "        file_for_appending = open('appending_file.txt', 'a')\n",
    "            \n",
    "- The second step is do something with the file.\n",
    "- Don't forget to close your files when you're done.\n",
    "        \n",
    "        file_for_writing.close()\n",
    "    \n",
    "**Note** Because it is easy to forget to close your files, you should always use them in a **with** block, at the end of which they will be closed automatically:\n",
    "\n",
    "    with open(filename,'r') as f:\n",
    "        data = function_that_gets_data_from(f)"
   ]
  },
  {
   "cell_type": "code",
   "execution_count": 36,
   "metadata": {
    "slideshow": {
     "slide_type": "slide"
    }
   },
   "outputs": [
    {
     "name": "stdout",
     "output_type": "stream",
     "text": [
      "#! /usr/bin/env python3\r\n",
      "\r\n",
      "import re\r\n",
      "starts_with_hash = 0\r\n",
      "\r\n",
      "# look at each line in the file use a regex to see if it starts with '#' if it does, add 1\r\n",
      "# to the count.\r\n",
      "\r\n",
      "with open('~/lectures/code/L3/line_count.py','r') as file:\r\n",
      "    for line in file:\r\n",
      "        if re.match(\"^#\",line):\r\n",
      "            starts_with_hash += 1\r\n",
      "print(starts_with_hash)\r\n"
     ]
    }
   ],
   "source": [
    "cat ./code/L3/hash_check.py"
   ]
  },
  {
   "cell_type": "markdown",
   "metadata": {
    "slideshow": {
     "slide_type": "slide"
    }
   },
   "source": [
    "# Read a CSV file \n",
    "\n",
    "- If your file has no headers, you can use `csv.reader()` in `csv` module to iterate over the rows, each of which will be an appropriately split list.\n",
    "\n",
    "- If your file has headers, you can either \n",
    "    - skip the header row (with an initial call to `reader.next()`), or\n",
    "    - get each row as a `dict` (with the headers as keys) by using `csv.DictReader()`."
   ]
  },
  {
   "cell_type": "code",
   "execution_count": 1,
   "metadata": {
    "slideshow": {
     "slide_type": "slide"
    }
   },
   "outputs": [
    {
     "name": "stdout",
     "output_type": "stream",
     "text": [
      "AAPL\t2015-01-23\t112.98\n",
      "\n"
     ]
    }
   ],
   "source": [
    "#! /usr/bin/python3\n",
    "\n",
    "data = []\n",
    "file = open('data/stocks.csv','r')\n",
    "next(file)\n",
    "for line in file:\n",
    "    data.append(line)\n",
    "\n",
    "print(data[0])"
   ]
  },
  {
   "cell_type": "code",
   "execution_count": 2,
   "metadata": {
    "slideshow": {
     "slide_type": "slide"
    }
   },
   "outputs": [],
   "source": [
    "#! /usr/bin/env python3\n",
    "\n",
    "import csv\n",
    "\n",
    "data = {'date':[], 'symbol':[], 'closing_price' : []}\n",
    "with open('data/stocks.csv', 'r') as f:\n",
    "    reader = csv.DictReader(f, delimiter='\\t')\n",
    "    for row in reader:\n",
    "        data['date'].append(row[\"date\"])\n",
    "        data['symbol'].append(row[\"symbol\"])\n",
    "        data['closing_price'].append(float(row[\"closing_price\"]))"
   ]
  },
  {
   "cell_type": "code",
   "execution_count": 3,
   "metadata": {
    "slideshow": {
     "slide_type": "fragment"
    }
   },
   "outputs": [
    {
     "data": {
      "text/plain": [
       "dict_keys(['date', 'symbol', 'closing_price'])"
      ]
     },
     "execution_count": 3,
     "metadata": {},
     "output_type": "execute_result"
    }
   ],
   "source": [
    "data.keys()"
   ]
  },
  {
   "cell_type": "markdown",
   "metadata": {
    "slideshow": {
     "slide_type": "slide"
    }
   },
   "source": [
    "Alternatively, `pandas` provides `read_csv()` function to read csv files."
   ]
  },
  {
   "cell_type": "code",
   "execution_count": 4,
   "metadata": {
    "slideshow": {
     "slide_type": "fragment"
    }
   },
   "outputs": [
    {
     "name": "stdout",
     "output_type": "stream",
     "text": [
      "16556\n",
      "<class 'pandas.core.frame.DataFrame'>\n"
     ]
    }
   ],
   "source": [
    "#! /usr/bin/env python3\n",
    "\n",
    "import pandas\n",
    "\n",
    "data2 = pandas.read_csv('data/stocks.csv', delimiter='\\t',header=None)\n",
    "print(len(data2))\n",
    "print(type(data2))"
   ]
  },
  {
   "cell_type": "markdown",
   "metadata": {
    "slideshow": {
     "slide_type": "slide"
    }
   },
   "source": [
    "The pandas I/O API is a set of top level `reader` functions accessed like `read_csv()` that generally return a pandas object. These functions includes\n",
    "\n",
    "    read_excel\n",
    "    read_hdf\n",
    "    read_sql\n",
    "    read_json\n",
    "    read_msgpack (experimental)\n",
    "    read_html\n",
    "    read_gbq (experimental)\n",
    "    read_stata\n",
    "    read_sas\n",
    "    read_clipboard\n",
    "    read_pickle\n",
    "    \n",
    "See [pandas IO tools](http://pandas.pydata.org/pandas-docs/stable/io.html) for detailed explanation."
   ]
  },
  {
   "cell_type": "markdown",
   "metadata": {
    "slideshow": {
     "slide_type": "slide"
    }
   },
   "source": [
    "<br>\n",
    "<br>\n",
    "\n",
    "# Fitting linear regression models"
   ]
  },
  {
   "cell_type": "code",
   "execution_count": 5,
   "metadata": {
    "slideshow": {
     "slide_type": "slide"
    }
   },
   "outputs": [],
   "source": [
    "import numpy as np\n",
    "import pandas as pd\n",
    "import matplotlib.pyplot as plt\n",
    "from scipy.optimize import fmin\n",
    "import seaborn as sns"
   ]
  },
  {
   "cell_type": "code",
   "execution_count": 6,
   "metadata": {
    "slideshow": {
     "slide_type": "slide"
    }
   },
   "outputs": [
    {
     "data": {
      "text/html": [
       "<div>\n",
       "<style scoped>\n",
       "    .dataframe tbody tr th:only-of-type {\n",
       "        vertical-align: middle;\n",
       "    }\n",
       "\n",
       "    .dataframe tbody tr th {\n",
       "        vertical-align: top;\n",
       "    }\n",
       "\n",
       "    .dataframe thead th {\n",
       "        text-align: right;\n",
       "    }\n",
       "</style>\n",
       "<table border=\"1\" class=\"dataframe\">\n",
       "  <thead>\n",
       "    <tr style=\"text-align: right;\">\n",
       "      <th></th>\n",
       "      <th>Unnamed: 0</th>\n",
       "      <th>crim</th>\n",
       "      <th>zn</th>\n",
       "      <th>indus</th>\n",
       "      <th>chas</th>\n",
       "      <th>nox</th>\n",
       "      <th>rm</th>\n",
       "      <th>age</th>\n",
       "      <th>dis</th>\n",
       "      <th>rad</th>\n",
       "      <th>tax</th>\n",
       "      <th>ptratio</th>\n",
       "      <th>black</th>\n",
       "      <th>lstat</th>\n",
       "      <th>medv</th>\n",
       "    </tr>\n",
       "  </thead>\n",
       "  <tbody>\n",
       "    <tr>\n",
       "      <th>0</th>\n",
       "      <td>1</td>\n",
       "      <td>0.00632</td>\n",
       "      <td>18.0</td>\n",
       "      <td>2.31</td>\n",
       "      <td>0</td>\n",
       "      <td>0.538</td>\n",
       "      <td>6.575</td>\n",
       "      <td>65.2</td>\n",
       "      <td>4.0900</td>\n",
       "      <td>1</td>\n",
       "      <td>296</td>\n",
       "      <td>15.3</td>\n",
       "      <td>396.90</td>\n",
       "      <td>4.98</td>\n",
       "      <td>24.0</td>\n",
       "    </tr>\n",
       "    <tr>\n",
       "      <th>1</th>\n",
       "      <td>2</td>\n",
       "      <td>0.02731</td>\n",
       "      <td>0.0</td>\n",
       "      <td>7.07</td>\n",
       "      <td>0</td>\n",
       "      <td>0.469</td>\n",
       "      <td>6.421</td>\n",
       "      <td>78.9</td>\n",
       "      <td>4.9671</td>\n",
       "      <td>2</td>\n",
       "      <td>242</td>\n",
       "      <td>17.8</td>\n",
       "      <td>396.90</td>\n",
       "      <td>9.14</td>\n",
       "      <td>21.6</td>\n",
       "    </tr>\n",
       "    <tr>\n",
       "      <th>2</th>\n",
       "      <td>3</td>\n",
       "      <td>0.02729</td>\n",
       "      <td>0.0</td>\n",
       "      <td>7.07</td>\n",
       "      <td>0</td>\n",
       "      <td>0.469</td>\n",
       "      <td>7.185</td>\n",
       "      <td>61.1</td>\n",
       "      <td>4.9671</td>\n",
       "      <td>2</td>\n",
       "      <td>242</td>\n",
       "      <td>17.8</td>\n",
       "      <td>392.83</td>\n",
       "      <td>4.03</td>\n",
       "      <td>34.7</td>\n",
       "    </tr>\n",
       "    <tr>\n",
       "      <th>3</th>\n",
       "      <td>4</td>\n",
       "      <td>0.03237</td>\n",
       "      <td>0.0</td>\n",
       "      <td>2.18</td>\n",
       "      <td>0</td>\n",
       "      <td>0.458</td>\n",
       "      <td>6.998</td>\n",
       "      <td>45.8</td>\n",
       "      <td>6.0622</td>\n",
       "      <td>3</td>\n",
       "      <td>222</td>\n",
       "      <td>18.7</td>\n",
       "      <td>394.63</td>\n",
       "      <td>2.94</td>\n",
       "      <td>33.4</td>\n",
       "    </tr>\n",
       "    <tr>\n",
       "      <th>4</th>\n",
       "      <td>5</td>\n",
       "      <td>0.06905</td>\n",
       "      <td>0.0</td>\n",
       "      <td>2.18</td>\n",
       "      <td>0</td>\n",
       "      <td>0.458</td>\n",
       "      <td>7.147</td>\n",
       "      <td>54.2</td>\n",
       "      <td>6.0622</td>\n",
       "      <td>3</td>\n",
       "      <td>222</td>\n",
       "      <td>18.7</td>\n",
       "      <td>396.90</td>\n",
       "      <td>5.33</td>\n",
       "      <td>36.2</td>\n",
       "    </tr>\n",
       "  </tbody>\n",
       "</table>\n",
       "</div>"
      ],
      "text/plain": [
       "   Unnamed: 0     crim    zn  indus  chas    nox     rm   age     dis  rad  \\\n",
       "0           1  0.00632  18.0   2.31     0  0.538  6.575  65.2  4.0900    1   \n",
       "1           2  0.02731   0.0   7.07     0  0.469  6.421  78.9  4.9671    2   \n",
       "2           3  0.02729   0.0   7.07     0  0.469  7.185  61.1  4.9671    2   \n",
       "3           4  0.03237   0.0   2.18     0  0.458  6.998  45.8  6.0622    3   \n",
       "4           5  0.06905   0.0   2.18     0  0.458  7.147  54.2  6.0622    3   \n",
       "\n",
       "   tax  ptratio   black  lstat  medv  \n",
       "0  296     15.3  396.90   4.98  24.0  \n",
       "1  242     17.8  396.90   9.14  21.6  \n",
       "2  242     17.8  392.83   4.03  34.7  \n",
       "3  222     18.7  394.63   2.94  33.4  \n",
       "4  222     18.7  396.90   5.33  36.2  "
      ]
     },
     "execution_count": 6,
     "metadata": {},
     "output_type": "execute_result"
    }
   ],
   "source": [
    "# Data available at https://www.kaggle.com/puxama/bostoncsv\n",
    "# Contains information collected by the U.S Census Service concerning housing in the area of Boston Mass. \n",
    "boston = pd.read_csv('./data/Boston.csv')\n",
    "boston.head()"
   ]
  },
  {
   "cell_type": "code",
   "execution_count": 16,
   "metadata": {
    "slideshow": {
     "slide_type": "slide"
    }
   },
   "outputs": [
    {
     "data": {
      "text/plain": [
       "<AxesSubplot:xlabel='lstat', ylabel='medv'>"
      ]
     },
     "execution_count": 16,
     "metadata": {},
     "output_type": "execute_result"
    },
    {
     "data": {
      "image/png": "[encoded data removed]",
      "text/plain": [
       "<Figure size 432x288 with 1 Axes>"
      ]
     },
     "metadata": {
      "needs_background": "light"
     },
     "output_type": "display_data"
    }
   ],
   "source": [
    "boston.plot(x = 'lstat', y = 'medv', style = 'o', legend=False, ylabel = 'medv')"
   ]
  },
  {
   "cell_type": "markdown",
   "metadata": {
    "slideshow": {
     "slide_type": "slide"
    }
   },
   "source": [
    "# Recall the linear regression model\n",
    "\n",
    "$$Y_i = \\beta_0 + \\beta_1 x_i + \\epsilon_i,~i=1, \\cdots, n,~\\textrm{where}~\\epsilon_i \\sim N(0,\\sigma^2).$$\n",
    "\n",
    "We want to minimize \n",
    "\n",
    "$$f(\\beta_0, \\beta_1) =  \\sum\\limits_{i=1}^n e_i^2 = \\sum\\limits_{i=1}^n(y_i - (\\beta_0 + \\beta_1x_i))^2.$$\n"
   ]
  },
  {
   "cell_type": "markdown",
   "metadata": {
    "slideshow": {
     "slide_type": "slide"
    }
   },
   "source": [
    "# Linear regression model\n",
    "\n",
    "What is the distribution of $Y_i$?"
   ]
  },
  {
   "cell_type": "markdown",
   "metadata": {
    "slideshow": {
     "slide_type": "fragment"
    }
   },
   "source": [
    " <img src=\"./figs/lmcd3d.png\" width=\"600\">"
   ]
  },
  {
   "cell_type": "code",
   "execution_count": 8,
   "metadata": {
    "slideshow": {
     "slide_type": "slide"
    }
   },
   "outputs": [
    {
     "data": {
      "text/plain": [
       "184221.366967"
      ]
     },
     "execution_count": 8,
     "metadata": {},
     "output_type": "execute_result"
    }
   ],
   "source": [
    "sum_of_squares = lambda beta, x, y: np.sum((y - beta[0] - beta[1]*x) ** 2)\n",
    "sum_of_squares([0,0.7], boston.lstat, boston.medv)"
   ]
  },
  {
   "cell_type": "markdown",
   "metadata": {
    "slideshow": {
     "slide_type": "slide"
    }
   },
   "source": [
    "However, we have objective of minimizing the sum of squares, so we can pass this function to one of several optimizers in `SciPy`."
   ]
  },
  {
   "cell_type": "code",
   "execution_count": 9,
   "metadata": {},
   "outputs": [
    {
     "name": "stdout",
     "output_type": "stream",
     "text": [
      "Help on function fmin in module scipy.optimize.optimize:\n",
      "\n",
      "fmin(func, x0, args=(), xtol=0.0001, ftol=0.0001, maxiter=None, maxfun=None, full_output=0, disp=1, retall=0, callback=None, initial_simplex=None)\n",
      "    Minimize a function using the downhill simplex algorithm.\n",
      "    \n",
      "    This algorithm only uses function values, not derivatives or second\n",
      "    derivatives.\n",
      "    \n",
      "    Parameters\n",
      "    ----------\n",
      "    func : callable func(x,*args)\n",
      "        The objective function to be minimized.\n",
      "    x0 : ndarray\n",
      "        Initial guess.\n",
      "    args : tuple, optional\n",
      "        Extra arguments passed to func, i.e., ``f(x,*args)``.\n",
      "    xtol : float, optional\n",
      "        Absolute error in xopt between iterations that is acceptable for\n",
      "        convergence.\n",
      "    ftol : number, optional\n",
      "        Absolute error in func(xopt) between iterations that is acceptable for\n",
      "        convergence.\n",
      "    maxiter : int, optional\n",
      "        Maximum number of iterations to perform.\n",
      "    maxfun : number, optional\n",
      "        Maximum number of function evaluations to make.\n",
      "    full_output : bool, optional\n",
      "        Set to True if fopt and warnflag outputs are desired.\n",
      "    disp : bool, optional\n",
      "        Set to True to print convergence messages.\n",
      "    retall : bool, optional\n",
      "        Set to True to return list of solutions at each iteration.\n",
      "    callback : callable, optional\n",
      "        Called after each iteration, as callback(xk), where xk is the\n",
      "        current parameter vector.\n",
      "    initial_simplex : array_like of shape (N + 1, N), optional\n",
      "        Initial simplex. If given, overrides `x0`.\n",
      "        ``initial_simplex[j,:]`` should contain the coordinates of\n",
      "        the jth vertex of the ``N+1`` vertices in the simplex, where\n",
      "        ``N`` is the dimension.\n",
      "    \n",
      "    Returns\n",
      "    -------\n",
      "    xopt : ndarray\n",
      "        Parameter that minimizes function.\n",
      "    fopt : float\n",
      "        Value of function at minimum: ``fopt = func(xopt)``.\n",
      "    iter : int\n",
      "        Number of iterations performed.\n",
      "    funcalls : int\n",
      "        Number of function calls made.\n",
      "    warnflag : int\n",
      "        1 : Maximum number of function evaluations made.\n",
      "        2 : Maximum number of iterations reached.\n",
      "    allvecs : list\n",
      "        Solution at each iteration.\n",
      "    \n",
      "    See also\n",
      "    --------\n",
      "    minimize: Interface to minimization algorithms for multivariate\n",
      "        functions. See the 'Nelder-Mead' `method` in particular.\n",
      "    \n",
      "    Notes\n",
      "    -----\n",
      "    Uses a Nelder-Mead simplex algorithm to find the minimum of function of\n",
      "    one or more variables.\n",
      "    \n",
      "    This algorithm has a long history of successful use in applications.\n",
      "    But it will usually be slower than an algorithm that uses first or\n",
      "    second derivative information. In practice, it can have poor\n",
      "    performance in high-dimensional problems and is not robust to\n",
      "    minimizing complicated functions. Additionally, there currently is no\n",
      "    complete theory describing when the algorithm will successfully\n",
      "    converge to the minimum, or how fast it will if it does. Both the ftol and\n",
      "    xtol criteria must be met for convergence.\n",
      "    \n",
      "    Examples\n",
      "    --------\n",
      "    >>> def f(x):\n",
      "    ...     return x**2\n",
      "    \n",
      "    >>> from scipy import optimize\n",
      "    \n",
      "    >>> minimum = optimize.fmin(f, 1)\n",
      "    Optimization terminated successfully.\n",
      "             Current function value: 0.000000\n",
      "             Iterations: 17\n",
      "             Function evaluations: 34\n",
      "    >>> minimum[0]\n",
      "    -8.8817841970012523e-16\n",
      "    \n",
      "    References\n",
      "    ----------\n",
      "    .. [1] Nelder, J.A. and Mead, R. (1965), \"A simplex method for function\n",
      "           minimization\", The Computer Journal, 7, pp. 308-313\n",
      "    \n",
      "    .. [2] Wright, M.H. (1996), \"Direct Search Methods: Once Scorned, Now\n",
      "           Respectable\", in Numerical Analysis 1995, Proceedings of the\n",
      "           1995 Dundee Biennial Conference in Numerical Analysis, D.F.\n",
      "           Griffiths and G.A. Watson (Eds.), Addison Wesley Longman,\n",
      "           Harlow, UK, pp. 191-208.\n",
      "\n"
     ]
    }
   ],
   "source": [
    "help(fmin)"
   ]
  },
  {
   "cell_type": "code",
   "execution_count": 22,
   "metadata": {
    "slideshow": {
     "slide_type": "fragment"
    }
   },
   "outputs": [
    {
     "name": "stdout",
     "output_type": "stream",
     "text": [
      "Optimization terminated successfully.\n",
      "         Current function value: 19472.381418\n",
      "         Iterations: 82\n",
      "         Function evaluations: 157\n"
     ]
    },
    {
     "data": {
      "text/plain": [
       "(34.55385886222141, -0.9500515380716178)"
      ]
     },
     "execution_count": 22,
     "metadata": {},
     "output_type": "execute_result"
    }
   ],
   "source": [
    "x = boston.lstat\n",
    "y = boston.medv\n",
    "b0, b1 = fmin(sum_of_squares, [0,1], (boston.lstat, boston.medv))\n",
    "b0, b1"
   ]
  },
  {
   "cell_type": "code",
   "execution_count": 29,
   "metadata": {
    "slideshow": {
     "slide_type": "slide"
    }
   },
   "outputs": [
    {
     "data": {
      "image/png": "[encoded data removed]",
      "text/plain": [
       "<Figure size 432x288 with 1 Axes>"
      ]
     },
     "metadata": {
      "needs_background": "light"
     },
     "output_type": "display_data"
    }
   ],
   "source": [
    "ax = boston.plot(x='lstat', y='medv', style='o', legend=False, ylabel= 'medv')\n",
    "ax.plot([0,37], [b0, b0+b1*37])\n",
    "for xi, yi in zip(x,y):\n",
    "    ax.plot([xi, xi], [yi, b0+b1*xi], 'k:')"
   ]
  },
  {
   "cell_type": "markdown",
   "metadata": {
    "slideshow": {
     "slide_type": "slide"
    }
   },
   "source": [
    "# Polynomial regession\n",
    "We are not restricted to a straight-line regression model; we can represent a curved relationship between our variables by introducing polynomial terms."
   ]
  },
  {
   "cell_type": "code",
   "execution_count": 19,
   "metadata": {
    "slideshow": {
     "slide_type": "fragment"
    }
   },
   "outputs": [
    {
     "name": "stdout",
     "output_type": "stream",
     "text": [
      "Optimization terminated successfully.\n",
      "         Current function value: 15347.243159\n",
      "         Iterations: 187\n",
      "         Function evaluations: 342\n",
      "\n",
      "intercept: 4.3e+01, x: -2.3, x2: 0.044\n"
     ]
    },
    {
     "data": {
      "text/plain": [
       "[<matplotlib.lines.Line2D at 0x7f31d1cfb310>]"
      ]
     },
     "execution_count": 19,
     "metadata": {},
     "output_type": "execute_result"
    },
    {
     "data": {
      "image/png": "[encoded data removed]",
      "text/plain": [
       "<Figure size 432x288 with 1 Axes>"
      ]
     },
     "metadata": {
      "needs_background": "light"
     },
     "output_type": "display_data"
    }
   ],
   "source": [
    "sum_squares_quad = lambda beta, x, y: np.sum((y - beta[0] - beta[1]*x - beta[2]*(x**2)) ** 2)\n",
    "b0,b1,b2 = fmin(sum_squares_quad, [1,1,-1], args=(x,y))\n",
    "print('\\nintercept: {0:.2}, x: {1:.2}, x2: {2:.2}'.format(b0,b1,b2))\n",
    "ax = boston.plot(x='lstat', y='medv', style='o', legend=False, ylabel = 'medv')\n",
    "xvals = np.linspace(0, 37, 100)\n",
    "ax.plot(xvals, b0 + b1*xvals + b2*(xvals**2))"
   ]
  },
  {
   "cell_type": "markdown",
   "metadata": {
    "slideshow": {
     "slide_type": "slide"
    }
   },
   "source": [
    "# Generalized linear models\n",
    "\n",
    "Often our data violates one or more of the linear regression assumptions:\n",
    "\n",
    "- non-linear\n",
    "- non-normal error distribution\n",
    "- heteroskedasticity\n",
    "- this forces us to generalize the regression model in order to account for these characteristics.\n",
    "\n",
    "As a motivating example, we consider the Olympic medals data."
   ]
  },
  {
   "cell_type": "markdown",
   "metadata": {
    "slideshow": {
     "slide_type": "slide"
    }
   },
   "source": [
    "# Linear regression models\n",
    "\n",
    "- Objective: model the expected value of a continuous variable $Y$, as a linear function of the continuous predictor $X$, $E(Y_i) = \\beta_0 + \\beta_1X_i$.\n",
    "- Model structure: $Y_i = \\beta_0 + \\beta_1X_i + e_i$.\n",
    "- Model assumptions: $Y$ is is normally distributed, errors are normally distributed, $e_i \\sim N(0, \\sigma^2)$, and independent, and $X$ is fixed, and constant variance $\\sigma^2$.\n",
    "- Parameter estimates and interpretation: $\\hat{\\beta}_0$ is estimate of $\\beta_0$ or the intercept, and $\\hat{\\beta}_1$  is estimate of the slope, etc. Think about the interpretation of the intercept and the slope.\n",
    "- Model fit: $R^2$, residual analysis, F-statistic.\n",
    "- Model selection: From a plethora of possible predictors, which variables to include?\n"
   ]
  },
  {
   "cell_type": "markdown",
   "metadata": {
    "slideshow": {
     "slide_type": "slide"
    }
   },
   "source": [
    "# Generalized linear models (GLM)\n",
    "\n",
    "- GLM usually refers to conventional linear regression models for a **continuous** response variable given continuous and/or categorical predictors. \n",
    "- The form is $y_i \\sim N(x^T_i\\beta,\\sigma^2)$, where $x_i$ contains known covariates and $\\beta$ contains the coefficients to be estimated. These models are usually fit by least squares and weighted least squares.\n",
    "- $y_i$ is assumed to follow an **exponential family distribution** with mean $\\mu_i$, which is assumed to be some (often nonlinear) function of $x^T_i\\beta$. "
   ]
  },
  {
   "cell_type": "markdown",
   "metadata": {
    "slideshow": {
     "slide_type": "slide"
    }
   },
   "source": [
    "# GLM assumptions\n",
    "\n",
    "- The data $Y_1, Y_2, \\cdots, Y_n$ are independently distributed, i.e., cases are independent.\n",
    "- $Y_i$ does NOT need to be normally distributed, but it typically assumes a distribution from an exponential family (e.g. binomial, Poisson)\n",
    "- GLM does NOT assume a linear relationship between $Y$ and $X$, but it does assume linear relationship between the transformed response in terms of the link function and the explanatory variables.\n",
    "- $X$ can be even the power terms or some other nonlinear transformations of the original independent variables.\n",
    "- Overdispersion (when the observed variance is larger than what the model assumes) maybe present.\n",
    "- Errors need to be independent but NOT normally distributed.\n",
    "- It uses MLE rather than OLS."
   ]
  },
  {
   "cell_type": "code",
   "execution_count": 33,
   "metadata": {
    "slideshow": {
     "slide_type": "slide"
    }
   },
   "outputs": [
    {
     "data": {
      "text/html": [
       "<div>\n",
       "<style scoped>\n",
       "    .dataframe tbody tr th:only-of-type {\n",
       "        vertical-align: middle;\n",
       "    }\n",
       "\n",
       "    .dataframe tbody tr th {\n",
       "        vertical-align: top;\n",
       "    }\n",
       "\n",
       "    .dataframe thead th {\n",
       "        text-align: right;\n",
       "    }\n",
       "</style>\n",
       "<table border=\"1\" class=\"dataframe\">\n",
       "  <thead>\n",
       "    <tr style=\"text-align: right;\">\n",
       "      <th></th>\n",
       "      <th>medals</th>\n",
       "      <th>population</th>\n",
       "      <th>oecd</th>\n",
       "      <th>log_population</th>\n",
       "    </tr>\n",
       "  </thead>\n",
       "  <tbody>\n",
       "    <tr>\n",
       "      <th>0</th>\n",
       "      <td>1</td>\n",
       "      <td>96165</td>\n",
       "      <td>0</td>\n",
       "      <td>11.473821</td>\n",
       "    </tr>\n",
       "    <tr>\n",
       "      <th>1</th>\n",
       "      <td>1</td>\n",
       "      <td>281584</td>\n",
       "      <td>0</td>\n",
       "      <td>12.548186</td>\n",
       "    </tr>\n",
       "    <tr>\n",
       "      <th>2</th>\n",
       "      <td>6</td>\n",
       "      <td>2589043</td>\n",
       "      <td>0</td>\n",
       "      <td>14.766799</td>\n",
       "    </tr>\n",
       "    <tr>\n",
       "      <th>3</th>\n",
       "      <td>25</td>\n",
       "      <td>10952046</td>\n",
       "      <td>0</td>\n",
       "      <td>16.209037</td>\n",
       "    </tr>\n",
       "    <tr>\n",
       "      <th>4</th>\n",
       "      <td>41</td>\n",
       "      <td>18348078</td>\n",
       "      <td>1</td>\n",
       "      <td>16.725035</td>\n",
       "    </tr>\n",
       "  </tbody>\n",
       "</table>\n",
       "</div>"
      ],
      "text/plain": [
       "   medals  population  oecd  log_population\n",
       "0       1       96165     0       11.473821\n",
       "1       1      281584     0       12.548186\n",
       "2       6     2589043     0       14.766799\n",
       "3      25    10952046     0       16.209037\n",
       "4      41    18348078     1       16.725035"
      ]
     },
     "execution_count": 33,
     "metadata": {},
     "output_type": "execute_result"
    }
   ],
   "source": [
    "medals = pd.read_csv('./data/medals.csv')\n",
    "medals.head()"
   ]
  },
  {
   "cell_type": "markdown",
   "metadata": {
    "slideshow": {
     "slide_type": "slide"
    }
   },
   "source": [
    "We expect a positive relationship between population and awarded medals, but the data in their raw form are clearly not amenable to linear regression."
   ]
  },
  {
   "cell_type": "code",
   "execution_count": 34,
   "metadata": {
    "slideshow": {
     "slide_type": "fragment"
    }
   },
   "outputs": [
    {
     "data": {
      "text/plain": [
       "<AxesSubplot:xlabel='population', ylabel='medals'>"
      ]
     },
     "execution_count": 34,
     "metadata": {},
     "output_type": "execute_result"
    },
    {
     "data": {
      "image/png": "[encoded data removed]",
      "text/plain": [
       "<Figure size 432x288 with 1 Axes>"
      ]
     },
     "metadata": {
      "needs_background": "light"
     },
     "output_type": "display_data"
    }
   ],
   "source": [
    "medals.plot(x='population', y='medals', kind='scatter')"
   ]
  },
  {
   "cell_type": "markdown",
   "metadata": {
    "slideshow": {
     "slide_type": "slide"
    }
   },
   "source": [
    "Part of the issue is the scale of the variables. For example, countries' populations span several orders of magnitude. We can correct this by using the logarithm of population, which we have already calculated."
   ]
  },
  {
   "cell_type": "code",
   "execution_count": 35,
   "metadata": {
    "slideshow": {
     "slide_type": "fragment"
    }
   },
   "outputs": [
    {
     "data": {
      "text/plain": [
       "<AxesSubplot:xlabel='log_population', ylabel='medals'>"
      ]
     },
     "execution_count": 35,
     "metadata": {},
     "output_type": "execute_result"
    },
    {
     "data": {
      "image/png": "[encoded data removed]",
      "text/plain": [
       "<Figure size 432x288 with 1 Axes>"
      ]
     },
     "metadata": {
      "needs_background": "light"
     },
     "output_type": "display_data"
    }
   ],
   "source": [
    "medals.plot(x='log_population', y='medals', kind='scatter')"
   ]
  },
  {
   "cell_type": "markdown",
   "metadata": {
    "slideshow": {
     "slide_type": "slide"
    }
   },
   "source": [
    "- This is an improvement, but the relationship is still not adequately modeled by least-squares regression.\n",
    "\n",
    "- This is due to the fact that the response data are counts. As a result, they tend to have characteristic properties.\n",
    "\n",
    "    - discrete\n",
    "    - positive\n",
    "    - variance grows with mean\n",
    "- To account for this, we can do two things:\n",
    "    1. model the medal count on the log scale;\n",
    "    2. assume Poisson, rather than normal.\n"
   ]
  },
  {
   "cell_type": "markdown",
   "metadata": {
    "slideshow": {
     "slide_type": "slide"
    }
   },
   "source": [
    "# Poisson regression\n",
    "\n",
    "- So, we will model the logarithm of the expected value as a linear function of our predictors:\n",
    "\n",
    "$$y_i \\sim \\text{Poisson}(\\lambda_i)$$\n",
    "$$\\log(\\lambda_i) = \\eta_i = \\beta_0 + \\beta_1x_{i,1} + \n",
    "\\cdots + \\beta_1x_{i,q},$$\n",
    "\n",
    "\n",
    "- Log link function forces positive mean.\n",
    "\n",
    "- Poisson log ikelihood:\n",
    "\n",
    "$$\\log L = \\sum_{i=1}^n -\\exp(x_i^T\\beta) + y_i (x_i^T \\beta)- \\log(y_i!)$$\n",
    "\n",
    "- As we have already done, we just need to code the kernel of this likelihood, and optimize!"
   ]
  },
  {
   "cell_type": "code",
   "execution_count": 40,
   "metadata": {
    "slideshow": {
     "slide_type": "slide"
    }
   },
   "outputs": [],
   "source": [
    "# Poisson negative log-likelhood\n",
    "poisson_loglike = lambda beta, X, y: -(-np.exp(X.dot(beta)) + y*X.dot(beta)).sum()"
   ]
  },
  {
   "cell_type": "code",
   "execution_count": 41,
   "metadata": {
    "slideshow": {
     "slide_type": "fragment"
    }
   },
   "outputs": [
    {
     "name": "stdout",
     "output_type": "stream",
     "text": [
      "Optimization terminated successfully.\n",
      "         Current function value: -1381.299433\n",
      "         Iterations: 68\n",
      "         Function evaluations: 131\n"
     ]
    },
    {
     "data": {
      "text/plain": [
       "(-5.297302917060439, 0.44873025169011005)"
      ]
     },
     "execution_count": 41,
     "metadata": {},
     "output_type": "execute_result"
    }
   ],
   "source": [
    "b1, b0 = fmin(poisson_loglike, [0,1], args=(medals[['log_population']].assign(intercept=1).values, \n",
    "                                            medals.medals.values))\n",
    "b0, b1"
   ]
  },
  {
   "cell_type": "code",
   "execution_count": 42,
   "metadata": {
    "slideshow": {
     "slide_type": "slide"
    }
   },
   "outputs": [
    {
     "data": {
      "text/plain": [
       "[<matplotlib.lines.Line2D at 0x7f31d1eab3d0>]"
      ]
     },
     "execution_count": 42,
     "metadata": {},
     "output_type": "execute_result"
    },
    {
     "data": {
      "image/png": "[encoded data removed]",
      "text/plain": [
       "<Figure size 432x288 with 1 Axes>"
      ]
     },
     "metadata": {
      "needs_background": "light"
     },
     "output_type": "display_data"
    }
   ],
   "source": [
    "ax = medals.plot(x='log_population', y='medals', kind='scatter')\n",
    "xvals = np.arange(12, 22)\n",
    "ax.plot(xvals, np.exp(b0 + b1*xvals), 'r--')"
   ]
  }
 ],
 "metadata": {
  "celltoolbar": "Slideshow",
  "kernelspec": {
   "display_name": "Python 3",
   "language": "python",
   "name": "python3"
  },
  "language_info": {
   "codemirror_mode": {
    "name": "ipython",
    "version": 3
   },
   "file_extension": ".py",
   "mimetype": "text/x-python",
   "name": "python",
   "nbconvert_exporter": "python",
   "pygments_lexer": "ipython3",
   "version": "3.8.3"
  },
  "rise": {
   "autolaunch": true,
   "footer": "<h3>Big Data Essential, 2020 Autumn</h3>",
   "scroll": true,
   "theme": "solarized",
   "transition": "fade"
  }
 },
 "nbformat": 4,
 "nbformat_minor": 4
}
