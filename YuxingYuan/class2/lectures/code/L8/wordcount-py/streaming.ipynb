{
 "cells": [
  {
   "cell_type": "markdown",
   "metadata": {
    "slideshow": {
     "slide_type": "slide"
    }
   },
   "source": [
    "# Big Data Essentials\n",
    "#### L8:  Hadoop Streaming \n",
    "\n",
    "\n",
    "<br>\n",
    "<br>\n",
    "<br>\n",
    "<br>\n",
    "Yanfei Kang <br>\n",
    "yanfeikang@buaa.edu.cn <br>\n",
    "School of Economics and Management <br>\n",
    "Beihang University <br>\n",
    "http://yanfei.site <br>"
   ]
  },
  {
   "cell_type": "markdown",
   "metadata": {
    "slideshow": {
     "slide_type": "slide"
    }
   },
   "source": [
    "## Hadoop streaming with Python\n",
    "\n",
    "- Hadoop is written in JAVA, but allows you to write map/reduce code in any language you want using the Hadoop Streaming interface. \n",
    "\n",
    "- We have looked at Streaming with Unix commands. In this lecture, you will see how to stream with scripts.\n",
    "\n",
    "- Hadoop Streaming uses Unix standard streams as the interface between Hadoop and your program, so you can use any combination of languages that can read standard input and write to standard output to write your MapReduce program.\n",
    "\n",
    "    - You could use different language in mapper and reduce functions.\n",
    "\n",
    "    - It suits for text processing (e.g. read every line from a big CSV file).\n",
    "\n",
    "    - It can also handle binary streams (e.g. read image as input)."
   ]
  },
  {
   "cell_type": "markdown",
   "metadata": {
    "slideshow": {
     "slide_type": "slide"
    }
   },
   "source": [
    "## Best Practice with Hadoop Streaming\n",
    "\n",
    "- Write your Hadoop commnad in a Bash file instead run it directly on Linux Shell."
   ]
  },
  {
   "cell_type": "code",
   "execution_count": 2,
   "metadata": {
    "slideshow": {
     "slide_type": "fragment"
    }
   },
   "outputs": [
    {
     "name": "stdout",
     "output_type": "stream",
     "text": [
      "hadoop fs -rm -r /user/yanfei/output\r\n",
      "hadoop jar $HADOOP_HOME/share/hadoop/tools/lib/hadoop-streaming-3.1.3.jar \\\r\n",
      "    -input /user/yanfei/hadoop.ipynb \\\r\n",
      "    -output /user/yanfei/output \\\r\n",
      "    -mapper \"/usr/bin/cat\" \\\r\n",
      "    -reducer \"/usr/bin/wc\" \\\r\n",
      "    -numReduceTasks 1\r\n"
     ]
    }
   ],
   "source": [
    "cat code/L8/wordcount/main.sh"
   ]
  },
  {
   "cell_type": "markdown",
   "metadata": {
    "slideshow": {
     "slide_type": "slide"
    }
   },
   "source": [
    "## Streaming with scripts\n",
    "\n",
    "Now let's use patent data from the National Bureau of Economic Research (NBER) at http://www.nber.org/patents/. The data sets were originally compiled for the paper “The NBER Patent Citation Data File: Lessons, Insights and Methodological Tools.” We use the patent description data set apat63_99.txt."
   ]
  },
  {
   "cell_type": "markdown",
   "metadata": {
    "slideshow": {
     "slide_type": "slide"
    }
   },
   "source": [
    "### Find maximum of an attribute\n",
    "\n",
    "Mapper:\n",
    "\n",
    "`#!/usr/bin/env python3.8`\n",
    "\n",
    "`import sys`\n",
    "\n",
    "`index = int(sys.argv[1])\n",
    "max   = 0\n",
    "for line in sys.stdin:\n",
    "    fields = line.strip().split(\",\")\n",
    "    if fields[index].isdigit():\n",
    "        val = int(fields[index])\n",
    "        if (val > max):\n",
    "            max = val\n",
    "print(max)`"
   ]
  },
  {
   "cell_type": "markdown",
   "metadata": {
    "slideshow": {
     "slide_type": "slide"
    }
   },
   "source": [
    "###  Find maximum of an attribute\n",
    "\n",
    "sh：\n",
    "\n",
    "`#! /usr/bin/sh`\n",
    "\n",
    "`hadoop fs -rm -r /user/yanfei/output/`\n",
    "\n",
    "`hadoop jar $HADOOP_HOME/share/hadoop/tools/lib/hadoop-streaming-3.1.3.jar \\\n",
    "    -input /user/yanfei/apat63_99.txt \\\n",
    "    -output /user/yanfei/output \\\n",
    "    -file findmax.py \\\n",
    "    -mapper \"python3.8 findmax.py 8\" \\`"
   ]
  },
  {
   "cell_type": "markdown",
   "metadata": {
    "slideshow": {
     "slide_type": "slide"
    }
   },
   "source": [
    "### Lab\n",
    "\n",
    "Write a reducer that outputs the maximum over the values output by the mappers."
   ]
  },
  {
   "cell_type": "markdown",
   "metadata": {
    "slideshow": {
     "slide_type": "slide"
    }
   },
   "source": [
    "## Streaming with key/value pairs\n",
    "\n",
    "Now let's consider a wordcount example. \n",
    "\n",
    "- the map step will take the raw text of our document (I will use Herman Melville’s classic, Moby Dick) and convert it to key/value pairs. Each key is a word, and all keys (words) will have a value of 1.\n",
    "- the reduce step will combine all duplicate keys by adding up their values. Since every key (word) has a value of 1, this will reduce our output to a list of unique keys, each with a value corresponding to that key’s (word’s) count.\n",
    "\n",
    "With Hadoop Streaming, we need to write a program that acts as the mapper and a program that acts as the reducer. These applications must interface with input/output streams in such a way equivalent to the following series of pipes:\n",
    "\n",
    "`$ cat input.txt | ./mapper.py | sort | ./reducer.py > output.txt`"
   ]
  },
  {
   "cell_type": "markdown",
   "metadata": {
    "slideshow": {
     "slide_type": "slide"
    }
   },
   "source": [
    "### The mapper\n",
    "\n",
    "`#!/usr/bin/env python3.8`\n",
    "\n",
    "`import sys`\n",
    "\n",
    "`for line in sys.stdin:\n",
    "    line = line.strip()\n",
    "    keys = line.split()\n",
    "    for key in keys:\n",
    "        value = 1\n",
    "        print( \"%s\\t%d\" % (key, value) )`\n",
    "    "
   ]
  },
  {
   "cell_type": "markdown",
   "metadata": {
    "slideshow": {
     "slide_type": "slide"
    }
   },
   "source": [
    "### The shuffle\n",
    "\n",
    "A lot happens between the map and reduce steps that is largely transparent to the developer. In brief, the output of the mappers is transformed and distributed to the reducers (termed the shuffle step) in such a way that\n",
    "\n",
    "- All key/value pairs are sorted before being presented to the reducer function\n",
    "- All key/value pairs sharing the same key are sent to the same reducer"
   ]
  },
  {
   "cell_type": "markdown",
   "metadata": {
    "slideshow": {
     "slide_type": "slide"
    }
   },
   "source": [
    "### The reducer\n",
    "\n",
    "`#!/usr/bin/env python3.8`\n",
    " \n",
    "`import sys`\n",
    " \n",
    "`last_key = None\n",
    "running_total = 0`\n",
    " \n",
    "`for input_line in sys.stdin:\n",
    "   input_line = input_line.strip()\n",
    "   this_key, value = input_line.split(\"\\t\", 1)\n",
    "   value = int(value)`\n",
    " \n",
    "   `if last_key == this_key:\n",
    "       running_total += value\n",
    "   else:\n",
    "       if last_key:\n",
    "           print( \"%s\\t%d\" % (last_key, running_total) )\n",
    "       running_total = value\n",
    "       last_key = this_key`\n",
    " \n",
    "`if last_key == this_key:\n",
    "   print( \"%s\\t%d\" % (last_key, running_total) )`"
   ]
  },
  {
   "cell_type": "markdown",
   "metadata": {
    "slideshow": {
     "slide_type": "slide"
    }
   },
   "source": [
    "### Running the hadoop job\n",
    "\n",
    "`hadoop jar $HADOOP_HOME/share/hadoop/tools/lib/hadoop-streaming-3.1.3.jar \\\n",
    "    -input /user/yanfei/hadoop.ipynb \\\n",
    "    -output /user/yanfei/output \\\n",
    "    -file mapper.py reducer.py\n",
    "    -mapper \"python3 mapper.py\" \\\n",
    "    -reducer \"python3 reducer.py\"`\n",
    "    \n",
    "**NOTE** Before submitting the Hadoop job, you should make sure your mapper and reducer scripts actually work. This is just a matter of running them through pipes on a little bit of sample data: \n",
    "`head -n100 license.txt | ./mapper.py | sort | ./reducer.py`"
   ]
  },
  {
   "cell_type": "markdown",
   "metadata": {
    "slideshow": {
     "slide_type": "slide"
    }
   },
   "source": [
    "## Streaming with key/value pairs\n",
    "\n",
    "Now let us use the patent data apat63_99.txt and find the average number of claims for each country.\n",
    "\n",
    "### The mapper\n",
    "\n",
    "`#!/usr/bin/env python3.8`\n",
    "\n",
    "`import sys`\n",
    "\n",
    "`for line in sys.stdin:\n",
    "    fields = line.split(\",\")\n",
    "    if (fields[9] and fields[9].isdigit()):\n",
    "        print(fields[5][1:-1] + \"\\t\" + fields[9])`"
   ]
  },
  {
   "cell_type": "markdown",
   "metadata": {
    "slideshow": {
     "slide_type": "slide"
    }
   },
   "source": [
    "### The reducer\n",
    "\n",
    "`#!/usr/bin/env python3\n",
    "import sys\n",
    "(last_key, sum, count) = (None, 0.0, 0)\n",
    "for line in sys.stdin:\n",
    "    (key, val) = line.split(\"\\t\")\n",
    "    if last_key and last_key != key:\n",
    "        print(str(last_key) + \"\\t\" + str(sum / count))\n",
    "        (sum, count) = (0.0, 0)\n",
    "    last_key = key\n",
    "    sum   += float(val)\n",
    "    count += 1\n",
    "print(str(last_key) + \"\\t\" + str(sum / count))`"
   ]
  },
  {
   "cell_type": "markdown",
   "metadata": {
    "slideshow": {
     "slide_type": "slide"
    }
   },
   "source": [
    "### Lab\n",
    "\n",
    "1. Run the hadoop job.\n",
    "2. Remove the reducer and look at your output."
   ]
  }
 ],
 "metadata": {
  "celltoolbar": "Slideshow",
  "kernelspec": {
   "display_name": "Python 3",
   "language": "python",
   "name": "python3"
  },
  "language_info": {
   "codemirror_mode": {
    "name": "ipython",
    "version": 3
   },
   "file_extension": ".py",
   "mimetype": "text/x-python",
   "name": "python",
   "nbconvert_exporter": "python",
   "pygments_lexer": "ipython3",
   "version": "3.8.6"
  },
  "rise": {
   "autolaunch": true,
   "footer": "<h3>Big Data Essential, 2020 Autumn</h3>",
   "scroll": true,
   "theme": "solarized",
   "transition": "fade"
  }
 },
 "nbformat": 4,
 "nbformat_minor": 2
}
