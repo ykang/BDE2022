{
 "cells": [
  {
   "cell_type": "markdown",
   "metadata": {
    "slideshow": {
     "slide_type": "slide"
    }
   },
   "source": [
    "# Big Data Essentials\n",
    "#### L2: Using Linux as a Data Scientist\n",
    "\n",
    "\n",
    "<br>\n",
    "<br>\n",
    "<br>\n",
    "<br>\n",
    "Yanfei Kang <br>\n",
    "yanfeikang@buaa.edu.cn <br>\n",
    "School of Economics and Management <br>\n",
    "Beihang University <br>\n",
    "http://yanfei.site <br>"
   ]
  },
  {
   "cell_type": "markdown",
   "metadata": {
    "slideshow": {
     "slide_type": "slide"
    }
   },
   "source": [
    "# Why Linux?\n",
    "\n",
    "- Linux is a free, open-source operating system.\n",
    "\n",
    "- Almost all of distributed software are offered with Linux distributions."
   ]
  },
  {
   "cell_type": "markdown",
   "metadata": {
    "slideshow": {
     "slide_type": "slide"
    }
   },
   "source": [
    "# How much do we need to know about Linux?\n",
    "\n",
    "- Login to a Linux server\n",
    "\n",
    "- Navigation with basic Linux shell commands\n",
    "\n",
    "- File Manipulation\n",
    "\n",
    "- Use an editor within a Linux server\n",
    "\n",
    "- Knowing your environment\n"
   ]
  },
  {
   "cell_type": "markdown",
   "metadata": {
    "slideshow": {
     "slide_type": "slide"
    }
   },
   "source": [
    "# Log into aliyun server\n",
    "\n",
    "- Mac: open terminal and type `ssh student@47.92.135.242`\n",
    "- Windows: get Windows Terminal from the Microsoft store."
   ]
  },
  {
   "cell_type": "markdown",
   "metadata": {
    "slideshow": {
     "slide_type": "slide"
    }
   },
   "source": [
    "# Use Jupyter notebook on the aliyun server\n",
    "\n",
    "1. Start a Jupyter notebook on the server: `jupyter notebook`\n",
    "\n",
    "2. Copy the string printed on the terminal\n",
    " http://localhost:8888/?token=a373718460df0437c443eeadb7250e7793d6524f80f129cc and remember the port (8888 in the above case)\n",
    " \n",
    "3. Start a new terminal tab on your local machine and run: `ssh  -L 8888:127.0.0.1:8888 student@47.92.135.242`, where 8888:127.0.0.1:8888 means forwarding your remote server's 8888 port to your local machine's port 8888.\n",
    "\n",
    "4. Open your browser and connect to the remote Jupyter Notebook server locally with the link you have copied (replace 8888 with the real one from your saved string): http://localhost:8888/?token=a373718460df0437c443eeadb7250e7793d6524f80f129cc\n"
   ]
  },
  {
   "cell_type": "markdown",
   "metadata": {
    "slideshow": {
     "slide_type": "slide"
    }
   },
   "source": [
    "# The command line\n",
    "\n",
    "- A command line, or terminal, is a text based interface to the system. \n",
    "- You are able to enter commands by typing them on the keyboard and feedback will be given to you similarly as text."
   ]
  },
  {
   "cell_type": "markdown",
   "metadata": {
    "slideshow": {
     "slide_type": "slide"
    }
   },
   "source": [
    "# Shell\n",
    "\n",
    "- A program that takes commands from the keyboard and gives them to the operating system to perform.\n",
    "- Bash： one kind of shell."
   ]
  },
  {
   "cell_type": "markdown",
   "metadata": {
    "slideshow": {
     "slide_type": "slide"
    }
   },
   "source": [
    "<br>\n",
    "<br>\n",
    "\n",
    "# Basic Navigation"
   ]
  },
  {
   "cell_type": "code",
   "execution_count": 1,
   "metadata": {
    "slideshow": {
     "slide_type": "slide"
    }
   },
   "outputs": [
    {
     "name": "stdout",
     "output_type": "stream",
     "text": [
      "student\n",
      "/home/student/lectures\n",
      "/home/student/lectures\n",
      "student\n"
     ]
    }
   ],
   "source": [
    "# Who am I?\n",
    "whoami\n",
    "\n",
    "# Where we are?\n",
    "pwd\n",
    "\n",
    "pwd\n",
    "\n",
    "whoami"
   ]
  },
  {
   "cell_type": "code",
   "execution_count": 2,
   "metadata": {
    "slideshow": {
     "slide_type": "slide"
    }
   },
   "outputs": [
    {
     "name": "stdout",
     "output_type": "stream",
     "text": [
      "BDE-L0-intro.ipynb                  \u001b[0m\u001b[38;5;34mBDE-L5-scraping.ipynb\u001b[0m\n",
      "BDE-L0-intro.slides.html            BDE-L5-scraping.slides.html\n",
      "BDE-L10-sparkintro.ipynb            BDE-L5-selenium.html\n",
      "BDE-L10-sparkintro.slides.html      BDE-L5-selenium.ipynb\n",
      "BDE-L11-sparkdp.ipynb               BDE-L5-selenium.slides.html\n",
      "BDE-L11-sparkdp.slides.html         BDE-L6-parallel.ipynb\n",
      "BDE-L12-sparkml.ipynb               BDE-L6-parallel.slides.html\n",
      "BDE-L12-sparkml.slides.html         BDE-L7-hadoop.ipynb\n",
      "BDE-L13-sparktm.ipynb               BDE-L7-hadoop.slides.html\n",
      "BDE-L13-sparktm.slides.html         BDE-L8-streaming.ipynb\n",
      "BDE-L14-SparkR-example.slides.html  BDE-L8-streaming.slides.html\n",
      "BDE-L1-bigdata.ipynb                BDE-L9-hive.ipynb\n",
      "BDE-L1-bigdata.slides.html          BDE-L9-hive.slides.html\n",
      "BDE-L2-linux.ipynb                  \u001b[38;5;27mcode\u001b[0m\n",
      "BDE-L2-linux.slides.html            \u001b[38;5;27mdata\u001b[0m\n",
      "BDE-L3-git.ipynb                    \u001b[38;5;27mfigs\u001b[0m\n",
      "BDE-L3-git.slides.html              geckodriver.log\n",
      "\u001b[38;5;34mBDE-L3-pyintro.ipynb\u001b[0m                Makefile\n",
      "BDE-L3-pyintro.slides.html          \u001b[38;5;27mmyspark\u001b[0m\n",
      "BDE-L4-pymodeling.ipynb             \u001b[38;5;34msetup_rise.py\u001b[0m\n",
      "BDE-L4-pymodeling.slides.html       \u001b[38;5;27mspark-warehouse\u001b[0m\n"
     ]
    }
   ],
   "source": [
    "# What's in our current location?\n",
    "\n",
    "ls\n",
    "\n"
   ]
  },
  {
   "cell_type": "markdown",
   "metadata": {
    "slideshow": {
     "slide_type": "slide"
    }
   },
   "source": [
    "# Paths\n",
    "\n",
    "- The file system under linux is a hierarchical structure.\n",
    "- At the very top of the structure is what's called the root directory. It is denoted by a single slash ( / ). "
   ]
  },
  {
   "cell_type": "markdown",
   "metadata": {
    "slideshow": {
     "slide_type": "slide"
    }
   },
   "source": [
    "# Absolute and relative paths\n",
    "\n",
    "- Absolute paths specify a location (file or directory) in relation to the root directory. You can identify them easily as they always begin with a forward slash ( / ).\n",
    "- Relative paths specify a location (file or directory) in relation to where we currently are in the system. They will not begin with a slash."
   ]
  },
  {
   "cell_type": "code",
   "execution_count": 1,
   "metadata": {
    "slideshow": {
     "slide_type": "fragment"
    }
   },
   "outputs": [
    {
     "name": "stdout",
     "output_type": "stream",
     "text": [
      "BDE-L0-intro.ipynb                  \u001b[0m\u001b[38;5;34mBDE-L5-scraping.ipynb\u001b[0m\n",
      "BDE-L0-intro.slides.html            BDE-L5-scraping.slides.html\n",
      "BDE-L1-bigdata.ipynb                BDE-L5-selenium.html\n",
      "BDE-L1-bigdata.slides.html          BDE-L5-selenium.ipynb\n",
      "BDE-L10-sparkintro.ipynb            BDE-L5-selenium.slides.html\n",
      "BDE-L10-sparkintro.slides.html      BDE-L6-parallel.ipynb\n",
      "BDE-L11-sparkdp.ipynb               BDE-L6-parallel.slides.html\n",
      "BDE-L11-sparkdp.slides.html         BDE-L7-hadoop.ipynb\n",
      "BDE-L12-sparkml.ipynb               BDE-L7-hadoop.slides.html\n",
      "BDE-L12-sparkml.slides.html         BDE-L8-streaming.ipynb\n",
      "BDE-L13-sparktm.ipynb               BDE-L8-streaming.slides.html\n",
      "BDE-L13-sparktm.slides.html         BDE-L9-hive.ipynb\n",
      "BDE-L14-SparkR-example.slides.html  BDE-L9-hive.slides.html\n",
      "BDE-L2-linux.ipynb                  Makefile\n",
      "BDE-L2-linux.slides.html            \u001b[38;5;27mcode\u001b[0m\n",
      "BDE-L3-git.ipynb                    \u001b[38;5;27mdata\u001b[0m\n",
      "BDE-L3-git.slides.html              \u001b[38;5;27mfigs\u001b[0m\n",
      "\u001b[38;5;34mBDE-L3-pyintro.ipynb\u001b[0m                geckodriver.log\n",
      "BDE-L3-pyintro.slides.html          \u001b[38;5;27mmyspark\u001b[0m\n",
      "BDE-L4-pymodeling.ipynb             \u001b[38;5;34msetup_rise.py\u001b[0m\n",
      "BDE-L4-pymodeling.slides.html       \u001b[38;5;27mspark-warehouse\u001b[0m\n"
     ]
    }
   ],
   "source": [
    "ls"
   ]
  },
  {
   "cell_type": "code",
   "execution_count": 2,
   "metadata": {
    "slideshow": {
     "slide_type": "fragment"
    }
   },
   "outputs": [
    {
     "name": "stdout",
     "output_type": "stream",
     "text": [
      "BDE-L0-intro.ipynb                  \u001b[0m\u001b[38;5;34mBDE-L5-scraping.ipynb\u001b[0m\n",
      "BDE-L0-intro.slides.html            BDE-L5-scraping.slides.html\n",
      "BDE-L1-bigdata.ipynb                BDE-L5-selenium.html\n",
      "BDE-L1-bigdata.slides.html          BDE-L5-selenium.ipynb\n",
      "BDE-L10-sparkintro.ipynb            BDE-L5-selenium.slides.html\n",
      "BDE-L10-sparkintro.slides.html      BDE-L6-parallel.ipynb\n",
      "BDE-L11-sparkdp.ipynb               BDE-L6-parallel.slides.html\n",
      "BDE-L11-sparkdp.slides.html         BDE-L7-hadoop.ipynb\n",
      "BDE-L12-sparkml.ipynb               BDE-L7-hadoop.slides.html\n",
      "BDE-L12-sparkml.slides.html         BDE-L8-streaming.ipynb\n",
      "BDE-L13-sparktm.ipynb               BDE-L8-streaming.slides.html\n",
      "BDE-L13-sparktm.slides.html         BDE-L9-hive.ipynb\n",
      "BDE-L14-SparkR-example.slides.html  BDE-L9-hive.slides.html\n",
      "BDE-L2-linux.ipynb                  Makefile\n",
      "BDE-L2-linux.slides.html            \u001b[38;5;27mcode\u001b[0m\n",
      "BDE-L3-git.ipynb                    \u001b[38;5;27mdata\u001b[0m\n",
      "BDE-L3-git.slides.html              \u001b[38;5;27mfigs\u001b[0m\n",
      "\u001b[38;5;34mBDE-L3-pyintro.ipynb\u001b[0m                geckodriver.log\n",
      "BDE-L3-pyintro.slides.html          \u001b[38;5;27mmyspark\u001b[0m\n",
      "BDE-L4-pymodeling.ipynb             \u001b[38;5;34msetup_rise.py\u001b[0m\n",
      "BDE-L4-pymodeling.slides.html       \u001b[38;5;27mspark-warehouse\u001b[0m\n"
     ]
    }
   ],
   "source": [
    "ls /home/student/lectures"
   ]
  },
  {
   "cell_type": "markdown",
   "metadata": {
    "slideshow": {
     "slide_type": "slide"
    }
   },
   "source": [
    "# More on paths\n",
    "\n",
    "- `~` (tilde) - This is a shortcut for your home directory. `/home/student/lectures` or `~/lectures`.\n",
    "- `.` (dot) - This is a reference to your current directory. `ls ./`.\n",
    "- .. (dotdot)- This is a reference to the parent directory. `ls ../`."
   ]
  },
  {
   "cell_type": "markdown",
   "metadata": {
    "slideshow": {
     "slide_type": "slide"
    }
   },
   "source": [
    "# Let's move around a bit\n",
    "\n",
    "- In order to move around in the system we use a command called `cd` which stands for change directory.\n",
    "- Use **Tab** Completion."
   ]
  },
  {
   "cell_type": "markdown",
   "metadata": {
    "slideshow": {
     "slide_type": "slide"
    }
   },
   "source": [
    "# Need help of a command?\n",
    "\n",
    "\n",
    "- The manual pages are a set of pages that explain every command available on your system including what they do, the specifics of how you run them and what command line arguments they accept. \n",
    "- Try `man ls`.\n",
    "- Try `ls --help`."
   ]
  },
  {
   "cell_type": "code",
   "execution_count": 13,
   "metadata": {
    "slideshow": {
     "slide_type": "fragment"
    }
   },
   "outputs": [
    {
     "name": "stdout",
     "output_type": "stream",
     "text": [
      "total 5.3M\n",
      "4.0K drwxr-xr-x  9 yanfei yanfei 4.0K Nov 22 22:08 .\n",
      " 36K -rw-r--r--  1 yanfei yanfei  35K Nov 22 22:08 BDE-L2-linux.ipynb\n",
      "4.0K -rw-rw-r--  1 yanfei yanfei  773 Nov 22 22:06 output\n",
      "4.0K drwxr-xr-x 10 yanfei yanfei 4.0K Nov 22 21:42 ..\n",
      "4.0K -rw-r--r--  1 yanfei yanfei   51 Nov 22 19:06 .gitignore\n",
      "4.0K drwxr-xr-x  7 yanfei yanfei 4.0K Nov 22 19:05 .git\n",
      " 12K -rw-r--r--  1 yanfei yanfei 8.1K Nov 22 18:27 .DS_Store\n",
      "4.0K drwxr-xr-x  2 yanfei yanfei 4.0K Nov 22 18:27 .ipynb_checkpoints\n",
      "4.0K -rw-r--r--  1 yanfei yanfei  768 Nov 22 17:11 setup_rise.py\n",
      "4.0K drwxr-xr-x  6 yanfei yanfei 4.0K Feb 17  2021 data\n",
      "4.0K drwxr-xr-x  8 yanfei yanfei 4.0K Feb 17  2021 code\n",
      "4.0K drwxr-xr-x  2 yanfei yanfei 4.0K Feb 17  2021 figs\n",
      "4.0K drwxr-xr-x  2 yanfei yanfei 4.0K Feb 17  2021 myspark\n",
      "4.0K drwxr-xr-x  2 yanfei yanfei 4.0K Feb 17  2021 spark-warehouse\n",
      " 20K -rw-r--r--  1 yanfei yanfei  17K Dec 28  2020 BDE-L14-SparkR-example.ipynb\n",
      " 32K -rw-r--r--  1 yanfei yanfei  30K Dec 27  2020 BDE-L12-sparkml.ipynb\n",
      " 36K -rw-r--r--  1 yanfei yanfei  33K Dec 14  2020 BDE-L13-sparktm.ipynb\n",
      "324K -rw-rw-r--  1 yanfei yanfei 324K Dec 14  2020 BDE-L13-sparktm.slides.html\n",
      "336K -rw-rw-r--  1 yanfei yanfei 333K Dec 13  2020 BDE-L12-sparkml.slides.html\n",
      "356K -rw-rw-r--  1 yanfei yanfei 355K Nov 30  2020 BDE-L11-sparkdp.slides.html\n",
      "288K -rw-rw-r--  1 yanfei yanfei 287K Nov 30  2020 BDE-L10-sparkintro.slides.html\n",
      " 16K -rw-r--r--  1 yanfei yanfei  13K Nov 30  2020 BDE-L10-sparkintro.ipynb\n",
      " 64K -rw-r--r--  1 yanfei yanfei  63K Nov 30  2020 BDE-L11-sparkdp.ipynb\n",
      "288K -rw-rw-r--  1 yanfei yanfei 288K Nov 17  2020 BDE-L9-hive.slides.html\n",
      " 16K -rw-r--r--  1 yanfei yanfei  13K Nov 17  2020 BDE-L9-hive.ipynb\n",
      "292K -rw-rw-r--  1 yanfei yanfei 290K Nov  3  2020 BDE-L8-streaming.slides.html\n",
      " 16K -rw-r--r--  1 yanfei yanfei  15K Nov  3  2020 BDE-L8-streaming.ipynb\n",
      " 68K -rw-r--r--  1 yanfei yanfei  68K Nov  2  2020 BDE-L7-hadoop.ipynb\n",
      "336K -rw-rw-r--  1 yanfei yanfei 336K Nov  2  2020 BDE-L7-hadoop.slides.html\n",
      "336K -rw-rw-r--  1 yanfei yanfei 333K Oct 24  2020 BDE-L6-parallel.slides.html\n",
      " 36K -rw-r--r--  1 yanfei yanfei  33K Oct 24  2020 BDE-L6-parallel.ipynb\n",
      "152K -rw-r--r--  1 yanfei yanfei 150K Oct 18  2020 BDE-L4-pymodeling.ipynb\n",
      "460K -rw-rw-r--  1 yanfei yanfei 457K Oct 12  2020 BDE-L5-scraping.slides.html\n",
      "172K -rwxr-xr-x  1 yanfei yanfei 172K Oct 12  2020 BDE-L5-scraping.ipynb\n",
      "444K -rw-rw-r--  1 yanfei yanfei 442K Sep 21  2020 BDE-L4-pymodeling.slides.html\n",
      "336K -rw-rw-r--  1 yanfei yanfei 333K Sep 14  2020 BDE-L3-pyintro.slides.html\n",
      "276K -rw-rw-r--  1 yanfei yanfei 275K Sep 14  2020 BDE-L0-intro.slides.html\n",
      "276K -rw-r--r--  1 yanfei yanfei 275K Sep 14  2020 BDE-L1-bigdata.slides.html\n",
      "300K -rw-rw-r--  1 yanfei yanfei 298K Sep 14  2020 BDE-L2-linux.slides.html\n",
      " 40K -rwxr-xr-x  1 yanfei yanfei  37K Sep 14  2020 BDE-L3-pyintro.ipynb\n",
      "4.0K -rw-r--r--  1 yanfei yanfei 3.6K Sep  7  2020 BDE-L0-intro.ipynb\n",
      "4.0K -rw-r--r--  1 yanfei yanfei 3.3K Sep  6  2020 BDE-L1-bigdata.ipynb\n"
     ]
    }
   ],
   "source": [
    "ls -lhsta"
   ]
  },
  {
   "cell_type": "markdown",
   "metadata": {
    "slideshow": {
     "slide_type": "slide"
    }
   },
   "source": [
    "# Lab\n",
    "\n",
    "- Use the commands `cd` and `ls` to explore what directories are on your system and what's in them. Make sure you use a variety of relative and absolute paths.\n",
    "- Now go to your home directory using 4 different methods.\n",
    "- Make sure you are using **Tab** Completion when typing out your paths too. Why do anything you can get the computer to do for you?\n"
   ]
  },
  {
   "cell_type": "markdown",
   "metadata": {
    "slideshow": {
     "slide_type": "slide"
    }
   },
   "source": [
    "<br>\n",
    "<br>\n",
    "\n",
    "# File manipulation"
   ]
  },
  {
   "cell_type": "code",
   "execution_count": 4,
   "metadata": {},
   "outputs": [],
   "source": [
    "cd"
   ]
  },
  {
   "cell_type": "code",
   "execution_count": 9,
   "metadata": {},
   "outputs": [
    {
     "name": "stdout",
     "output_type": "stream",
     "text": [
      "\u001b[0m\u001b[38;5;27mjiayingCao\u001b[0m  \u001b[38;5;27mlqh\u001b[0m           \u001b[38;5;27mSiruiHe\u001b[0m            \u001b[38;5;27mXingchaoWang\u001b[0m  \u001b[38;5;27mYuxingYuan\u001b[0m\n",
      "\u001b[38;5;27mKaixinLiu\u001b[0m   \u001b[38;5;27mLuowenjia\u001b[0m     \u001b[38;5;27mSirui LI\u001b[0m           \u001b[38;5;27mXinhuaZheng\u001b[0m   \u001b[38;5;27mYuxuanXu\u001b[0m\n",
      "\u001b[38;5;27mlectures\u001b[0m    \u001b[38;5;27mLuyangYu\u001b[0m      \u001b[38;5;27mTaoLing\u001b[0m            \u001b[38;5;27mXuchangZhang\u001b[0m  \u001b[38;5;27mzhangwenkai\u001b[0m\n",
      "\u001b[38;5;27mLijiaWang\u001b[0m   \u001b[38;5;27mNiuYiting\u001b[0m     \u001b[38;5;27mUntitled Folder\u001b[0m    \u001b[38;5;27mXuHongyou\u001b[0m     \u001b[38;5;27mzhangwl\u001b[0m\n",
      "\u001b[38;5;27mlinhanxin\u001b[0m   \u001b[38;5;27mQianyouSun\u001b[0m    \u001b[38;5;27mUntitled Folder 1\u001b[0m  \u001b[38;5;27mYanqiYao\u001b[0m      \u001b[38;5;27mzhaoxiaolong\u001b[0m\n",
      "\u001b[38;5;27mlipeiru\u001b[0m     \u001b[38;5;27mShengzhuoJin\u001b[0m  \u001b[38;5;27mUntitled Folder 3\u001b[0m  \u001b[38;5;27mYuanyuanQi\u001b[0m    \u001b[38;5;27mZhenhuaFeng\u001b[0m\n"
     ]
    }
   ],
   "source": [
    "ls\n",
    "\n",
    "\n"
   ]
  },
  {
   "cell_type": "markdown",
   "metadata": {
    "slideshow": {
     "slide_type": "slide"
    }
   },
   "source": [
    "# File manipulation\n",
    "\n",
    "- Making a directory: `mkdir`\n",
    "- Removing a directory: `rmdir`\n",
    "- Creating a blank file: `touch`\n",
    "- Copying a file or directory: `cp`\n",
    "- Moving a file or directory: `mv`\n",
    "- Renaming files or directories\n",
    "- Removing files or empty directories: `rm`\n",
    "- How to removing non empty directories?\n",
    "- Note: no undo options.\n",
    "- etc."
   ]
  },
  {
   "cell_type": "markdown",
   "metadata": {
    "slideshow": {
     "slide_type": "slide"
    }
   },
   "source": [
    "# Lab\n",
    "\n",
    "- Start by creating a directory in your home directory in which to experiment.\n",
    "- In that directory, create a series of files and directories (and files and directories in those directories).\n",
    "- Now rename a few of those files and directories.\n",
    "- Delete one of the directories that has other files and directories in them.\n",
    "- Move back to your home directory and from there copy a file from one of your subdirectories into the initial directory you created.\n",
    "- Now move that file back into another directory.\n",
    "- Rename a few files\n",
    "- Next, move a file and rename it in the process.\n",
    "- Finally, have a look at the existing directories in your home directory. "
   ]
  },
  {
   "cell_type": "markdown",
   "metadata": {
    "slideshow": {
     "slide_type": "slide"
    }
   },
   "source": [
    "# Upload local files\n",
    "\n",
    "- Command line shell: `rsync`\n",
    "- Or use [FileZilla](https://filezilla-project.org/download.php?type=client)"
   ]
  },
  {
   "cell_type": "markdown",
   "metadata": {
    "slideshow": {
     "slide_type": "slide"
    }
   },
   "source": [
    "# A command line editor\n",
    "\n",
    "- Many text editor available: nano, **vim**, emacs.\n",
    "- There are two modes in Vim. Insert (or Input) mode and Edit mode. \n",
    "- In input mode you may input or enter content into the file. \n",
    "- In edit mode you can move around the file, perform actions such as deleting, copying, search and replace, saving etc. \n",
    "- A common mistake is to start entering commands without first going back into edit mode or to start typing input without first going into insert mode."
   ]
  },
  {
   "cell_type": "markdown",
   "metadata": {
    "slideshow": {
     "slide_type": "slide"
    }
   },
   "source": [
    "# First file\n",
    "\n",
    "- Start with `vim firstfile`.\n",
    "- You always start off in edit mode so the first thing we are going to do is switch to insert mode by pressing i. You can tell when you are in insert mode as the bottom left corner will tell you."
   ]
  },
  {
   "cell_type": "markdown",
   "metadata": {
    "slideshow": {
     "slide_type": "slide"
    }
   },
   "source": [
    "# Saving and editing\n",
    "\n",
    "- :q! - discard all changes, since the last save, and exit\n",
    "- :w - save file but don't exit\n",
    "- :wq - again, save and exit"
   ]
  },
  {
   "cell_type": "markdown",
   "metadata": {
    "slideshow": {
     "slide_type": "slide"
    }
   },
   "source": [
    "# Other ways to view files\n",
    "\n",
    "- Try `cat firstfile`.\n",
    "- For larger files there is a better suited command which is `less`.\n",
    "- `head`, `tail`."
   ]
  },
  {
   "cell_type": "code",
   "execution_count": 4,
   "metadata": {
    "slideshow": {
     "slide_type": "fragment"
    }
   },
   "outputs": [
    {
     "name": "stdout",
     "output_type": "stream",
     "text": [
      "<!DOCTYPE html>\n",
      "<html>\n",
      "<head>\n",
      "\n",
      "<meta charset=\"utf-8\" />\n",
      "<meta http-equiv=\"X-UA-Compatible\" content=\"chrome=1\" />\n",
      "\n",
      "<meta name=\"apple-mobile-web-app-capable\" content=\"yes\" />\n",
      "<meta name=\"apple-mobile-web-app-status-bar-style\" content=\"black-translucent\" />\n",
      "\n"
     ]
    }
   ],
   "source": [
    "head BDE-L0-intro.slides.html"
   ]
  },
  {
   "cell_type": "markdown",
   "metadata": {
    "slideshow": {
     "slide_type": "slide"
    }
   },
   "source": [
    "# Navigating a file in Vim\n",
    "Now let's go back into the file we just created and enter some more content. In insert mode you may use the arrow keys to move the cursor around. Enter two more paragraphs of content then hit Esc to go back to edit mode.\n",
    "\n",
    "- Arrow keys - move the cursor around\n",
    "- j, k, h, l - move the cursor down, up, left and right (similar to the arrow keys)\n",
    "- ^ (caret) - move cursor to beginning of current line\n",
    "- $ - move cursor to end of the current line\n",
    "- nG - move to the nth line (eg 5G moves to 5th line)\n",
    "- G - move to the last line\n",
    "- w - move to the beginning of the next word\n",
    "- nw - move forward n word (eg 2w moves two words forwards)\n",
    "- b - move to the beginning of the previous word\n",
    "- nb - move back n word\n",
    "- { - move backward one paragraph\n",
    "- } - move forward one paragraph\n"
   ]
  },
  {
   "cell_type": "markdown",
   "metadata": {
    "slideshow": {
     "slide_type": "slide"
    }
   },
   "source": [
    "# Deleting content\n",
    "\n",
    "- x - delete a single character\n",
    "- nx - delete n characters (eg 5x deletes five characters)\n",
    "- dd - delete the current line\n",
    "- dn - d followed by a movement command. Delete to where the movement command would have taken you. (eg d5w means delete 5 words)"
   ]
  },
  {
   "cell_type": "markdown",
   "metadata": {
    "slideshow": {
     "slide_type": "slide"
    }
   },
   "source": [
    "# Undoing\n",
    "\n",
    "- u - Undo the last action (you may keep pressing u to keep undoing)\n",
    "- U (Note: capital) - Undo all changes to the current line\n"
   ]
  },
  {
   "cell_type": "markdown",
   "metadata": {
    "slideshow": {
     "slide_type": "slide"
    }
   },
   "source": [
    "# Lab \n",
    "\n",
    "- Start by creating a file and putting some content into it.\n",
    "- Save the file and view it in both cat and less\n",
    "- Go back into the file in vi and enter some more content.\n",
    "- Move around the content using at least 6 different movement commands.\n",
    "- Play about with several of the delete commands, especially the ones that incorporate a movement command. Remember you may undo your changes so you don't have to keep putting new content in.\n"
   ]
  },
  {
   "cell_type": "markdown",
   "metadata": {
    "slideshow": {
     "slide_type": "slide"
    }
   },
   "source": [
    "<br>\n",
    "<br>\n",
    "\n",
    "# Wildcards"
   ]
  },
  {
   "cell_type": "markdown",
   "metadata": {
    "slideshow": {
     "slide_type": "slide"
    }
   },
   "source": [
    "# What are they?\n",
    "\n",
    "- \\* - represents zero or more characters\n",
    "- ? - represents a single character\n",
    "- [] - represents a range of characters\n"
   ]
  },
  {
   "cell_type": "code",
   "execution_count": 24,
   "metadata": {
    "slideshow": {
     "slide_type": "slide"
    }
   },
   "outputs": [
    {
     "name": "stdout",
     "output_type": "stream",
     "text": [
      "BDE-L0-intro.ipynb\t\tBDE-L3-pyintro.ipynb\n",
      "BDE-L0-intro.slides.html\tBDE-L3-pyintro.slides.html\n",
      "BDE-L10-sparkintro.ipynb\tBDE-L4-pymodeling.ipynb\n",
      "BDE-L10-sparkintro.slides.html\tBDE-L4-pymodeling.slides.html\n",
      "BDE-L11-sparkdp.ipynb\t\tBDE-L5-scraping.ipynb\n",
      "BDE-L11-sparkdp.slides.html\tBDE-L5-scraping.slides.html\n",
      "BDE-L12-sparkml.ipynb\t\tBDE-L6-parallel.ipynb\n",
      "BDE-L12-sparkml.slides.html\tBDE-L6-parallel.slides.html\n",
      "BDE-L13-sparktm.ipynb\t\tBDE-L7-hadoop.ipynb\n",
      "BDE-L13-sparktm.slides.html\tBDE-L7-hadoop.slides.html\n",
      "BDE-L14-SparkR-example.ipynb\tBDE-L8-streaming.ipynb\n",
      "BDE-L1-bigdata.ipynb\t\tBDE-L8-streaming.slides.html\n",
      "BDE-L1-bigdata.slides.html\tBDE-L9-hive.ipynb\n",
      "BDE-L2-linux.ipynb\t\tBDE-L9-hive.slides.html\n",
      "BDE-L2-linux.slides.html\n"
     ]
    }
   ],
   "source": [
    "# Examples\n",
    "\n",
    "ls B*"
   ]
  },
  {
   "cell_type": "code",
   "execution_count": 23,
   "metadata": {
    "slideshow": {
     "slide_type": "slide"
    }
   },
   "outputs": [
    {
     "name": "stdout",
     "output_type": "stream",
     "text": [
      "BDE-L0-intro.ipynb\t  BDE-L14-SparkR-example.ipynb\tBDE-L5-scraping.ipynb\n",
      "BDE-L10-sparkintro.ipynb  BDE-L1-bigdata.ipynb\t\tBDE-L6-parallel.ipynb\n",
      "BDE-L11-sparkdp.ipynb\t  BDE-L2-linux.ipynb\t\tBDE-L7-hadoop.ipynb\n",
      "BDE-L12-sparkml.ipynb\t  BDE-L3-pyintro.ipynb\t\tBDE-L8-streaming.ipynb\n",
      "BDE-L13-sparktm.ipynb\t  BDE-L4-pymodeling.ipynb\tBDE-L9-hive.ipynb\n"
     ]
    }
   ],
   "source": [
    "ls *.????b"
   ]
  },
  {
   "cell_type": "code",
   "execution_count": 22,
   "metadata": {
    "slideshow": {
     "slide_type": "slide"
    }
   },
   "outputs": [
    {
     "name": "stdout",
     "output_type": "stream",
     "text": [
      "BDE-L0-intro.ipynb\t\tBDE-L12-sparkml.slides.html\n",
      "BDE-L0-intro.slides.html\tBDE-L13-sparktm.ipynb\n",
      "BDE-L10-sparkintro.ipynb\tBDE-L13-sparktm.slides.html\n",
      "BDE-L10-sparkintro.slides.html\tBDE-L14-SparkR-example.ipynb\n",
      "BDE-L11-sparkdp.ipynb\t\tBDE-L1-bigdata.ipynb\n",
      "BDE-L11-sparkdp.slides.html\tBDE-L1-bigdata.slides.html\n",
      "BDE-L12-sparkml.ipynb\n"
     ]
    }
   ],
   "source": [
    "ls *[0-1]*"
   ]
  },
  {
   "cell_type": "code",
   "execution_count": 21,
   "metadata": {
    "slideshow": {
     "slide_type": "slide"
    }
   },
   "outputs": [
    {
     "name": "stdout",
     "output_type": "stream",
     "text": [
      "figs/bigdata.png\t\t   figs/mapreduce.png\n",
      "figs/hdfs.png\t\t\t   figs/ml-Pipeline.png\n",
      "figs/king-analogy-viz.png\t   figs/queen-woman-girl-embeddings.png\n",
      "figs/king-man-woman-embedding.png  figs/spark-cluster-overview.png\n",
      "figs/king.png\t\t\t   figs/spark-runs-everywhere.png\n",
      "figs/lmcd2d.png\t\t\t   figs/traditional.png\n",
      "figs/lmcd3d.png\t\t\t   figs/wordcount.png\n"
     ]
    }
   ],
   "source": [
    "ls */*.png"
   ]
  },
  {
   "cell_type": "code",
   "execution_count": 20,
   "metadata": {
    "slideshow": {
     "slide_type": "slide"
    }
   },
   "outputs": [
    {
     "name": "stdout",
     "output_type": "stream",
     "text": [
      "4.0K -rw------- 1 yanfei yanfei 2.3K Nov 22 23:25 /home/yanfei/.bash_history\n"
     ]
    }
   ],
   "source": [
    "ls -lhsa /home/*/.bash_history"
   ]
  },
  {
   "cell_type": "markdown",
   "metadata": {
    "slideshow": {
     "slide_type": "slide"
    }
   },
   "source": [
    "# Lab\n",
    "\n",
    "- A good directory to play with is /etc which is a directory containing config files for the system. As a normal user you may view the files but you can't make any changes so we can't do any harm. Do a listing of that directory to see what's there. Then pick various subsets of files and see if you can create a pattern to select only those files.\n",
    "- Do a listing of /etc with only files that contain an extension.\n",
    "- What about only a 3 letter extension?\n",
    "- How about files whose name contains an uppercase letter? (hint: [[:upper:]] may be useful here)\n",
    "- Can you list files whose name is 4 characters long?\n"
   ]
  },
  {
   "cell_type": "markdown",
   "metadata": {
    "slideshow": {
     "slide_type": "slide"
    }
   },
   "source": [
    "<br>\n",
    "<br>\n",
    "\n",
    "# Piping and redirection"
   ]
  },
  {
   "cell_type": "markdown",
   "metadata": {
    "slideshow": {
     "slide_type": "slide"
    }
   },
   "source": [
    "# Piping and redirection\n",
    "\n",
    "- Piping and redirection help create powerful workflows that will automate your work, saving you time and effort.\n",
    "- We looked at a collection of filters that would manipulate data for us. How we may join them together to do more powerful data manipulation?"
   ]
  },
  {
   "cell_type": "markdown",
   "metadata": {
    "slideshow": {
     "slide_type": "slide"
    }
   },
   "source": [
    "# Redirecting to a File"
   ]
  },
  {
   "cell_type": "code",
   "execution_count": 12,
   "metadata": {
    "slideshow": {
     "slide_type": "fragment"
    }
   },
   "outputs": [
    {
     "name": "stdout",
     "output_type": "stream",
     "text": [
      "BDE-L0-intro.ipynb\n",
      "BDE-L0-intro.slides.html\n",
      "BDE-L10-sparkintro.ipynb\n",
      "BDE-L10-sparkintro.slides.html\n",
      "BDE-L11-sparkdp.ipynb\n",
      "BDE-L11-sparkdp.slides.html\n",
      "BDE-L12-sparkml.ipynb\n",
      "BDE-L12-sparkml.slides.html\n",
      "BDE-L13-sparktm.ipynb\n",
      "BDE-L13-sparktm.slides.html\n",
      "BDE-L14-SparkR-example.ipynb\n",
      "BDE-L1-bigdata.ipynb\n",
      "BDE-L1-bigdata.slides.html\n",
      "BDE-L2-linux.ipynb\n",
      "BDE-L2-linux.slides.html\n",
      "BDE-L3-pyintro.ipynb\n",
      "BDE-L3-pyintro.slides.html\n",
      "BDE-L4-pymodeling.ipynb\n",
      "BDE-L4-pymodeling.slides.html\n",
      "BDE-L5-scraping.ipynb\n",
      "BDE-L5-scraping.slides.html\n",
      "BDE-L6-parallel.ipynb\n",
      "BDE-L6-parallel.slides.html\n",
      "BDE-L7-hadoop.ipynb\n",
      "BDE-L7-hadoop.slides.html\n",
      "BDE-L8-streaming.ipynb\n",
      "BDE-L8-streaming.slides.html\n",
      "BDE-L9-hive.ipynb\n",
      "BDE-L9-hive.slides.html\n",
      "code\n",
      "data\n",
      "figs\n",
      "myspark\n",
      "output\n",
      "setup_rise.py\n",
      "spark-warehouse\n"
     ]
    }
   ],
   "source": [
    "ls > output\n",
    "cat output"
   ]
  },
  {
   "cell_type": "markdown",
   "metadata": {
    "slideshow": {
     "slide_type": "slide"
    }
   },
   "source": [
    "# Saving to an existing file"
   ]
  },
  {
   "cell_type": "code",
   "execution_count": 11,
   "metadata": {
    "slideshow": {
     "slide_type": "fragment"
    }
   },
   "outputs": [
    {
     "name": "stdout",
     "output_type": "stream",
     "text": [
      "36 output\n",
      "BDE-L0-intro.ipynb\n",
      "BDE-L0-intro.slides.html\n",
      "BDE-L10-sparkintro.ipynb\n",
      "BDE-L10-sparkintro.slides.html\n",
      "BDE-L11-sparkdp.ipynb\n",
      "BDE-L11-sparkdp.slides.html\n",
      "BDE-L12-sparkml.ipynb\n",
      "BDE-L12-sparkml.slides.html\n",
      "BDE-L13-sparktm.ipynb\n",
      "BDE-L13-sparktm.slides.html\n",
      "BDE-L14-SparkR-example.ipynb\n",
      "BDE-L1-bigdata.ipynb\n",
      "BDE-L1-bigdata.slides.html\n",
      "BDE-L2-linux.ipynb\n",
      "BDE-L2-linux.slides.html\n",
      "BDE-L3-pyintro.ipynb\n",
      "BDE-L3-pyintro.slides.html\n",
      "BDE-L4-pymodeling.ipynb\n",
      "BDE-L4-pymodeling.slides.html\n",
      "BDE-L5-scraping.ipynb\n",
      "BDE-L5-scraping.slides.html\n",
      "BDE-L6-parallel.ipynb\n",
      "BDE-L6-parallel.slides.html\n",
      "BDE-L7-hadoop.ipynb\n",
      "BDE-L7-hadoop.slides.html\n",
      "BDE-L8-streaming.ipynb\n",
      "BDE-L8-streaming.slides.html\n",
      "BDE-L9-hive.ipynb\n",
      "BDE-L9-hive.slides.html\n",
      "code\n",
      "data\n",
      "figs\n",
      "myspark\n",
      "output\n",
      "setup_rise.py\n",
      "spark-warehouse\n",
      "36 output\n"
     ]
    }
   ],
   "source": [
    "wc -l output\n",
    "wc -l output >> output\n",
    "cat output"
   ]
  },
  {
   "cell_type": "markdown",
   "metadata": {
    "slideshow": {
     "slide_type": "slide"
    }
   },
   "source": [
    "# Piping\n",
    "\n",
    "- Now we'll take a look at a mechanism for sending data from one program to another. \n",
    "- It's called **piping**.\n",
    "- The operator we use is ( | ).\n",
    "- Read data from standard input and send to standard output is utilized by a shell feature called pipelines with the format `command 1 | command 2`."
   ]
  },
  {
   "cell_type": "code",
   "execution_count": 6,
   "metadata": {
    "slideshow": {
     "slide_type": "fragment"
    }
   },
   "outputs": [
    {
     "name": "stdout",
     "output_type": "stream",
     "text": [
      "BDE-L0-intro.ipynb\n",
      "BDE-L0-intro.slides.html\n",
      "BDE-L10-sparkintro.ipynb\n"
     ]
    }
   ],
   "source": [
    "ls | head -3"
   ]
  },
  {
   "cell_type": "markdown",
   "metadata": {
    "slideshow": {
     "slide_type": "slide"
    }
   },
   "source": [
    "<br>\n",
    "<br>\n",
    "\n",
    "# Knowing your environment\n"
   ]
  },
  {
   "cell_type": "markdown",
   "metadata": {
    "slideshow": {
     "slide_type": "slide"
    }
   },
   "source": [
    "# Knowing your environment\n",
    "\n",
    "- `top`: shows you the processes running on your machine, ordered by resource consumption.\n",
    "- `free`: displays a simple readout of how much memory is used and available on your system.\n",
    "- `du`: short for *disk usage*. It's is extremely useful for estimating the size of directories."
   ]
  },
  {
   "cell_type": "code",
   "execution_count": 31,
   "metadata": {},
   "outputs": [
    {
     "name": "stdout",
     "output_type": "stream",
     "text": [
      "4.0K\t./spark-warehouse\n",
      "140K\t./.git/objects/8e\n",
      "28K\t./.git/objects/5e\n",
      "12K\t./.git/objects/bc\n",
      "8.0K\t./.git/objects/0f\n",
      "128K\t./.git/objects/f5\n",
      "8.0K\t./.git/objects/0b\n",
      "692K\t./.git/objects/f3\n",
      "8.0K\t./.git/objects/20\n",
      "184K\t./.git/objects/98\n",
      "8.0K\t./.git/objects/4b\n",
      "72K\t./.git/objects/ce\n",
      "568K\t./.git/objects/c7\n",
      "12K\t./.git/objects/f6\n",
      "20K\t./.git/objects/8a\n",
      "368K\t./.git/objects/cd\n",
      "12K\t./.git/objects/35\n",
      "12K\t./.git/objects/1a\n",
      "8.0K\t./.git/objects/b4\n",
      "8.0K\t./.git/objects/d7\n",
      "8.0K\t./.git/objects/c2 2\n",
      "8.0K\t./.git/objects/84 2\n",
      "72K\t./.git/objects/9c\n",
      "176K\t./.git/objects/33\n",
      "12K\t./.git/objects/b2\n",
      "8.0K\t./.git/objects/ad\n",
      "176K\t./.git/objects/53\n",
      "552K\t./.git/objects/32\n",
      "8.0K\t./.git/objects/60\n",
      "12K\t./.git/objects/65\n",
      "16K\t./.git/objects/ac\n",
      "8.0K\t./.git/objects/f7\n",
      "204K\t./.git/objects/db\n",
      "8.0K\t./.git/objects/90 2\n",
      "12K\t./.git/objects/1c\n",
      "16K\t./.git/objects/3a\n",
      "160K\t./.git/objects/a8\n",
      "12K\t./.git/objects/73 2\n",
      "12K\t./.git/objects/09 2\n",
      "20K\t./.git/objects/95\n",
      "48K\t./.git/objects/12\n",
      "8.0K\t./.git/objects/28\n",
      "8.0K\t./.git/objects/d3\n",
      "76K\t./.git/objects/f2\n",
      "164K\t./.git/objects/03\n",
      "12K\t./.git/objects/66\n",
      "624K\t./.git/objects/3f\n",
      "8.0K\t./.git/objects/7a\n",
      "8.0K\t./.git/objects/ea\n",
      "16K\t./.git/objects/d0\n",
      "80K\t./.git/objects/23\n",
      "12K\t./.git/objects/70\n",
      "84K\t./.git/objects/1f\n",
      "92K\t./.git/objects/fd\n",
      "8.0K\t./.git/objects/7e 2\n",
      "12K\t./.git/objects/3d\n",
      "8.0K\t./.git/objects/74\n",
      "12K\t./.git/objects/f1\n",
      "4.0K\t./.git/objects/info\n",
      "8.0K\t./.git/objects/50\n",
      "64K\t./.git/objects/90\n",
      "16K\t./.git/objects/00 2\n",
      "12K\t./.git/objects/f8\n",
      "8.0K\t./.git/objects/86\n",
      "8.0K\t./.git/objects/22\n",
      "8.0K\t./.git/objects/6d\n",
      "20K\t./.git/objects/cb\n",
      "12K\t./.git/objects/48\n",
      "12K\t./.git/objects/a0\n",
      "12K\t./.git/objects/8f\n",
      "12K\t./.git/objects/c9\n",
      "20K\t./.git/objects/07 2\n",
      "96K\t./.git/objects/44\n",
      "76K\t./.git/objects/5d\n",
      "12K\t./.git/objects/09\n",
      "60K\t./.git/objects/7f\n",
      "12K\t./.git/objects/a1 2\n",
      "80K\t./.git/objects/97\n",
      "4.0K\t./.git/objects/pack\n",
      "16K\t./.git/objects/0a\n",
      "12K\t./.git/objects/9e\n",
      "12K\t./.git/objects/dc 2\n",
      "12K\t./.git/objects/17\n",
      "8.0K\t./.git/objects/a5\n",
      "32K\t./.git/objects/31\n",
      "140K\t./.git/objects/91\n",
      "12K\t./.git/objects/43\n",
      "144K\t./.git/objects/2d\n",
      "276K\t./.git/objects/04\n",
      "44K\t./.git/objects/e9\n",
      "8.0K\t./.git/objects/d6\n",
      "136K\t./.git/objects/e8\n",
      "12K\t./.git/objects/8b\n",
      "68K\t./.git/objects/64\n",
      "8.0K\t./.git/objects/79 2\n",
      "8.0K\t./.git/objects/5c\n",
      "20K\t./.git/objects/2c\n",
      "8.0K\t./.git/objects/fa\n",
      "12K\t./.git/objects/4f\n",
      "12K\t./.git/objects/78 2\n",
      "12K\t./.git/objects/c8\n",
      "12K\t./.git/objects/c4\n",
      "8.0K\t./.git/objects/41\n",
      "8.0K\t./.git/objects/7e\n",
      "8.0K\t./.git/objects/fa 2\n",
      "84K\t./.git/objects/e3\n",
      "12K\t./.git/objects/15\n",
      "8.0K\t./.git/objects/05\n",
      "12K\t./.git/objects/a4\n",
      "132K\t./.git/objects/f9\n",
      "16K\t./.git/objects/bd\n",
      "16K\t./.git/objects/83\n",
      "24K\t./.git/objects/4e\n",
      "8.0K\t./.git/objects/d8\n",
      "12K\t./.git/objects/27\n",
      "12K\t./.git/objects/24\n",
      "16K\t./.git/objects/ba\n",
      "8.0K\t./.git/objects/8b 2\n",
      "8.0K\t./.git/objects/ec\n",
      "12K\t./.git/objects/e6\n",
      "16K\t./.git/objects/b8\n",
      "12K\t./.git/objects/63\n",
      "20K\t./.git/objects/07\n",
      "128K\t./.git/objects/36\n",
      "552K\t./.git/objects/94\n",
      "12K\t./.git/objects/58\n",
      "8.0K\t./.git/objects/6a\n",
      "12K\t./.git/objects/8f 2\n",
      "124K\t./.git/objects/68\n",
      "8.0K\t./.git/objects/c6\n",
      "12K\t./.git/objects/da\n",
      "16K\t./.git/objects/cc\n",
      "116K\t./.git/objects/55\n",
      "8.0K\t./.git/objects/34\n",
      "24K\t./.git/objects/08\n",
      "12K\t./.git/objects/7b\n",
      "108K\t./.git/objects/71\n",
      "12K\t./.git/objects/a0 2\n",
      "80K\t./.git/objects/6b\n",
      "8.0K\t./.git/objects/3b\n",
      "56K\t./.git/objects/7c\n",
      "8.0K\t./.git/objects/ca\n",
      "192K\t./.git/objects/fb\n",
      "12K\t./.git/objects/79\n",
      "316K\t./.git/objects/0d\n",
      "72K\t./.git/objects/b5\n",
      "256K\t./.git/objects/5a\n",
      "1.1M\t./.git/objects/16\n",
      "556K\t./.git/objects/ab\n",
      "24K\t./.git/objects/45\n",
      "172K\t./.git/objects/af\n",
      "12K\t./.git/objects/1b\n",
      "16K\t./.git/objects/e0\n",
      "12K\t./.git/objects/be\n",
      "16K\t./.git/objects/46\n",
      "8.0K\t./.git/objects/88\n",
      "12K\t./.git/objects/73\n",
      "32K\t./.git/objects/1e\n",
      "24K\t./.git/objects/c1\n",
      "20K\t./.git/objects/51\n",
      "8.0K\t./.git/objects/f0\n",
      "8.0K\t./.git/objects/52\n",
      "12K\t./.git/objects/a2\n",
      "8.0K\t./.git/objects/a3\n",
      "8.0K\t./.git/objects/49\n",
      "8.0K\t./.git/objects/3c\n",
      "16K\t./.git/objects/77\n",
      "240K\t./.git/objects/cf\n",
      "12K\t./.git/objects/de\n",
      "68K\t./.git/objects/38\n",
      "284K\t./.git/objects/e7\n",
      "8.0K\t./.git/objects/10\n",
      "248K\t./.git/objects/3e\n",
      "12K\t./.git/objects/b9\n",
      "76K\t./.git/objects/e5\n",
      "8.0K\t./.git/objects/02\n",
      "72K\t./.git/objects/2e\n",
      "140K\t./.git/objects/21\n",
      "80K\t./.git/objects/19\n",
      "124K\t./.git/objects/d9\n",
      "20K\t./.git/objects/40\n",
      "8.0K\t./.git/objects/61\n",
      "12K\t./.git/objects/ff\n",
      "24K\t./.git/objects/6e\n",
      "92K\t./.git/objects/e1\n",
      "4.8M\t./.git/objects/8d\n",
      "8.0K\t./.git/objects/19 2\n",
      "12K\t./.git/objects/96\n",
      "8.0K\t./.git/objects/d1\n",
      "20K\t./.git/objects/69\n",
      "80K\t./.git/objects/a1\n",
      "156K\t./.git/objects/82\n",
      "8.0K\t./.git/objects/29\n",
      "16K\t./.git/objects/80\n",
      "64K\t./.git/objects/75\n",
      "12K\t./.git/objects/63 2\n",
      "12K\t./.git/objects/80 2\n",
      "8.0K\t./.git/objects/26\n",
      "8.0K\t./.git/objects/a9 2\n",
      "12K\t./.git/objects/e4\n",
      "140K\t./.git/objects/4d\n",
      "132K\t./.git/objects/2f\n",
      "12K\t./.git/objects/dc\n",
      "8.0K\t./.git/objects/28 2\n",
      "168K\t./.git/objects/9b\n",
      "8.0K\t./.git/objects/06\n",
      "64K\t./.git/objects/76\n",
      "44K\t./.git/objects/59\n",
      "88K\t./.git/objects/25\n",
      "28K\t./.git/objects/fe\n",
      "132K\t./.git/objects/b3\n",
      "8.0K\t./.git/objects/1d\n",
      "8.0K\t./.git/objects/62\n",
      "128K\t./.git/objects/b1\n",
      "8.0K\t./.git/objects/d5\n",
      "12K\t./.git/objects/6c\n",
      "16K\t./.git/objects/d4\n",
      "76K\t./.git/objects/df\n",
      "8.0K\t./.git/objects/06 2\n",
      "476K\t./.git/objects/bf\n",
      "12K\t./.git/objects/13\n",
      "8.0K\t./.git/objects/2b\n",
      "8.0K\t./.git/objects/a9\n",
      "12K\t./.git/objects/8e 2\n",
      "8.0K\t./.git/objects/0e\n",
      "220K\t./.git/objects/30\n",
      "8.0K\t./.git/objects/56\n",
      "16K\t./.git/objects/cd 2\n",
      "8.0K\t./.git/objects/0c\n",
      "16K\t./.git/objects/ee\n",
      "8.0K\t./.git/objects/84\n",
      "16K\t./.git/objects/9d\n",
      "8.0K\t./.git/objects/85\n",
      "16K\t./.git/objects/e0 2\n",
      "8.0K\t./.git/objects/01\n",
      "16K\t./.git/objects/ae\n",
      "8.0K\t./.git/objects/c2\n",
      "184K\t./.git/objects/4c\n",
      "8.0K\t./.git/objects/a6 2\n",
      "12K\t./.git/objects/a6\n",
      "548K\t./.git/objects/b0\n",
      "132K\t./.git/objects/b6\n",
      "16K\t./.git/objects/2a\n",
      "124K\t./.git/objects/c0\n",
      "12K\t./.git/objects/78\n",
      "68K\t./.git/objects/8c\n",
      "16K\t./.git/objects/14\n",
      "12K\t./.git/objects/8a 2\n",
      "20K\t./.git/objects/00\n",
      "8.0K\t./.git/objects/a7\n",
      "12K\t./.git/objects/e2\n",
      "12K\t./.git/objects/4c 2\n",
      "76K\t./.git/objects/87\n",
      "12K\t./.git/objects/6b 2\n",
      "24K\t./.git/objects/92\n",
      "21M\t./.git/objects\n",
      "104K\t./.git/hooks\n",
      "8.0K\t./.git/refs/remotes/origin\n",
      "12K\t./.git/refs/remotes\n",
      "4.0K\t./.git/refs/tags\n",
      "12K\t./.git/refs/heads\n",
      "32K\t./.git/refs\n",
      "12K\t./.git/info\n",
      "8.0K\t./.git/logs/refs/remotes/origin\n",
      "12K\t./.git/logs/refs/remotes\n",
      "12K\t./.git/logs/refs/heads\n",
      "28K\t./.git/logs/refs\n",
      "36K\t./.git/logs\n",
      "22M\t./.git\n",
      "712K\t./.ipynb_checkpoints\n",
      "1.8M\t./figs\n",
      "16K\t./myspark\n",
      "16M\t./data/ml-100k\n",
      "404K\t./data/ebola/liberia_data\n",
      "92K\t./data/ebola/guinea_data\n",
      "416K\t./data/ebola/sl_data\n",
      "920K\t./data/ebola\n",
      "8.0K\t./data/.ipynb_checkpoints\n",
      "420K\t./data/microbiome\n",
      "23M\t./data\n",
      "12K\t./code/L5\n",
      "12K\t./code/L3\n",
      "8.0K\t./code/L9/wordcount\n",
      "12K\t./code/L9/movie\n",
      "4.0K\t./code/L9/stocks/.ipynb_checkpoints\n",
      "12K\t./code/L9/stocks\n",
      "36K\t./code/L9\n",
      "4.0K\t./code/L8/patent-avg/.ipynb_checkpoints\n",
      "20K\t./code/L8/patent-avg\n",
      "4.0K\t./code/L8/patent-max/.ipynb_checkpoints\n",
      "16K\t./code/L8/patent-max\n",
      "16K\t./code/L8/.airdelay-R\n",
      "4.0K\t./code/L8/.ipynb_checkpoints\n",
      "4.0K\t./code/L8/wordcount-py/.ipynb_checkpoints\n",
      "36K\t./code/L8/wordcount-py\n",
      "12K\t./code/L8/wordcount-sh\n",
      "108K\t./code/L8\n",
      "4.0K\t./code/.ipynb_checkpoints\n",
      "12K\t./code/L10\n",
      "196K\t./code\n",
      "57M\t.\n"
     ]
    }
   ],
   "source": [
    "du -h"
   ]
  },
  {
   "cell_type": "markdown",
   "metadata": {
    "slideshow": {
     "slide_type": "slide"
    }
   },
   "source": [
    "\n",
    "# References\n",
    "\n",
    "1. [Chapter 2 of Textbook.](https://feng.li/files/distcompbook/linux基础.html)\n",
    "2. [Linux tutorial.](https://ryanstutorials.net/linuxtutorial)\n",
    "3. [Vim shortcuts.](https://www.maketecheasier.com/vim-keyboard-shortcuts-cheatsheet/)"
   ]
  }
 ],
 "metadata": {
  "celltoolbar": "Slideshow",
  "kernelspec": {
   "display_name": "Bash",
   "language": "bash",
   "name": "bash"
  },
  "language_info": {
   "codemirror_mode": "shell",
   "file_extension": ".sh",
   "mimetype": "text/x-sh",
   "name": "bash"
  },
  "rise": {
   "autolaunch": true,
   "footer": "<h3>Big Data Essential, 2020 Autumn</h3>",
   "scroll": true,
   "theme": "solarized",
   "transition": "fade"
  }
 },
 "nbformat": 4,
 "nbformat_minor": 4
}
