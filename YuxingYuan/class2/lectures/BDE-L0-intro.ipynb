{
 "cells": [
  {
   "cell_type": "markdown",
   "metadata": {
    "slideshow": {
     "slide_type": "slide"
    }
   },
   "source": [
    "# Big Data Essentials\n",
    "#### L0: Course Information\n",
    "\n",
    "\n",
    "<br>\n",
    "<br>\n",
    "<br>\n",
    "<br>\n",
    "Yanfei Kang <br>\n",
    "yanfeikang@buaa.edu.cn <br>\n",
    "School of Economics and Management <br>\n",
    "Beihang University <br>\n",
    "http://yanfei.site <br>\n"
   ]
  },
  {
   "cell_type": "markdown",
   "metadata": {
    "slideshow": {
     "slide_type": "slide"
    }
   },
   "source": [
    "# General Information\n",
    "\n",
    "- Course: Big Data Essientials (2 credits).\n",
    "\n",
    "- Lecturer: Yanfei Kang.\n",
    "\n",
    "- Language: Taught in Chinese. Materials are in English.\n",
    "\n",
    "- Reception hours: Questions concerned with this course can be asked during or after each lecture or via email.\n",
    "\n",
    "- Lecture notes: available on on https://yanfei.site/teaching/bde.\n",
    "\n",
    "- [Textbook in Chinese.](https://feng.li/files/distcompbook/index.html) Many other reference materials will be given per lecture."
   ]
  },
  {
   "cell_type": "markdown",
   "metadata": {
    "slideshow": {
     "slide_type": "slide"
    }
   },
   "source": [
    "# More on lecture notes\n",
    "\n",
    "- Reproducible lecture notes.\n",
    "\n",
    "- Based on [Jupyter notebook](https://jupyter.org/), a web-based interactive development environment for Jupyter notebooks, code, and data.\n",
    "\n",
    "- You can save the *.ipynb files to local.\n",
    "\n",
    "- You can also edit and build your own lecture notes.\n",
    "\n",
    "- You will find both *interactive* and *static* slides.\n",
    "\n",
    "- Flexible as it is!"
   ]
  },
  {
   "cell_type": "markdown",
   "metadata": {
    "slideshow": {
     "slide_type": "slide"
    }
   },
   "source": [
    "# Unit objectives\n",
    "1. learn about various features of Big Data and its sources;\n",
    "2. program with Linux command lines;\n",
    "3. learn git for version control;\n",
    "4. learn statistical modeling and web scraping with Python;\n",
    "5. have an overview of the most popular Big Data technology - Hadoop/Hive/Spark;\n",
    "6. case studies to build a fundamental understanding of real world big data problems."
   ]
  },
  {
   "cell_type": "markdown",
   "metadata": {
    "slideshow": {
     "slide_type": "slide"
    }
   },
   "source": [
    "# Course contents\n",
    "\n",
    "- **Introduction to Big Data**\n",
    "- **Linux** \n",
    "    + Using Linux as a Data Scientist\n",
    "- **Git**\n",
    "    + Using Git for Version Control\n",
    "- **Python** \n",
    "    + Statistical Modeling with Python\n",
    "    + Web Scraping with Python \n",
    "- **Distributed computing** \n",
    "    + Introduction to Parallel Computing\n",
    "    + Exploring the World of Hadoop\n",
    "    + Hadoop Streaming\n",
    "    + Hive\n",
    "    + Spark\n",
    "- **Guest lecture with case studies** \n",
    "\n"
   ]
  }
 ],
 "metadata": {
  "celltoolbar": "Slideshow",
  "kernelspec": {
   "display_name": "Bash",
   "language": "bash",
   "name": "bash"
  },
  "language_info": {
   "codemirror_mode": "shell",
   "file_extension": ".sh",
   "mimetype": "text/x-sh",
   "name": "bash"
  },
  "rise": {
   "autolaunch": true,
   "footer": "<h3>Big Data Essential, 2020 Autumn</h3>",
   "scroll": true,
   "theme": "solarized",
   "transition": "fade"
  }
 },
 "nbformat": 4,
 "nbformat_minor": 4
}
