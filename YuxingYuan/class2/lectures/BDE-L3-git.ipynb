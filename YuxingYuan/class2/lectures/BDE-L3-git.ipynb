{
 "cells": [
  {
   "cell_type": "markdown",
   "metadata": {
    "slideshow": {
     "slide_type": "slide"
    }
   },
   "source": [
    "# Big Data Essentials\n",
    "#### L3: Using Git for Version Control\n",
    "\n",
    "\n",
    "<br>\n",
    "<br>\n",
    "<br>\n",
    "<br>\n",
    "Yanfei Kang <br>\n",
    "yanfeikang@buaa.edu.cn <br>\n",
    "School of Economics and Management <br>\n",
    "Beihang University <br>\n",
    "http://yanfei.site <br>\n"
   ]
  },
  {
   "cell_type": "markdown",
   "metadata": {
    "slideshow": {
     "slide_type": "slide"
    }
   },
   "source": [
    "# What is version control?\n",
    "\n",
    "- Practice of tracking and managing changes to software code.\n",
    "- Keeps track of every modification. \n",
    "- If a mistake is made, developers can turn back the clock.\n",
    "- Each member may make their changes in several parts of the file.\n",
    "- You wouldn't consider working without it even for non-software projects."
   ]
  },
  {
   "cell_type": "markdown",
   "metadata": {
    "slideshow": {
     "slide_type": "slide"
    }
   },
   "source": [
    "# Benefits of version control\n",
    "\n",
    "- A complete long-term change history of every file. \n",
    "- Branching and merging.\n",
    "- Traceability. \n"
   ]
  },
  {
   "cell_type": "markdown",
   "metadata": {
    "slideshow": {
     "slide_type": "slide"
    }
   },
   "source": [
    "# What is git?\n",
    "\n",
    "- A version control system which lets you track changes you make to your files over time.\n",
    "- With Git, you can revert to various states of your files (like a time traveling machine.\n",
    "- Not just for source code files – you can also use it to keep track of text files or even images.\n"
   ]
  },
  {
   "cell_type": "markdown",
   "metadata": {
    "slideshow": {
     "slide_type": "slide"
    }
   },
   "source": [
    "# How to install git?\n",
    "\n",
    "- Download the latest version on the [official website](https://git-scm.com/downloads)."
   ]
  },
  {
   "cell_type": "markdown",
   "metadata": {
    "slideshow": {
     "slide_type": "slide"
    }
   },
   "source": [
    "#  What is GitHub?\n",
    "\n",
    "- An online hosting service for Git repositories.\n",
    "\n"
   ]
  },
  {
   "cell_type": "markdown",
   "metadata": {
    "slideshow": {
     "slide_type": "slide"
    }
   },
   "source": [
    "# How to push a repository to GitHub?\n",
    "\n",
    "1. Create a GitHub account\n",
    "2. Create a repository\n",
    "3. Add and commit file(s)\n",
    "4. Push the repository to GitHub"
   ]
  },
  {
   "cell_type": "markdown",
   "metadata": {
    "slideshow": {
     "slide_type": "slide"
    }
   },
   "source": [
    "# How to add files?\n",
    "\n",
    "- When we first initialized our project by `git init`, the file was not being tracked by Git. \n",
    "- To do that, we use this command `git add .` \n",
    "- If you want to add a specific file, maybe one named `Readme.md`, you use `git add Readme.md`.\n",
    "- Now our file is in the staged state. You will not get a response after this command, but to know what state your file is in, you can run the `git status` command."
   ]
  },
  {
   "cell_type": "markdown",
   "metadata": {
    "slideshow": {
     "slide_type": "slide"
    }
   },
   "source": [
    "# How to commit files?\n",
    "- The next state for a file after the staged state is the committed state. To commit our file, we use the `git commit -m \"first commit\"` command.\n",
    "- The first part of the command `git commit` tells Git that all the files staged are ready to be committed so it is time to take a snapshot. \n",
    "- The second part `-m \"first commit\"` is the commit message. `-m` is shorthand for message while the text inside the parenthesis is the commit message."
   ]
  },
  {
   "cell_type": "markdown",
   "metadata": {
    "slideshow": {
     "slide_type": "slide"
    }
   },
   "source": [
    "# How to push the repository to GitHub?\n",
    "\n",
    "1. Create a connection between your local repo and the remote repo on Github.\n",
    "\n",
    "`git remote add origin https://github.com/ykang/***.git`\n",
    "\n",
    "2. Change your main branch's name to \"main\".\n",
    "\n",
    "`git branch -M main`\n",
    "\n",
    "3. Push your repo from your local device to GitHub. \n",
    "\n",
    "`git push -u origin main`"
   ]
  },
  {
   "cell_type": "markdown",
   "metadata": {
    "slideshow": {
     "slide_type": "slide"
    }
   },
   "source": [
    "# Creating branches\n",
    "\n",
    "- Branching lets you have different versions of a repository at one time.\n",
    "- By default, your repository has one branch named main.\n",
    "- When you create a branch off the main branch, you're making a copy, or snapshot, of main as it was at that point in time. \n",
    "- If someone else made changes to the main branch while you were working on your branch, you could pull in those updates.\n"
   ]
  },
  {
   "cell_type": "markdown",
   "metadata": {
    "slideshow": {
     "slide_type": "slide"
    }
   },
   "source": [
    "# Creating branches\n",
    "![](./figs/branching.png#center) "
   ]
  },
  {
   "cell_type": "markdown",
   "metadata": {
    "slideshow": {
     "slide_type": "slide"
    }
   },
   "source": [
    "# Creating new branches\n",
    "\n",
    "- Now let us go to github web and create a new branch.\n",
    "- `git branch -a` to see all branches.\n",
    "- `git checkout <branch-name>` to swith to another branch."
   ]
  },
  {
   "cell_type": "markdown",
   "metadata": {
    "slideshow": {
     "slide_type": "slide"
    }
   },
   "source": [
    "# Pull request\n",
    "\n",
    "- Now that you have changes in a branch off of `main`, you can open a pull request.\n",
    "- Pull requests are the heart of collaboration on GitHub. When you open a pull request, you're proposing your changes and requesting that someone review and pull in your contribution and merge them into their branch. "
   ]
  },
  {
   "cell_type": "markdown",
   "metadata": {
    "slideshow": {
     "slide_type": "slide"
    }
   },
   "source": [
    "# Merging your pull request\n",
    "\n",
    "- Merge your pull request if you agree with the changes."
   ]
  },
  {
   "cell_type": "markdown",
   "metadata": {
    "slideshow": {
     "slide_type": "slide"
    }
   },
   "source": [
    "# Folk a repo\n",
    "\n",
    "- A fork is a copy of a repository. Forking a repository allows you to freely experiment with changes without affecting the original project.\n",
    "- Most commonly, forks are used to either propose changes to someone else's project or to use someone else's project as a starting point for your own idea. You can fork a repository to create a copy of the repository and make changes without affecting the upstream repository. \n",
    "- For example, you can use forks to propose changes related to fixing a bug. Rather than logging an issue for a bug you've found, you can:\n",
    "    - Fork the repository.\n",
    "    - Make the fix.\n",
    "    - Submit a pull request to the project owner.\n"
   ]
  },
  {
   "cell_type": "markdown",
   "metadata": {
    "slideshow": {
     "slide_type": "slide"
    }
   },
   "source": [
    "# How to Pull a Repository in Git?\n",
    "\n",
    "`git clone YOUR_HTTPS_URL`\n"
   ]
  },
  {
   "cell_type": "markdown",
   "metadata": {
    "slideshow": {
     "slide_type": "slide"
    }
   },
   "source": [
    "# Your turn\n",
    "\n",
    "- Folk `BDE` repo to your github.\n",
    "- Pull this repo to local.\n",
    "- Make a directory with your full name.\n",
    "- Add some files.\n",
    "- Push.\n",
    "- Make a pull request."
   ]
  },
  {
   "cell_type": "markdown",
   "metadata": {
    "slideshow": {
     "slide_type": "slide"
    }
   },
   "source": [
    "- [Connect to github with ssh](https://docs.github.com/en/authentication/connecting-to-github-with-ssh).\n",
    "- Check the git log: `git log --author=\"ykang\"`\n",
    "- Check the status: `git status`\n",
    "- Check the diffs: `git diff Head~3`\n",
    "- Add a gitignore file that specifies intentionally untracked files that Git should ignore."
   ]
  },
  {
   "cell_type": "markdown",
   "metadata": {
    "slideshow": {
     "slide_type": "slide"
    }
   },
   "source": [
    "# References\n",
    "\n",
    "[Github Docs](https://docs.github.com/en/get-started/)"
   ]
  }
 ],
 "metadata": {
  "celltoolbar": "Slideshow",
  "kernelspec": {
   "display_name": "Bash",
   "language": "bash",
   "name": "bash"
  },
  "language_info": {
   "codemirror_mode": "shell",
   "file_extension": ".sh",
   "mimetype": "text/x-sh",
   "name": "bash"
  },
  "rise": {
   "autolaunch": true,
   "footer": "<h3>Big Data Essential, 2020 Autumn</h3>",
   "scroll": true,
   "theme": "solarized",
   "transition": "fade"
  }
 },
 "nbformat": 4,
 "nbformat_minor": 4
}
